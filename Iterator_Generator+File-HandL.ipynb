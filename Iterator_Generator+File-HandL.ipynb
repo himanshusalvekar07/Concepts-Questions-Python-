{
 "cells": [
  {
   "cell_type": "code",
   "execution_count": 11,
   "id": "38d2b6a7",
   "metadata": {},
   "outputs": [],
   "source": [
    "n='Himanshu'\n",
    "n1=iter(n)"
   ]
  },
  {
   "cell_type": "code",
   "execution_count": 12,
   "id": "16e3f3c9",
   "metadata": {},
   "outputs": [
    {
     "data": {
      "text/plain": [
       "'H'"
      ]
     },
     "execution_count": 12,
     "metadata": {},
     "output_type": "execute_result"
    }
   ],
   "source": [
    "next(n1)"
   ]
  },
  {
   "cell_type": "code",
   "execution_count": 17,
   "id": "177fa277",
   "metadata": {},
   "outputs": [
    {
     "name": "stdout",
     "output_type": "stream",
     "text": [
      "s\n",
      "a\n",
      "s\n",
      "a\n",
      "s\n",
      "a\n",
      "s\n",
      "a\n",
      "s\n",
      "\n",
      "From finally\n"
     ]
    }
   ],
   "source": [
    "n2='sasasasas'\n",
    "nn=iter(n2)\n",
    "try:\n",
    "    for i in range(12):\n",
    "        \n",
    "        print(next(nn))\n",
    "except Exception as e:\n",
    "    print(e)\n",
    "else:\n",
    "    print('From else')\n",
    "finally:\n",
    "    print('From finally')"
   ]
  },
  {
   "cell_type": "code",
   "execution_count": 41,
   "id": "23450267",
   "metadata": {},
   "outputs": [],
   "source": [
    "n='himanshu'"
   ]
  },
  {
   "cell_type": "code",
   "execution_count": 42,
   "id": "5fbc811e",
   "metadata": {},
   "outputs": [],
   "source": [
    "n1=iter(n)"
   ]
  },
  {
   "cell_type": "code",
   "execution_count": 52,
   "id": "3bd341ed",
   "metadata": {},
   "outputs": [
    {
     "name": "stdout",
     "output_type": "stream",
     "text": [
      "\n"
     ]
    }
   ],
   "source": [
    "try:\n",
    "    print(next(n1))\n",
    "except StopIteration as e:\n",
    "    print(e)\n"
   ]
  },
  {
   "cell_type": "code",
   "execution_count": 53,
   "id": "029ceee6",
   "metadata": {},
   "outputs": [],
   "source": [
    "a=56"
   ]
  },
  {
   "cell_type": "code",
   "execution_count": 54,
   "id": "eefd377b",
   "metadata": {},
   "outputs": [
    {
     "name": "stdout",
     "output_type": "stream",
     "text": [
      "'int' object is not iterable\n"
     ]
    }
   ],
   "source": [
    "try:\n",
    "    a=iter(a)\n",
    "except Exception as e:\n",
    "    print(e)"
   ]
  },
  {
   "cell_type": "code",
   "execution_count": 59,
   "id": "be62b3c8",
   "metadata": {},
   "outputs": [],
   "source": [
    "def gensqr(n):\n",
    "    for i in range(n):\n",
    "        print(i**2)"
   ]
  },
  {
   "cell_type": "code",
   "execution_count": 60,
   "id": "63413eda",
   "metadata": {},
   "outputs": [
    {
     "name": "stdout",
     "output_type": "stream",
     "text": [
      "0\n",
      "1\n",
      "4\n",
      "9\n",
      "16\n"
     ]
    }
   ],
   "source": [
    "gensqr(5)"
   ]
  },
  {
   "cell_type": "code",
   "execution_count": null,
   "id": "03b4e41a",
   "metadata": {},
   "outputs": [],
   "source": [
    "'''\n",
    "def gencube(n):\n",
    "for i  in range(n):\n",
    "yield i**3\n",
    "\n",
    "'''"
   ]
  },
  {
   "cell_type": "code",
   "execution_count": null,
   "id": "2acf70f2",
   "metadata": {},
   "outputs": [],
   "source": [
    "'''\n",
    "for i in gencube(90000):\n",
    "print(i)\n",
    "\n",
    "\n",
    "'''"
   ]
  },
  {
   "cell_type": "code",
   "execution_count": 73,
   "id": "2f84dfd6",
   "metadata": {},
   "outputs": [],
   "source": [
    "def fib(n):\n",
    "    '''\n",
    "    This function generates the fibonacci series for n-Input terms.\n",
    "    '''\n",
    "    a=1\n",
    "    b=1\n",
    "    for i in range(n):\n",
    "        yield a,i\n",
    "        a,b=b,a+b\n",
    "        "
   ]
  },
  {
   "cell_type": "code",
   "execution_count": 74,
   "id": "38ca8448",
   "metadata": {},
   "outputs": [
    {
     "name": "stdout",
     "output_type": "stream",
     "text": [
      "(1, 0)\n",
      "(1, 1)\n",
      "(2, 2)\n",
      "(3, 3)\n",
      "(5, 4)\n"
     ]
    }
   ],
   "source": [
    "for i in fib(5):\n",
    "    print(i)"
   ]
  },
  {
   "cell_type": "code",
   "execution_count": 91,
   "id": "11aa34da",
   "metadata": {},
   "outputs": [],
   "source": [
    "f=open(\"test2.txt\",'w')"
   ]
  },
  {
   "cell_type": "code",
   "execution_count": 80,
   "id": "e8b4564b",
   "metadata": {},
   "outputs": [
    {
     "data": {
      "text/plain": [
       "'C:\\\\Users\\\\devas\\\\Desktop\\\\sample_project_1'"
      ]
     },
     "execution_count": 80,
     "metadata": {},
     "output_type": "execute_result"
    }
   ],
   "source": [
    "pwd()"
   ]
  },
  {
   "cell_type": "code",
   "execution_count": 96,
   "id": "ad1c7d85",
   "metadata": {
    "scrolled": true
   },
   "outputs": [
    {
     "name": "stdout",
     "output_type": "stream",
     "text": [
      " Volume in drive C is OS\n",
      " Volume Serial Number is DA70-7AC6\n",
      "\n",
      " Directory of C:\\Users\\devas\\Desktop\\sample_project_1\n",
      "\n",
      "16-01-2023  19:41    <DIR>          .\n",
      "09-01-2023  15:06    <DIR>          ..\n",
      "16-01-2023  19:02    <DIR>          .ipynb_checkpoints\n",
      "26-12-2022  14:14    <DIR>          __pycache__\n",
      "12-01-2023  15:05            51,867 car.data\n",
      "13-07-2022  22:52               369 car-sales.csv\n",
      "15-07-2022  17:48               287 car-sales-missing-data.csv\n",
      "15-01-2023  14:00    <DIR>          DataBases\n",
      "12-07-2022  19:20    <DIR>          env\n",
      "07-01-2023  12:55            47,588 Exceptional_handling+.ipynb\n",
      "15-01-2023  17:04               992 file_class.log\n",
      "27-12-2022  18:00                21 functions task\n",
      "02-11-2022  11:39             1,763 functions task.txt\n",
      "06-01-2023  16:35            11,903 glass (1).data\n",
      "13-07-2022  22:02            11,328 heart-disease.csv\n",
      "07-12-2022  22:37           153,578 HimanshuSalvekar_Resume_PDF.pdf\n",
      "01-12-2022  22:40             5,952 INeu-Assn-4.0.ipynb\n",
      "15-01-2023  13:07    <DIR>          Ineuron_Assignments\n",
      "23-11-2022  15:31            38,181 Ineuron1.ipynb\n",
      "04-12-2022  18:58                16 ineuron1.txt\n",
      "05-11-2022  07:04             2,917 INeuron-Assignment.ipynb\n",
      "09-01-2023  09:15            53,090 INeuron-Functions.ipynb\n",
      "05-11-2022  05:50            17,601 INeuron-List,Tuple,Set and Dicts.ipynb\n",
      "31-10-2022  12:45             5,711 INeuron-Loops,Tuples&Lists .ipynb\n",
      "15-01-2023  17:07    <DIR>          Ineuron-Python_Study_material\n",
      "01-12-2022  22:41            74,185 Introduction-To-NumPy.ipynb\n",
      "29-12-2022  16:02           343,277 Introduction-To-Pandas.ipynb\n",
      "16-01-2023  19:36             9,713 Iterator_Generator+File-HandL.ipynb\n",
      "13-12-2022  21:07             6,062 Logging.ipynb\n",
      "14-01-2023  19:10            58,605 MongoDB-1.ipynb\n",
      "14-01-2023  19:25            13,782 MongoDB-2.ipynb\n",
      "26-12-2022  13:47                 0 mydict.py\n",
      "26-12-2022  13:51               572 mydictionary.py\n",
      "26-12-2022  13:25                 0 mylist.py\n",
      "26-12-2022  14:13               438 mylists.py\n",
      "12-01-2023  17:08            88,611 MySQL(Basics).ipynb\n",
      "12-01-2023  16:25           311,100 MySQL(Basics+).ipynb\n",
      "12-01-2023  17:33           143,808 MySQL-3.ipynb\n",
      "15-01-2023  17:11            69,580 OOPs-1.ipynb\n",
      "25-11-2022  21:06            43,541 part 1 solutions.ipynb\n",
      "31-12-2022  13:28             5,449 Password_Strength_Problem.ipynb\n",
      "02-12-2022  23:17            42,063 Practice-Questions.ipynb\n",
      "29-12-2022  15:48             6,297 PyBasicAssn-3_Ineuron.ipynb\n",
      "31-12-2022  13:25            23,229 questions.ipynb\n",
      "09-05-2022  20:01            20,212 Sadhguru.docx\n",
      "12-01-2023  17:20           358,211 sql day 2 .ipynb\n",
      "02-12-2022  13:00             8,239 task questions part 2.ipynb\n",
      "15-01-2023  16:45                59 test.txt\n",
      "16-01-2023  19:41                50 test0.txt\n",
      "15-01-2023  17:04                59 test1.txt\n",
      "16-01-2023  19:35                69 test2.txt\n",
      "06-01-2023  00:18             3,850 Untitled.ipynb\n",
      "26-12-2022  13:05             8,132 Untitled1.ipynb\n",
      "              45 File(s)      2,042,357 bytes\n",
      "               8 Dir(s)  275,080,151,040 bytes free\n"
     ]
    }
   ],
   "source": [
    "ls"
   ]
  },
  {
   "cell_type": "code",
   "execution_count": 93,
   "id": "88c622a9",
   "metadata": {},
   "outputs": [
    {
     "data": {
      "text/plain": [
       "69"
      ]
     },
     "execution_count": 93,
     "metadata": {},
     "output_type": "execute_result"
    }
   ],
   "source": [
    "f.write(\"This is first time file operation in my test2.txt my name's Himanshu.\")"
   ]
  },
  {
   "cell_type": "code",
   "execution_count": 94,
   "id": "3e854763",
   "metadata": {},
   "outputs": [],
   "source": [
    "f.close()"
   ]
  },
  {
   "cell_type": "code",
   "execution_count": 95,
   "id": "72122245",
   "metadata": {},
   "outputs": [
    {
     "name": "stdout",
     "output_type": "stream",
     "text": [
      "Writing test0.txt\n"
     ]
    }
   ],
   "source": [
    "%%writefile test0.txt\n",
    "this is a data I would like to store in my file."
   ]
  },
  {
   "cell_type": "code",
   "execution_count": 97,
   "id": "be62b224",
   "metadata": {},
   "outputs": [],
   "source": [
    "f=open('test2.txt')"
   ]
  },
  {
   "cell_type": "code",
   "execution_count": 98,
   "id": "7998ee02",
   "metadata": {},
   "outputs": [
    {
     "data": {
      "text/plain": [
       "\"This is first time file operation in my test2.txt my name's Himanshu.\""
      ]
     },
     "execution_count": 98,
     "metadata": {},
     "output_type": "execute_result"
    }
   ],
   "source": [
    "f.read()"
   ]
  },
  {
   "cell_type": "code",
   "execution_count": 22,
   "id": "72205e4b",
   "metadata": {},
   "outputs": [],
   "source": [
    "try:\n",
    "    f=open('test3.txt','r+')\n",
    "except Exception as e:\n",
    "    print(e)\n"
   ]
  },
  {
   "cell_type": "code",
   "execution_count": 14,
   "id": "cc3332f7",
   "metadata": {},
   "outputs": [],
   "source": [
    "try:\n",
    "    f.write(\"asasasasasasddddd aaaaaaaaaaaaaas ssssssss ahsjaqywths qwerty\")\n",
    "    f.close()\n",
    "except:\n",
    "    print(\"Didn't work.\")\n",
    "\n",
    "    "
   ]
  },
  {
   "cell_type": "code",
   "execution_count": 23,
   "id": "fcd70e7b",
   "metadata": {},
   "outputs": [
    {
     "data": {
      "text/plain": [
       "'asasasasasasddddd aaaaaaaaaaaaaas ssssssss ahsjaqywths qwerty'"
      ]
     },
     "execution_count": 23,
     "metadata": {},
     "output_type": "execute_result"
    }
   ],
   "source": [
    "f.read()"
   ]
  },
  {
   "cell_type": "code",
   "execution_count": 24,
   "id": "98fdbedc",
   "metadata": {},
   "outputs": [
    {
     "data": {
      "text/plain": [
       "0"
      ]
     },
     "execution_count": 24,
     "metadata": {},
     "output_type": "execute_result"
    }
   ],
   "source": [
    "f.seek(0)"
   ]
  },
  {
   "cell_type": "code",
   "execution_count": 25,
   "id": "60a18bf2",
   "metadata": {},
   "outputs": [
    {
     "data": {
      "text/plain": [
       "0"
      ]
     },
     "execution_count": 25,
     "metadata": {},
     "output_type": "execute_result"
    }
   ],
   "source": [
    "f.tell()"
   ]
  },
  {
   "cell_type": "code",
   "execution_count": 26,
   "id": "f29b1961",
   "metadata": {},
   "outputs": [
    {
     "data": {
      "text/plain": [
       "'asasasasasasddddd aaaaaaaaaaaaaas ssssssss ahsjaqywths qwerty'"
      ]
     },
     "execution_count": 26,
     "metadata": {},
     "output_type": "execute_result"
    }
   ],
   "source": [
    "f.readlines()"
   ]
  },
  {
   "cell_type": "code",
   "execution_count": 30,
   "id": "3704f807",
   "metadata": {},
   "outputs": [
    {
     "name": "stdout",
     "output_type": "stream",
     "text": [
      "Toppr asa sas asa sasa sas asasasa sasa s "
     ]
    }
   ],
   "source": [
    "print(\"Toppr asa sas asa sasa sas asasasa sasa s\",end=' ')"
   ]
  },
  {
   "cell_type": "code",
   "execution_count": 78,
   "id": "7db64f89",
   "metadata": {},
   "outputs": [],
   "source": [
    "f1=open('test4.txt','r+')"
   ]
  },
  {
   "cell_type": "code",
   "execution_count": 37,
   "id": "5a9d89e5",
   "metadata": {},
   "outputs": [
    {
     "data": {
      "text/plain": [
       "88"
      ]
     },
     "execution_count": 37,
     "metadata": {},
     "output_type": "execute_result"
    }
   ],
   "source": [
    "f1.write(\"asasasasasasasasasqksqlskqlksqlkslqkslqks,ams,ams,amsaskajs,asmajsamsnakhajhjkhkhkjHASJH\")"
   ]
  },
  {
   "cell_type": "code",
   "execution_count": 38,
   "id": "40af545b",
   "metadata": {},
   "outputs": [
    {
     "data": {
      "text/plain": [
       "8"
      ]
     },
     "execution_count": 38,
     "metadata": {},
     "output_type": "execute_result"
    }
   ],
   "source": [
    "f1.write(\"asasasas\")"
   ]
  },
  {
   "cell_type": "code",
   "execution_count": 77,
   "id": "6c5de002",
   "metadata": {},
   "outputs": [],
   "source": [
    "f1.close()"
   ]
  },
  {
   "cell_type": "code",
   "execution_count": 49,
   "id": "65618866",
   "metadata": {},
   "outputs": [
    {
     "ename": "ValueError",
     "evalue": "I/O operation on closed file.",
     "output_type": "error",
     "traceback": [
      "\u001b[1;31m---------------------------------------------------------------------------\u001b[0m",
      "\u001b[1;31mValueError\u001b[0m                                Traceback (most recent call last)",
      "\u001b[1;32m<ipython-input-49-37b5aaabe274>\u001b[0m in \u001b[0;36m<module>\u001b[1;34m\u001b[0m\n\u001b[1;32m----> 1\u001b[1;33m \u001b[0mf1\u001b[0m\u001b[1;33m.\u001b[0m\u001b[0mwrite\u001b[0m\u001b[1;33m(\u001b[0m\u001b[1;34m\"himasnhu nhiasnh ajsajshqys hajshuqhsjas ahsjahsjahsaksajhsjjjjjjjjjjjjjjjjjjjjjjjjjjjjjjjjjjjjjjjjjjjjjjjjjjjjjjjjjjjjjjjjjjjjjjjjjjjjjjjjjjjjj\"\u001b[0m\u001b[1;33m)\u001b[0m\u001b[1;33m\u001b[0m\u001b[1;33m\u001b[0m\u001b[0m\n\u001b[0m",
      "\u001b[1;31mValueError\u001b[0m: I/O operation on closed file."
     ]
    }
   ],
   "source": [
    "f1.write(\"himasnhu nhiasnh ajsajshqys hajshuqhsjas ahsjahsjahsaksajhsjjjjjjjjjjjjjjjjjjjjjjjjjjjjjjjjjjjjjjjjjjjjjjjjjjjjjjjjjjjjjjjjjjjjjjjjjjjjjjjjjjjjj\")"
   ]
  },
  {
   "cell_type": "code",
   "execution_count": 76,
   "id": "4f6e3798",
   "metadata": {},
   "outputs": [
    {
     "data": {
      "text/plain": [
       "40"
      ]
     },
     "execution_count": 76,
     "metadata": {},
     "output_type": "execute_result"
    }
   ],
   "source": [
    "f1.write(\"zzzzzzzzzzzzzzzzzzzzzzzzzzzzzzzzzzzzzzzz\")"
   ]
  },
  {
   "cell_type": "code",
   "execution_count": 75,
   "id": "fbaa9324",
   "metadata": {},
   "outputs": [
    {
     "data": {
      "text/plain": [
       "170"
      ]
     },
     "execution_count": 75,
     "metadata": {},
     "output_type": "execute_result"
    }
   ],
   "source": [
    "f1.seek(170)"
   ]
  },
  {
   "cell_type": "code",
   "execution_count": 73,
   "id": "0c1b4e45",
   "metadata": {},
   "outputs": [
    {
     "data": {
      "text/plain": [
       "'himasnhu salvekar shantanus hajshuqhsjas ahsjahsjahsaksajhsjjjjjjjjjjjjjjjjjjjjjjjjjjjjjjjjjjjjjjjjjjjjjjjjjjjjjjjjjjjjjjjjjjjjjjjjjjjjjjjjjjjjjhimasnhu salvekar shantanu'"
      ]
     },
     "execution_count": 73,
     "metadata": {},
     "output_type": "execute_result"
    }
   ],
   "source": [
    "f1.read()"
   ]
  },
  {
   "cell_type": "code",
   "execution_count": 74,
   "id": "a84e019b",
   "metadata": {},
   "outputs": [
    {
     "data": {
      "text/plain": [
       "170"
      ]
     },
     "execution_count": 74,
     "metadata": {},
     "output_type": "execute_result"
    }
   ],
   "source": [
    "f1.tell()"
   ]
  },
  {
   "cell_type": "code",
   "execution_count": 8,
   "id": "ee2408b1",
   "metadata": {},
   "outputs": [],
   "source": [
    "f2=open(\"test5.txt\",\"r+\")"
   ]
  },
  {
   "cell_type": "code",
   "execution_count": 9,
   "id": "8f8b3a6f",
   "metadata": {},
   "outputs": [
    {
     "data": {
      "text/plain": [
       "1908"
      ]
     },
     "execution_count": 9,
     "metadata": {},
     "output_type": "execute_result"
    }
   ],
   "source": [
    "f2.write(\"As of 2015, Khan is co-chairman of the motion picture production company Red Chillies Entertainment and its subsidiaries, and is the co-owner of the Indian Premier League cricket team Kolkata Knight Riders and the Caribbean Premier League team Trinbago Knight Riders. He is a frequent television presenter and stage show performer. The media often label him as Brand SRK because of his many endorsement and entrepreneurship ventures. Khan's philanthropic endeavours have provided health care and disaster relief, and he was honoured with UNESCO's Pyramide con Marni award in 2011 for his support of children's education and the World Economic Forum's Crystal Award in 2018 for advocating for women's and children's rights in India. He regularly features in listings of the most influential people in Indian culture, and in 2008, Newsweek named him one of their fifty most powerful people in the world.\\n Khan began his career with appearances in several television series in the late 1980s. He made his Bollywood debut in 1992 with Deewana. Early in his career, Khan was recognised for portraying villainous roles in the films Baazigar (1993) and Darr (1993). He established himself by starring in a series of romantic films, including Dilwale Dulhania Le Jayenge (1995), Dil To Pagal Hai (1997), Kuch Kuch Hota Hai (1998), Mohabbatein (2000) and Kabhi Khushi Kabhie Gham... (2001). Khan earned critical acclaim for his portrayal of an alcoholic in Devdas (2002), a NASA scientist in Swades (2004), a hockey coach in Chak De! India (2007) and a man with Asperger syndrome in My Name Is Khan (2010). His highest-grossing films include the comedies Chennai Express (2013), Happy New Year (2014) and Dilwale (2015), and the crime film Raees (2017). Many of his films thematise Indian national identity and connections with diaspora communities, or gender, racial, social and religious differences and grievances.\")"
   ]
  },
  {
   "cell_type": "code",
   "execution_count": 10,
   "id": "c240bf7a",
   "metadata": {},
   "outputs": [
    {
     "data": {
      "text/plain": [
       "'asasasasasasasaasasasasasa'"
      ]
     },
     "execution_count": 10,
     "metadata": {},
     "output_type": "execute_result"
    }
   ],
   "source": [
    "f2.readline()"
   ]
  },
  {
   "cell_type": "code",
   "execution_count": 11,
   "id": "1580bd4d",
   "metadata": {},
   "outputs": [
    {
     "data": {
      "text/plain": [
       "66"
      ]
     },
     "execution_count": 11,
     "metadata": {},
     "output_type": "execute_result"
    }
   ],
   "source": [
    "f2.seek(66)"
   ]
  },
  {
   "cell_type": "code",
   "execution_count": 137,
   "id": "22b6545b",
   "metadata": {},
   "outputs": [
    {
     "data": {
      "text/plain": [
       "6654"
      ]
     },
     "execution_count": 137,
     "metadata": {},
     "output_type": "execute_result"
    }
   ],
   "source": [
    "f2.tell()"
   ]
  },
  {
   "cell_type": "code",
   "execution_count": 139,
   "id": "9858e4da",
   "metadata": {},
   "outputs": [],
   "source": [
    "f2.close()"
   ]
  },
  {
   "cell_type": "code",
   "execution_count": 133,
   "id": "c18aa390",
   "metadata": {},
   "outputs": [
    {
     "ename": "ValueError",
     "evalue": "I/O operation on closed file.",
     "output_type": "error",
     "traceback": [
      "\u001b[1;31m---------------------------------------------------------------------------\u001b[0m",
      "\u001b[1;31mValueError\u001b[0m                                Traceback (most recent call last)",
      "\u001b[1;32m<ipython-input-133-92e916e617ec>\u001b[0m in \u001b[0;36m<module>\u001b[1;34m\u001b[0m\n\u001b[1;32m----> 1\u001b[1;33m \u001b[0mf2\u001b[0m\u001b[1;33m.\u001b[0m\u001b[0mreadline\u001b[0m\u001b[1;33m(\u001b[0m\u001b[1;33m)\u001b[0m\u001b[1;33m\u001b[0m\u001b[1;33m\u001b[0m\u001b[0m\n\u001b[0m",
      "\u001b[1;31mValueError\u001b[0m: I/O operation on closed file."
     ]
    }
   ],
   "source": [
    "f2.readline()"
   ]
  },
  {
   "cell_type": "code",
   "execution_count": 138,
   "id": "56b80985",
   "metadata": {},
   "outputs": [
    {
     "data": {
      "text/plain": [
       "28"
      ]
     },
     "execution_count": 138,
     "metadata": {},
     "output_type": "execute_result"
    }
   ],
   "source": [
    "f2.write('\\n Salvekar salvekar salvekar')"
   ]
  },
  {
   "cell_type": "code",
   "execution_count": 135,
   "id": "0a95bebc",
   "metadata": {},
   "outputs": [
    {
     "data": {
      "text/plain": [
       "\"As of 2015, Khan is co-chairman of the motion picture production company Red Chillies Entertainment and its subsidiaries, and is the co-owner of the Indian Premier League cricket team Kolkata Knight Riders and the Caribbean Premier League team Trinbago Knight Riders. He is a frequent television presenter and stage show performer. The media often label him as Brand SRK because of his many endorsement and entrepreneurship ventures. Khan's philanthropic endeavours have provided health care and disaster relief, and he was honoured with UNESCO's Pyramide con Marni award in 2011 for his support of children's education and the World Economic Forum's Crystal Award in 2018 for advocating for women's and children's rights in India. He regularly features in listings of the most influential people in Indian culture, and in 2008, Newsweek named him one of their fifty most powerful people in the world.As of 2015, Khan is co-chairman of the motion picture production company Red Chillies Entertainment and its subsidiaries, and is the co-owner of the Indian Premier League cricket team Kolkata Knight Riders and the Caribbean Premier League team Trinbago Knight Riders. He is a frequent television presenter and stage show performer. The media often label him as Brand SRK because of his many endorsement and entrepreneurship ventures. Khan's philanthropic endeavours have provided health care and disaster relief, and he was honoured with UNESCO's Pyramide con Marni award in 2011 for his support of children's education and the World Economic Forum's Crystal Award in 2018 for advocating for women's and children's rights in India. He regularly features in listings of the most influential people in Indian culture, and in 2008, Newsweek named him one of their fifty most powerful people in the world.\\nKhan began his career with appearances in several television series in the late 1980s. He made his Bollywood debut in 1992 with Deewana. Early in his career, Khan was recognised for portraying villainous roles in the films Baazigar (1993) and Darr (1993). He established himself by starring in a series of romantic films, including Dilwale Dulhania Le Jayenge (1995), Dil To Pagal Hai (1997), Kuch Kuch Hota Hai (1998), Mohabbatein (2000) and Kabhi Khushi Kabhie Gham... (2001). Khan earned critical acclaim for his portrayal of an alcoholic in Devdas (2002), a NASA scientist in Swades (2004), a hockey coach in Chak De! India (2007) and a man with Asperger syndrome in My Name Is Khan (2010). His highest-grossing films include the comedies Chennai Express (2013), Happy New Year (2014) and Dilwale (2015), and the crime film Raees (2017). Many of his films thematise Indian national identity and connections with diaspora communities, or gender, racial, social and religious differences and grievances.As of 2015, Khan is co-chairman of the motion picture production company Red Chillies Entertainment and its subsidiaries, and is the co-owner of the Indian Premier League cricket team Kolkata Knight Riders and the Caribbean Premier League team Trinbago Knight Riders. He is a frequent television presenter and stage show performer. The media often label him as Brand SRK because of his many endorsement and entrepreneurship ventures. Khan's philanthropic endeavours have provided health care and disaster relief, and he was honoured with UNESCO's Pyramide con Marni award in 2011 for his support of children's education and the World Economic Forum's Crystal Award in 2018 for advocating for women's and children's rights in India. He regularly features in listings of the most influential people in Indian culture, and in 2008, Newsweek named him one of their fifty most powerful people in the world.\\n Khan began his career with appearances in several television series in the late 1980s. He made his Bollywood debut in 1992 with Deewana. Early in his career, Khan was recognised for portraying villainous roles in the films Baazigar (1993) and Darr (1993). He established himself by starring in a series of romantic films, including Dilwale Dulhania Le Jayenge (1995), Dil To Pagal Hai (1997), Kuch Kuch Hota Hai (1998), Mohabbatein (2000) and Kabhi Khushi Kabhie Gham... (2001). Khan earned critical acclaim for his portrayal of an alcoholic in Devdas (2002), a NASA scientist in Swades (2004), a hockey coach in Chak De! India (2007) and a man with Asperger syndrome in My Name Is Khan (2010). His highest-grossing films include the comedies Chennai Express (2013), Happy New Year (2014) and Dilwale (2015), and the crime film Raees (2017). Many of his films thematise Indian national identity and connections with diaspora communities, or gender, racial, social and religious differences and grievances.As of 2015, Khan is co-chairman of the motion picture production company Red Chillies Entertainment and its subsidiaries, and is the co-owner of the Indian Premier League cricket team Kolkata Knight Riders and the Caribbean Premier League team Trinbago Knight Riders. He is a frequent television presenter and stage show performer. The media often label him as Brand SRK because of his many endorsement and entrepreneurship ventures. Khan's philanthropic endeavours have provided health care and disaster relief, and he was honoured with UNESCO's Pyramide con Marni award in 2011 for his support of children's education and the World Economic Forum's Crystal Award in 2018 for advocating for women's and children's rights in India. He regularly features in listings of the most influential people in Indian culture, and in 2008, Newsweek named him one of their fifty most powerful people in the world.\\n Khan began his career with appearances in several television series in the late 1980s. He made his Bollywood debut in 1992 with Deewana. Early in his career, Khan was recognised for portraying villainous roles in the films Baazigar (1993) and Darr (1993). He established himself by starring in a series of romantic films, including Dilwale Dulhania Le Jayenge (1995), Dil To Pagal Hai (1997), Kuch Kuch Hota Hai (1998), Mohabbatein (2000) and Kabhi Khushi Kabhie Gham... (2001). Khan earned critical acclaim for his portrayal of an alcoholic in Devdas (2002), a NASA scientist in Swades (2004), a hockey coach in Chak De! India (2007) and a man with Asperger syndrome in My Name Is Khan (2010). His highest-grossing films include the comedies Chennai Express (2013), Happy New Year (2014) and Dilwale (2015), and the crime film Raees (2017). Many of his films thematise Indian national identity and connections with diaspora communities, or gender, racial, social and religious differences and grievances.Himanshuahskajajajajajajaja\""
      ]
     },
     "execution_count": 135,
     "metadata": {},
     "output_type": "execute_result"
    }
   ],
   "source": [
    "f2.read()"
   ]
  },
  {
   "cell_type": "code",
   "execution_count": 160,
   "id": "635e8ab3",
   "metadata": {},
   "outputs": [],
   "source": [
    "f=open(\"Test.txt\",'r+')"
   ]
  },
  {
   "cell_type": "code",
   "execution_count": 144,
   "id": "578957ce",
   "metadata": {},
   "outputs": [
    {
     "data": {
      "text/plain": [
       "98"
      ]
     },
     "execution_count": 144,
     "metadata": {},
     "output_type": "execute_result"
    }
   ],
   "source": [
    "f.write(\"himasnhi himasnhi mhimasnhu ajsjahshjhajhsjahs/najshajhsjahsjhsjah/njahsjahsjahsjash/shhshshhshshs\")"
   ]
  },
  {
   "cell_type": "code",
   "execution_count": 165,
   "id": "1b4dacf7",
   "metadata": {},
   "outputs": [],
   "source": [
    "f.close()"
   ]
  },
  {
   "cell_type": "code",
   "execution_count": 163,
   "id": "848bc284",
   "metadata": {},
   "outputs": [
    {
     "data": {
      "text/plain": [
       "''"
      ]
     },
     "execution_count": 163,
     "metadata": {},
     "output_type": "execute_result"
    }
   ],
   "source": [
    "f.read()"
   ]
  },
  {
   "cell_type": "code",
   "execution_count": 162,
   "id": "3b562717",
   "metadata": {},
   "outputs": [
    {
     "data": {
      "text/plain": [
       "208"
      ]
     },
     "execution_count": 162,
     "metadata": {},
     "output_type": "execute_result"
    }
   ],
   "source": [
    "f.tell()"
   ]
  },
  {
   "cell_type": "code",
   "execution_count": 157,
   "id": "9602c4c2",
   "metadata": {},
   "outputs": [
    {
     "data": {
      "text/plain": [
       "145"
      ]
     },
     "execution_count": 157,
     "metadata": {},
     "output_type": "execute_result"
    }
   ],
   "source": [
    "f.seek(145)"
   ]
  },
  {
   "cell_type": "code",
   "execution_count": 164,
   "id": "08a28b07",
   "metadata": {},
   "outputs": [
    {
     "data": {
      "text/plain": [
       "45"
      ]
     },
     "execution_count": 164,
     "metadata": {},
     "output_type": "execute_result"
    }
   ],
   "source": [
    "f.write(\"122332121212121212121212\\n121212\\n121212\\n121212\")"
   ]
  },
  {
   "cell_type": "code",
   "execution_count": 203,
   "id": "fa6f18ae",
   "metadata": {},
   "outputs": [],
   "source": [
    "f=open(\"test6.txt\",'r+')"
   ]
  },
  {
   "cell_type": "code",
   "execution_count": 170,
   "id": "d604688c",
   "metadata": {},
   "outputs": [
    {
     "data": {
      "text/plain": [
       "1907"
      ]
     },
     "execution_count": 170,
     "metadata": {},
     "output_type": "execute_result"
    }
   ],
   "source": [
    "f.write(\"Khan began his career with appearances in several television series in the late 1980s. He made his Bollywood debut in 1992 with Deewana. Early in his career, Khan was recognised for portraying villainous roles in the films Baazigar (1993) and Darr (1993). He established himself by starring in a series of romantic films, including Dilwale Dulhania Le Jayenge (1995), Dil To Pagal Hai (1997), Kuch Kuch Hota Hai (1998), Mohabbatein (2000) and Kabhi Khushi Kabhie Gham... (2001). Khan earned critical acclaim for his portrayal of an alcoholic in Devdas (2002), a NASA scientist in Swades (2004), a hockey coach in Chak De! India (2007) and a man with Asperger syndrome in My Name Is Khan (2010). His highest-grossing films include the comedies Chennai Express (2013), Happy New Year (2014) and Dilwale (2015), and the crime film Raees (2017). Many of his films thematise Indian national identity and connections with diaspora communities, or gender, racial, social and religious differences and grievances.\\nAs of 2015, Khan is co-chairman of the motion picture production company Red Chillies Entertainment and its subsidiaries, and is the co-owner of the Indian Premier League cricket team Kolkata Knight Riders and the Caribbean Premier League team Trinbago Knight Riders. He is a frequent television presenter and stage show performer. The media often label him as Brand SRK because of his many endorsement and entrepreneurship ventures. Khan's philanthropic endeavours have provided health care and disaster relief, and he was honoured with UNESCO's Pyramide con Marni award in 2011 for his support of children's education and the World Economic Forum's Crystal Award in 2018 for advocating for women's and children's rights in India. He regularly features in listings of the most influential people in Indian culture, and in 2008, Newsweek named him one of their fifty most powerful people in the world.\")"
   ]
  },
  {
   "cell_type": "code",
   "execution_count": 171,
   "id": "ccdbee74",
   "metadata": {},
   "outputs": [],
   "source": [
    "f.close()"
   ]
  },
  {
   "cell_type": "code",
   "execution_count": 184,
   "id": "e7d2e196",
   "metadata": {},
   "outputs": [
    {
     "data": {
      "text/plain": [
       "\"As of 2015, Khan is co-chairman of the motion picture production company Red Chillies Entertainment and its subsidiaries, and is the co-owner of the Indian Premier League cricket team Kolkata Knight Riders and the Caribbean Premier League team Trinbago Knight Riders. He is a frequent television presenter and stage show performer. The media often label him as Brand SRK because of his many endorsement and entrepreneurship ventures. Khan's philanthropic endeavours have provided health care and disaster relief, and he was honoured with UNESCO's Pyramide con Marni award in 2011 for his support of children's education and the World Economic Forum's Crystal Award in 2018 for advocating for women's and children's rights in India. He regularly features in listings of the most influential people in Indian culture, and in 2008, Newsweek named him one of their fifty most powerful people in the world.qpwoeirytulaksjdhfgmznxbcv\""
      ]
     },
     "execution_count": 184,
     "metadata": {},
     "output_type": "execute_result"
    }
   ],
   "source": [
    "f.readline()"
   ]
  },
  {
   "cell_type": "code",
   "execution_count": 199,
   "id": "57a1f904",
   "metadata": {},
   "outputs": [
    {
     "data": {
      "text/plain": [
       "1990"
      ]
     },
     "execution_count": 199,
     "metadata": {},
     "output_type": "execute_result"
    }
   ],
   "source": [
    "f.tell()"
   ]
  },
  {
   "cell_type": "code",
   "execution_count": 200,
   "id": "d130301c",
   "metadata": {},
   "outputs": [
    {
     "data": {
      "text/plain": [
       "1990"
      ]
     },
     "execution_count": 200,
     "metadata": {},
     "output_type": "execute_result"
    }
   ],
   "source": [
    "f.seek(1990)"
   ]
  },
  {
   "cell_type": "code",
   "execution_count": 204,
   "id": "cc8ed8dd",
   "metadata": {},
   "outputs": [
    {
     "data": {
      "text/plain": [
       "\"Khan began his career with appearances in several television series in the late 1980s. He made his Bollywood debut in 1992 with Deewana. Early in his career, Khan was recognised for portraying villainous roles in the films Baazigar (1993) and Darr (1993). He established himself by starring in a series of romantic films, including Dilwale Dulhania Le Jayenge (1995), Dil To Pagal Hai (1997), Kuch Kuch Hota Hai (1998), Mohabbatein (2000) and Kabhi Khushi Kabhie Gham... (2001). Khan earned critical acclaim for his portrayal of an alcoholic in Devdas (2002), a NASA scientist in Swades (2004), a hockey coach in Chak De! India (2007) and a man with Asperger syndrome in My Name Is Khan (2010). His highest-grossing films include the comedies Chennai Express (2013), Happy New Year (2014) and Dilwale (2015), and the crime film Raees (2017). Many of his films thematise Indian national identity and connections with diaspora communities, or gender, racial, social and religious differences and grievances.\\nAs of 2015, Khan is co-chairman of the motion picture production company Red Chillies Entertainment and its subsidiaries, and is the co-owner of the Indian Premier League cricket team Kolkata Knight Riders and the Caribbean Premier League team Trinbago Knight Riders. He is a frequent television presenter and stage show performer. The media often label him as Brand SRK because of his many endorsement and entrepreneurship ventures. Khan's philanthropic endeavours have provided health care and disaster relief, and he was honoured with UNESCO's Pyramide con Marni award in 2011 for his support of children's education and the World Economic Forum's Crystal Award in 2018 for advocating for women's and children's rights in India. He regularly features in listings of the most influential people in Indian culture, and in 2008, Newsweek named him one of their fifty most powerful people in the world.qpwoeirytulaksjdhfgmznxbcv\\nqwertyuioplkjhgfdsazxcvbnm.,<>><><>..<<,,><>.2222\\nsssBorn and raised in central Argentina, Messi relocated to Spain at the age of 13 to join Barcelona, for whom he made his competitive debut aged 17 in October 2004. He established himself as an integral player for the club within the next three years, and in his first uninterrupted season in 2008–09 he helped Barcelona achieve the first treble in Spanish football; that year, aged 22, Messi won his first Ballon d'Or. Three successful seasons followed, with Messi winning four consecutive Ballons d'Or, making him the first player to win the award four times. During the 2011–12 season, he set the La Liga and European records for most goals scored in a single season, while establishing himself as Barcelona's all-time top scorer. The following two seasons, Messi finished second for the Ballon d'Or behind Cristiano Ronaldo (his perceived career rival), before regaining his best form during the 2014–15 campaign, becoming the all-time top scorer in La Liga and leading Barcelona to a historic second treble, after which he was awarded a fifth Ballon d'Or in 2015. Messi assumed captaincy of Barcelona in 2018, and in 2019 he won a record sixth Ballon d'Or. Out of contract, he signed for Paris Saint-Germain in August 2021.\\nMessi has endorsed sportswear company Adidas since 2006. According to France Football, he was the world's highest-paid footballer for five years out of six between 2009 and 2014, and was ranked the world's highest-paid athlete by Forbes in 2019 and 2022. Messi was among Time's 100 most influential people in the world in 2011 and 2012. In February 2020, he was awarded the Laureus World Sportsman of the Year, thus becoming the first footballer and the first team sport athlete to win the award. Later that year, Messi became the second footballer and second team-sport athlete to surpass $1 billion in career earnings.\""
      ]
     },
     "execution_count": 204,
     "metadata": {},
     "output_type": "execute_result"
    }
   ],
   "source": [
    "f.read()"
   ]
  },
  {
   "cell_type": "code",
   "execution_count": 187,
   "id": "2a64fc59",
   "metadata": {},
   "outputs": [
    {
     "data": {
      "text/plain": [
       "54"
      ]
     },
     "execution_count": 187,
     "metadata": {},
     "output_type": "execute_result"
    }
   ],
   "source": [
    "f.write(\"\\nqwertyuioplkjhgfdsazxcvbnm.,<>><><>..<<,,><>.2222\\nsss\")"
   ]
  },
  {
   "cell_type": "code",
   "execution_count": 205,
   "id": "36ea5097",
   "metadata": {},
   "outputs": [],
   "source": [
    "f.close()"
   ]
  },
  {
   "cell_type": "code",
   "execution_count": 209,
   "id": "f84e6de1",
   "metadata": {},
   "outputs": [
    {
     "name": "stdout",
     "output_type": "stream",
     "text": [
      "Khan began his career with appearances in several television series in the late 1980s. He made his Bollywood debut in 1992 with Deewana. Early in his career, Khan was recognised for portraying villainous roles in the films Baazigar (1993) and Darr (1993). He established himself by starring in a series of romantic films, including Dilwale Dulhania Le Jayenge (1995), Dil To Pagal Hai (1997), Kuch Kuch Hota Hai (1998), Mohabbatein (2000) and Kabhi Khushi Kabhie Gham... (2001). Khan earned critical acclaim for his portrayal of an alcoholic in Devdas (2002), a NASA scientist in Swades (2004), a hockey coach in Chak De! India (2007) and a man with Asperger syndrome in My Name Is Khan (2010). His highest-grossing films include the comedies Chennai Express (2013), Happy New Year (2014) and Dilwale (2015), and the crime film Raees (2017). Many of his films thematise Indian national identity and connections with diaspora communities, or gender, racial, social and religious differences and grievances.\n",
      "\n",
      "As of 2015, Khan is co-chairman of the motion picture production company Red Chillies Entertainment and its subsidiaries, and is the co-owner of the Indian Premier League cricket team Kolkata Knight Riders and the Caribbean Premier League team Trinbago Knight Riders. He is a frequent television presenter and stage show performer. The media often label him as Brand SRK because of his many endorsement and entrepreneurship ventures. Khan's philanthropic endeavours have provided health care and disaster relief, and he was honoured with UNESCO's Pyramide con Marni award in 2011 for his support of children's education and the World Economic Forum's Crystal Award in 2018 for advocating for women's and children's rights in India. He regularly features in listings of the most influential people in Indian culture, and in 2008, Newsweek named him one of their fifty most powerful people in the world.qpwoeirytulaksjdhfgmznxbcv\n",
      "\n",
      "qwertyuioplkjhgfdsazxcvbnm.,<>><><>..<<,,><>.2222\n",
      "\n",
      "sssBorn and raised in central Argentina, Messi relocated to Spain at the age of 13 to join Barcelona, for whom he made his competitive debut aged 17 in October 2004. He established himself as an integral player for the club within the next three years, and in his first uninterrupted season in 2008–09 he helped Barcelona achieve the first treble in Spanish football; that year, aged 22, Messi won his first Ballon d'Or. Three successful seasons followed, with Messi winning four consecutive Ballons d'Or, making him the first player to win the award four times. During the 2011–12 season, he set the La Liga and European records for most goals scored in a single season, while establishing himself as Barcelona's all-time top scorer. The following two seasons, Messi finished second for the Ballon d'Or behind Cristiano Ronaldo (his perceived career rival), before regaining his best form during the 2014–15 campaign, becoming the all-time top scorer in La Liga and leading Barcelona to a historic second treble, after which he was awarded a fifth Ballon d'Or in 2015. Messi assumed captaincy of Barcelona in 2018, and in 2019 he won a record sixth Ballon d'Or. Out of contract, he signed for Paris Saint-Germain in August 2021.\n",
      "\n",
      "Messi has endorsed sportswear company Adidas since 2006. According to France Football, he was the world's highest-paid footballer for five years out of six between 2009 and 2014, and was ranked the world's highest-paid athlete by Forbes in 2019 and 2022. Messi was among Time's 100 most influential people in the world in 2011 and 2012. In February 2020, he was awarded the Laureus World Sportsman of the Year, thus becoming the first footballer and the first team sport athlete to win the award. Later that year, Messi became the second footballer and second team-sport athlete to surpass $1 billion in career earnings.\n"
     ]
    }
   ],
   "source": [
    "f=open(\"test6.txt\",\"r+\")\n",
    "for line in f:\n",
    "    print(line,end=\"\\n\")"
   ]
  },
  {
   "cell_type": "code",
   "execution_count": 201,
   "id": "f93f4fc7",
   "metadata": {},
   "outputs": [
    {
     "data": {
      "text/plain": [
       "1847"
      ]
     },
     "execution_count": 201,
     "metadata": {},
     "output_type": "execute_result"
    }
   ],
   "source": [
    "f.write(\"Born and raised in central Argentina, Messi relocated to Spain at the age of 13 to join Barcelona, for whom he made his competitive debut aged 17 in October 2004. He established himself as an integral player for the club within the next three years, and in his first uninterrupted season in 2008–09 he helped Barcelona achieve the first treble in Spanish football; that year, aged 22, Messi won his first Ballon d'Or. Three successful seasons followed, with Messi winning four consecutive Ballons d'Or, making him the first player to win the award four times. During the 2011–12 season, he set the La Liga and European records for most goals scored in a single season, while establishing himself as Barcelona's all-time top scorer. The following two seasons, Messi finished second for the Ballon d'Or behind Cristiano Ronaldo (his perceived career rival), before regaining his best form during the 2014–15 campaign, becoming the all-time top scorer in La Liga and leading Barcelona to a historic second treble, after which he was awarded a fifth Ballon d'Or in 2015. Messi assumed captaincy of Barcelona in 2018, and in 2019 he won a record sixth Ballon d'Or. Out of contract, he signed for Paris Saint-Germain in August 2021.\\nMessi has endorsed sportswear company Adidas since 2006. According to France Football, he was the world's highest-paid footballer for five years out of six between 2009 and 2014, and was ranked the world's highest-paid athlete by Forbes in 2019 and 2022. Messi was among Time's 100 most influential people in the world in 2011 and 2012. In February 2020, he was awarded the Laureus World Sportsman of the Year, thus becoming the first footballer and the first team sport athlete to win the award. Later that year, Messi became the second footballer and second team-sport athlete to surpass $1 billion in career earnings.\")"
   ]
  },
  {
   "cell_type": "code",
   "execution_count": 210,
   "id": "c4ebee8b",
   "metadata": {
    "scrolled": true
   },
   "outputs": [
    {
     "name": "stdout",
     "output_type": "stream",
     "text": [
      "As of 2015, Khan is co-chairman of the motion picture production company Red Chillies Entertainment and its subsidiaries, and is the co-owner of the Indian Premier League cricket team Kolkata Knight Riders and the Caribbean Premier League team Trinbago Knight Riders. He is a frequent television presenter and stage show performer. The media often label him as Brand SRK because of his many endorsement and entrepreneurship ventures. Khan's philanthropic endeavours have provided health care and disaster relief, and he was honoured with UNESCO's Pyramide con Marni award in 2011 for his support of children's education and the World Economic Forum's Crystal Award in 2018 for advocating for women's and children's rights in India. He regularly features in listings of the most influential people in Indian culture, and in 2008, Newsweek named him one of their fifty most powerful people in the world.As of 2015, Khan is co-chairman of the motion picture production company Red Chillies Entertainment and its subsidiaries, and is the co-owner of the Indian Premier League cricket team Kolkata Knight Riders and the Caribbean Premier League team Trinbago Knight Riders. He is a frequent television presenter and stage show performer. The media often label him as Brand SRK because of his many endorsement and entrepreneurship ventures. Khan's philanthropic endeavours have provided health care and disaster relief, and he was honoured with UNESCO's Pyramide con Marni award in 2011 for his support of children's education and the World Economic Forum's Crystal Award in 2018 for advocating for women's and children's rights in India. He regularly features in listings of the most influential people in Indian culture, and in 2008, Newsweek named him one of their fifty most powerful people in the world.\n",
      "\n",
      "Khan began his career with appearances in several television series in the late 1980s. He made his Bollywood debut in 1992 with Deewana. Early in his career, Khan was recognised for portraying villainous roles in the films Baazigar (1993) and Darr (1993). He established himself by starring in a series of romantic films, including Dilwale Dulhania Le Jayenge (1995), Dil To Pagal Hai (1997), Kuch Kuch Hota Hai (1998), Mohabbatein (2000) and Kabhi Khushi Kabhie Gham... (2001). Khan earned critical acclaim for his portrayal of an alcoholic in Devdas (2002), a NASA scientist in Swades (2004), a hockey coach in Chak De! India (2007) and a man with Asperger syndrome in My Name Is Khan (2010). His highest-grossing films include the comedies Chennai Express (2013), Happy New Year (2014) and Dilwale (2015), and the crime film Raees (2017). Many of his films thematise Indian national identity and connections with diaspora communities, or gender, racial, social and religious differences and grievances.As of 2015, Khan is co-chairman of the motion picture production company Red Chillies Entertainment and its subsidiaries, and is the co-owner of the Indian Premier League cricket team Kolkata Knight Riders and the Caribbean Premier League team Trinbago Knight Riders. He is a frequent television presenter and stage show performer. The media often label him as Brand SRK because of his many endorsement and entrepreneurship ventures. Khan's philanthropic endeavours have provided health care and disaster relief, and he was honoured with UNESCO's Pyramide con Marni award in 2011 for his support of children's education and the World Economic Forum's Crystal Award in 2018 for advocating for women's and children's rights in India. He regularly features in listings of the most influential people in Indian culture, and in 2008, Newsweek named him one of their fifty most powerful people in the world.\n",
      "\n",
      " Khan began his career with appearances in several television series in the late 1980s. He made his Bollywood debut in 1992 with Deewana. Early in his career, Khan was recognised for portraying villainous roles in the films Baazigar (1993) and Darr (1993). He established himself by starring in a series of romantic films, including Dilwale Dulhania Le Jayenge (1995), Dil To Pagal Hai (1997), Kuch Kuch Hota Hai (1998), Mohabbatein (2000) and Kabhi Khushi Kabhie Gham... (2001). Khan earned critical acclaim for his portrayal of an alcoholic in Devdas (2002), a NASA scientist in Swades (2004), a hockey coach in Chak De! India (2007) and a man with Asperger syndrome in My Name Is Khan (2010). His highest-grossing films include the comedies Chennai Express (2013), Happy New Year (2014) and Dilwale (2015), and the crime film Raees (2017). Many of his films thematise Indian national identity and connections with diaspora communities, or gender, racial, social and religious differences and grievances.As of 2015, Khan is co-chairman of the motion picture production company Red Chillies Entertainment and its subsidiaries, and is the co-owner of the Indian Premier League cricket team Kolkata Knight Riders and the Caribbean Premier League team Trinbago Knight Riders. He is a frequent television presenter and stage show performer. The media often label him as Brand SRK because of his many endorsement and entrepreneurship ventures. Khan's philanthropic endeavours have provided health care and disaster relief, and he was honoured with UNESCO's Pyramide con Marni award in 2011 for his support of children's education and the World Economic Forum's Crystal Award in 2018 for advocating for women's and children's rights in India. He regularly features in listings of the most influential people in Indian culture, and in 2008, Newsweek named him one of their fifty most powerful people in the world.\n",
      "\n",
      " Khan began his career with appearances in several television series in the late 1980s. He made his Bollywood debut in 1992 with Deewana. Early in his career, Khan was recognised for portraying villainous roles in the films Baazigar (1993) and Darr (1993). He established himself by starring in a series of romantic films, including Dilwale Dulhania Le Jayenge (1995), Dil To Pagal Hai (1997), Kuch Kuch Hota Hai (1998), Mohabbatein (2000) and Kabhi Khushi Kabhie Gham... (2001). Khan earned critical acclaim for his portrayal of an alcoholic in Devdas (2002), a NASA scientist in Swades (2004), a hockey coach in Chak De! India (2007) and a man with Asperger syndrome in My Name Is Khan (2010). His highest-grossing films include the comedies Chennai Express (2013), Happy New Year (2014) and Dilwale (2015), and the crime film Raees (2017). Many of his films thematise Indian national identity and connections with diaspora communities, or gender, racial, social and religious differences and grievances.Himanshuahskajajajajajajaja\n",
      "\n",
      " Salvekar salvekar salvekar\n"
     ]
    }
   ],
   "source": [
    "f=open(\"test5.txt\",\"r+\")\n",
    "for line in f:\n",
    "    print(line,end=\"\\n\")"
   ]
  },
  {
   "cell_type": "code",
   "execution_count": 237,
   "id": "45ec6e6b",
   "metadata": {},
   "outputs": [],
   "source": [
    "f=open(\"test6.txt\",\"r+\")"
   ]
  },
  {
   "cell_type": "code",
   "execution_count": 238,
   "id": "c2020c60",
   "metadata": {},
   "outputs": [],
   "source": [
    "l=f.readlines()"
   ]
  },
  {
   "cell_type": "code",
   "execution_count": 239,
   "id": "3b67815f",
   "metadata": {},
   "outputs": [
    {
     "data": {
      "text/plain": [
       "'Khan began his career with appearances in several television series in the late 1980s. \\n'"
      ]
     },
     "execution_count": 239,
     "metadata": {},
     "output_type": "execute_result"
    }
   ],
   "source": [
    "l[0]"
   ]
  },
  {
   "cell_type": "code",
   "execution_count": 240,
   "id": "1a1ff451",
   "metadata": {},
   "outputs": [
    {
     "data": {
      "text/plain": [
       "['Khan',\n",
       " 'began',\n",
       " 'his',\n",
       " 'career',\n",
       " 'with',\n",
       " 'appearances',\n",
       " 'in',\n",
       " 'several',\n",
       " 'television',\n",
       " 'series',\n",
       " 'in',\n",
       " 'the',\n",
       " 'late',\n",
       " '1980s.']"
      ]
     },
     "execution_count": 240,
     "metadata": {},
     "output_type": "execute_result"
    }
   ],
   "source": [
    "l[0].split()"
   ]
  },
  {
   "cell_type": "code",
   "execution_count": 242,
   "id": "eb80fe6a",
   "metadata": {},
   "outputs": [
    {
     "data": {
      "text/plain": [
       "['K', 'b', 'h', 'c', 'w', 'a', 'i', 's', 't', 's', 'i', 't', 'l', '1']"
      ]
     },
     "execution_count": 242,
     "metadata": {},
     "output_type": "execute_result"
    }
   ],
   "source": [
    "l1=[]\n",
    "for i in l[0].split():\n",
    "    l1.append(i[0])\n",
    "l1"
   ]
  },
  {
   "cell_type": "code",
   "execution_count": 229,
   "id": "d9c178c8",
   "metadata": {},
   "outputs": [
    {
     "data": {
      "text/plain": [
       "['sas', 'asasas', 'asasas', 'asasas', 'assss', 'fff', 'g']"
      ]
     },
     "execution_count": 229,
     "metadata": {},
     "output_type": "execute_result"
    }
   ],
   "source": [
    "l[0].split()"
   ]
  },
  {
   "cell_type": "code",
   "execution_count": 224,
   "id": "2e2a2d70",
   "metadata": {},
   "outputs": [
    {
     "data": {
      "text/plain": [
       "'Khan began his career with appearances in several television series in the late 1980s. \\n'"
      ]
     },
     "execution_count": 224,
     "metadata": {},
     "output_type": "execute_result"
    }
   ],
   "source": [
    "l[0]"
   ]
  },
  {
   "cell_type": "code",
   "execution_count": 225,
   "id": "9ea3cc23",
   "metadata": {},
   "outputs": [
    {
     "data": {
      "text/plain": [
       "['Khan',\n",
       " 'began',\n",
       " 'his',\n",
       " 'career',\n",
       " 'with',\n",
       " 'appearances',\n",
       " 'in',\n",
       " 'several',\n",
       " 'television',\n",
       " 'series',\n",
       " 'in',\n",
       " 'the',\n",
       " 'late',\n",
       " '1980s.']"
      ]
     },
     "execution_count": 225,
     "metadata": {},
     "output_type": "execute_result"
    }
   ],
   "source": [
    "l[0].split()"
   ]
  },
  {
   "cell_type": "code",
   "execution_count": 21,
   "id": "94e30a81",
   "metadata": {},
   "outputs": [],
   "source": [
    "l=['asasasas','asasasa','asas',\"asasasa\"]"
   ]
  },
  {
   "cell_type": "code",
   "execution_count": 24,
   "id": "746e35dd",
   "metadata": {},
   "outputs": [],
   "source": [
    "f=open(\"test5.txt\",\"r+\")"
   ]
  },
  {
   "cell_type": "code",
   "execution_count": 25,
   "id": "1e810a4f",
   "metadata": {},
   "outputs": [
    {
     "data": {
      "text/plain": [
       "'test5.txt'"
      ]
     },
     "execution_count": 25,
     "metadata": {},
     "output_type": "execute_result"
    }
   ],
   "source": [
    "f.name"
   ]
  },
  {
   "cell_type": "code",
   "execution_count": 5,
   "id": "fa25c523",
   "metadata": {},
   "outputs": [],
   "source": [
    "f.writelines(l)"
   ]
  },
  {
   "cell_type": "code",
   "execution_count": 6,
   "id": "11dcd2a1",
   "metadata": {},
   "outputs": [],
   "source": [
    "f.close()"
   ]
  },
  {
   "cell_type": "code",
   "execution_count": 33,
   "id": "53a3e65c",
   "metadata": {},
   "outputs": [],
   "source": [
    "f=open(\"test5.txt\",\"r+\")"
   ]
  },
  {
   "cell_type": "code",
   "execution_count": 14,
   "id": "827e9b2e",
   "metadata": {},
   "outputs": [
    {
     "data": {
      "text/plain": [
       "1908"
      ]
     },
     "execution_count": 14,
     "metadata": {},
     "output_type": "execute_result"
    }
   ],
   "source": [
    "f.write(\"As of 2015, Khan is co-chairman of the motion picture production company Red Chillies Entertainment and its subsidiaries, and is the co-owner of the Indian Premier League cricket team Kolkata Knight Riders and the Caribbean Premier League team Trinbago Knight Riders. He is a frequent television presenter and stage show performer. The media often label him as Brand SRK because of his many endorsement and entrepreneurship ventures. Khan's philanthropic endeavours have provided health care and disaster relief, and he was honoured with UNESCO's Pyramide con Marni award in 2011 for his support of children's education and the World Economic Forum's Crystal Award in 2018 for advocating for women's and children's rights in India. He regularly features in listings of the most influential people in Indian culture, and in 2008, Newsweek named him one of their fifty most powerful people in the world.\\n Khan began his career with appearances in several television series in the late 1980s. He made his Bollywood debut in 1992 with Deewana. Early in his career, Khan was recognised for portraying villainous roles in the films Baazigar (1993) and Darr (1993). He established himself by starring in a series of romantic films, including Dilwale Dulhania Le Jayenge (1995), Dil To Pagal Hai (1997), Kuch Kuch Hota Hai (1998), Mohabbatein (2000) and Kabhi Khushi Kabhie Gham... (2001). Khan earned critical acclaim for his portrayal of an alcoholic in Devdas (2002), a NASA scientist in Swades (2004), a hockey coach in Chak De! India (2007) and a man with Asperger syndrome in My Name Is Khan (2010). His highest-grossing films include the comedies Chennai Express (2013), Happy New Year (2014) and Dilwale (2015), and the crime film Raees (2017). Many of his films thematise Indian national identity and connections with diaspora communities, or gender, racial, social and religious differences and grievances.\")"
   ]
  },
  {
   "cell_type": "code",
   "execution_count": 26,
   "id": "efb562fb",
   "metadata": {},
   "outputs": [
    {
     "data": {
      "text/plain": [
       "\"As of 2015, Khan is co-chairman of the motion picture production company Red Chillies Entertainment and its subsidiaries, and is the co-owner of the Indian Premier League cricket team Kolkata Knight Riders and the Caribbean Premier League team Trinbago Knight Riders. He is a frequent television presenter and stage show performer. The media often label him as Brand SRK because of his many endorsement and entrepreneurship ventures. Khan's philanthropic endeavours have provided health care and disaster relief, and he was honoured with UNESCO's Pyramide con Marni award in 2011 for his support of children's education and the World Economic Forum's Crystal Award in 2018 for advocating for women's and children's rights in India. He regularly features in listings of the most influential people in Indian culture, and in 2008, Newsweek named him one of their fifty most powerful people in the world.\\n Khan began his career with appearances in several television series in the late 1980s. He made his Bollywood debut in 1992 with Deewana. Early in his career, Khan was recognised for portraying villainous roles in the films Baazigar (1993) and Darr (1993). He established himself by starring in a series of romantic films, including Dilwale Dulhania Le Jayenge (1995), Dil To Pagal Hai (1997), Kuch Kuch Hota Hai (1998), Mohabbatein (2000) and Kabhi Khushi Kabhie Gham... (2001). Khan earned critical acclaim for his portrayal of an alcoholic in Devdas (2002), a NASA scientist in Swades (2004), a hockey coach in Chak De! India (2007) and a man with Asperger syndrome in My Name Is Khan (2010). His highest-grossing films include the comedies Chennai Express (2013), Happy New Year (2014) and Dilwale (2015), and the crime film Raees (2017). Many of his films thematise Indian national identity and connections with diaspora communities, or gender, racial, social and religious differences and grievances.\""
      ]
     },
     "execution_count": 26,
     "metadata": {},
     "output_type": "execute_result"
    }
   ],
   "source": [
    "f.read()"
   ]
  },
  {
   "cell_type": "code",
   "execution_count": 27,
   "id": "978dc303",
   "metadata": {},
   "outputs": [
    {
     "data": {
      "text/plain": [
       "1909"
      ]
     },
     "execution_count": 27,
     "metadata": {},
     "output_type": "execute_result"
    }
   ],
   "source": [
    "f.tell()"
   ]
  },
  {
   "cell_type": "code",
   "execution_count": 28,
   "id": "f8d2b005",
   "metadata": {},
   "outputs": [
    {
     "data": {
      "text/plain": [
       "1909"
      ]
     },
     "execution_count": 28,
     "metadata": {},
     "output_type": "execute_result"
    }
   ],
   "source": [
    "f.seek(1909)"
   ]
  },
  {
   "cell_type": "code",
   "execution_count": 29,
   "id": "19179c84",
   "metadata": {},
   "outputs": [],
   "source": [
    "f.writelines(l)"
   ]
  },
  {
   "cell_type": "code",
   "execution_count": 30,
   "id": "a0cb5e9a",
   "metadata": {},
   "outputs": [],
   "source": [
    "f.close()"
   ]
  },
  {
   "cell_type": "code",
   "execution_count": 34,
   "id": "254c544e",
   "metadata": {},
   "outputs": [
    {
     "data": {
      "text/plain": [
       "6"
      ]
     },
     "execution_count": 34,
     "metadata": {},
     "output_type": "execute_result"
    }
   ],
   "source": [
    "f.fileno()"
   ]
  },
  {
   "cell_type": "code",
   "execution_count": 1,
   "id": "910b9804",
   "metadata": {},
   "outputs": [],
   "source": [
    "f=open(\"test6.txt\",\"r+\")"
   ]
  },
  {
   "cell_type": "code",
   "execution_count": 2,
   "id": "63d2a305",
   "metadata": {},
   "outputs": [
    {
     "data": {
      "text/plain": [
       "_io.TextIOWrapper"
      ]
     },
     "execution_count": 2,
     "metadata": {},
     "output_type": "execute_result"
    }
   ],
   "source": [
    "type(f)"
   ]
  },
  {
   "cell_type": "code",
   "execution_count": 43,
   "id": "fc3cc2d9",
   "metadata": {},
   "outputs": [
    {
     "data": {
      "text/plain": [
       "\"Khan began his career with appearances in several television series in the late 1980s. \\nHe made his Bollywood debut in 1992 with Deewana. Early in his career, Khan was recognised for portraying villainous roles in the films Baazigar (1993) and Darr (1993). He established himself by starring in a series of romantic films, including Dilwale Dulhania Le Jayenge (1995), Dil To Pagal Hai (1997), Kuch Kuch Hota Hai (1998), Mohabbatein (2000) and Kabhi Khushi Kabhie Gham... (2001). Khan earned critical acclaim for his portrayal of an alcoholic in Devdas (2002), a NASA scientist in Swades (2004), a hockey coach in Chak De! India (2007) and a man with Asperger syndrome in My Name Is Khan (2010). His highest-grossing films include the comedies Chennai Express (2013), Happy New Year (2014) and Dilwale (2015), and the crime film Raees (2017). \\nMany of his films thematise Indian national identity and connections with diaspora communities, or gender, racial, social and religious differences and grievances.\\nAs of 2015, Khan is co-chairman of the motion picture production company Red Chillies Entertainment and its subsidiaries, and is the co-owner of the Indian Premier League cricket team Kolkata Knight Riders and the Caribbean Premier League team Trinbago Knight Riders. He is a frequent television presenter and stage show performer.\\nThe media often label him as Brand SRK because of his many endorsement and entrepreneurship ventures.\\nKhan's philanthropic endeavours have provided health care and disaster relief, and he was honoured with UNESCO's Pyramide con Marni award in 2011 for his support of children's education and the World Economic Forum's Crystal Award in 2018 for advocating for women's and children's rights in India. He regularly features in listings of the most influential people in Indian culture, and in 2008, Newsweek named him one of their fifty most powerful people in the world.qpwoeirytulaksjdhfgmznxbcv\\nqwertyuioplkjhgfdsazxcvbnm.,<>><><>..<<,,><>.2222\\nsssBorn and raised in central Argentina, Messi relocated to Spain at the age of 13 to join Barcelona, for whom he made his competitive debut aged 17 in October 2004. He established himself as an integral player for the club within the next three years, and in his first uninterrupted season in 2008–09 he helped Barcelona achieve the first treble in Spanish football; that year, aged 22, Messi won his first Ballon d'Or. Three successful seasons followed, with Messi winning four consecutive Ballons d'Or, making him the first player to win the award four times. During the 2011–12 season, he set the La Liga and European records for most goals scored in a single season, while establishing himself as Barcelona's all-time top scorer. The following two seasons, Messi finished second for the Ballon d'Or behind Cristiano Ronaldo (his perceived career rival), before regaining his best form during the 2014–15 campaign, becoming the all-time top scorer in La Liga and leading Barcelona to a historic second treble, after which he was awarded a fifth Ballon d'Or in 2015. Messi assumed captaincy of Barcelona in 2018, and in 2019 he won a record sixth Ballon d'Or. Out of contract, he signed for Paris Saint-Germain in August 2021.\\nMessi has endorsed sportswear company Adidas since 2006.\\nAccording to France Football, he was the world's highest-paid footballer for five years out of six between 2009 and 2014, and was ranked the world's highest-paid athlete by Forbes in 2019 and 2022. Messi was among Time's 100 most influential people in the world in 2011 and 2012. In February 2020, he was awarded the Laureus World Sportsman of the Year, thus becoming the first footballer and the first team sport athlete to win the award. Later that year, Messi became the second footballer and second team-sport athlete to surpass $1 billion in career earnings.asasasasasasasaasasasasasa\""
      ]
     },
     "execution_count": 43,
     "metadata": {},
     "output_type": "execute_result"
    }
   ],
   "source": [
    "f.read()"
   ]
  },
  {
   "cell_type": "code",
   "execution_count": 44,
   "id": "91143b15",
   "metadata": {},
   "outputs": [
    {
     "data": {
      "text/plain": [
       "3871"
      ]
     },
     "execution_count": 44,
     "metadata": {},
     "output_type": "execute_result"
    }
   ],
   "source": [
    "f.tell()"
   ]
  },
  {
   "cell_type": "code",
   "execution_count": 38,
   "id": "6727109e",
   "metadata": {},
   "outputs": [
    {
     "data": {
      "text/plain": [
       "['asasasas', 'asasasa', 'asas', 'asasasa']"
      ]
     },
     "execution_count": 38,
     "metadata": {},
     "output_type": "execute_result"
    }
   ],
   "source": [
    "l"
   ]
  },
  {
   "cell_type": "code",
   "execution_count": 40,
   "id": "f133b185",
   "metadata": {},
   "outputs": [],
   "source": [
    "f.writelines(l)"
   ]
  },
  {
   "cell_type": "code",
   "execution_count": 46,
   "id": "97968836",
   "metadata": {},
   "outputs": [],
   "source": [
    "f.close()"
   ]
  },
  {
   "cell_type": "code",
   "execution_count": 47,
   "id": "5f72837f",
   "metadata": {},
   "outputs": [],
   "source": [
    "import os"
   ]
  },
  {
   "cell_type": "code",
   "execution_count": 48,
   "id": "49529e87",
   "metadata": {},
   "outputs": [],
   "source": [
    "os.remove(\"test2.txt\")"
   ]
  },
  {
   "cell_type": "code",
   "execution_count": 49,
   "id": "406e2aba",
   "metadata": {},
   "outputs": [
    {
     "name": "stdout",
     "output_type": "stream",
     "text": [
      " Volume in drive C is OS\n",
      " Volume Serial Number is DA70-7AC6\n",
      "\n",
      " Directory of C:\\Users\\devas\\Desktop\\sample_project_1\n",
      "\n",
      "19-01-2023  10:18    <DIR>          .\n",
      "09-01-2023  15:06    <DIR>          ..\n",
      "16-01-2023  19:02    <DIR>          .ipynb_checkpoints\n",
      "26-12-2022  14:14    <DIR>          __pycache__\n",
      "12-01-2023  15:05            51,867 car.data\n",
      "13-07-2022  22:52               369 car-sales.csv\n",
      "15-07-2022  17:48               287 car-sales-missing-data.csv\n",
      "15-01-2023  14:00    <DIR>          DataBases\n",
      "12-07-2022  19:20    <DIR>          env\n",
      "07-01-2023  12:55            47,588 Exceptional_handling+.ipynb\n",
      "15-01-2023  17:04               992 file_class.log\n",
      "27-12-2022  18:00                21 functions task\n",
      "02-11-2022  11:39             1,763 functions task.txt\n",
      "06-01-2023  16:35            11,903 glass (1).data\n",
      "13-07-2022  22:02            11,328 heart-disease.csv\n",
      "07-12-2022  22:37           153,578 HimanshuSalvekar_Resume_PDF.pdf\n",
      "01-12-2022  22:40             5,952 INeu-Assn-4.0.ipynb\n",
      "15-01-2023  13:07    <DIR>          Ineuron_Assignments\n",
      "23-11-2022  15:31            38,181 Ineuron1.ipynb\n",
      "04-12-2022  18:58                16 ineuron1.txt\n",
      "05-11-2022  07:04             2,917 INeuron-Assignment.ipynb\n",
      "09-01-2023  09:15            53,090 INeuron-Functions.ipynb\n",
      "05-11-2022  05:50            17,601 INeuron-List,Tuple,Set and Dicts.ipynb\n",
      "31-10-2022  12:45             5,711 INeuron-Loops,Tuples&Lists .ipynb\n",
      "15-01-2023  17:07    <DIR>          Ineuron-Python_Study_material\n",
      "01-12-2022  22:41            74,185 Introduction-To-NumPy.ipynb\n",
      "29-12-2022  16:02           343,277 Introduction-To-Pandas.ipynb\n",
      "19-01-2023  10:17            69,100 Iterator_Generator+File-HandL.ipynb\n",
      "13-12-2022  21:07             6,062 Logging.ipynb\n",
      "14-01-2023  19:10            58,605 MongoDB-1.ipynb\n",
      "14-01-2023  19:25            13,782 MongoDB-2.ipynb\n",
      "26-12-2022  13:47                 0 mydict.py\n",
      "26-12-2022  13:51               572 mydictionary.py\n",
      "26-12-2022  13:25                 0 mylist.py\n",
      "26-12-2022  14:13               438 mylists.py\n",
      "12-01-2023  17:08            88,611 MySQL(Basics).ipynb\n",
      "12-01-2023  16:25           311,100 MySQL(Basics+).ipynb\n",
      "12-01-2023  17:33           143,808 MySQL-3.ipynb\n",
      "15-01-2023  17:11            69,580 OOPs-1.ipynb\n",
      "25-11-2022  21:06            43,541 part 1 solutions.ipynb\n",
      "31-12-2022  13:28             5,449 Password_Strength_Problem.ipynb\n",
      "02-12-2022  23:17            42,063 Practice-Questions.ipynb\n",
      "29-12-2022  15:48             6,297 PyBasicAssn-3_Ineuron.ipynb\n",
      "31-12-2022  13:25            23,229 questions.ipynb\n",
      "09-05-2022  20:01            20,212 Sadhguru.docx\n",
      "12-01-2023  17:20           358,211 sql day 2 .ipynb\n",
      "02-12-2022  13:00             8,239 task questions part 2.ipynb\n",
      "18-01-2023  12:26               256 test.txt\n",
      "16-01-2023  19:41                50 test0.txt\n",
      "15-01-2023  17:04                59 test1.txt\n",
      "18-01-2023  11:19                61 test3.txt\n",
      "18-01-2023  12:02               210 test4.txt\n",
      "19-01-2023  09:53             1,935 test5.txt\n",
      "19-01-2023  09:58             3,871 test6.txt\n",
      "06-01-2023  00:18             3,850 Untitled.ipynb\n",
      "26-12-2022  13:05             8,132 Untitled1.ipynb\n",
      "              48 File(s)      2,107,949 bytes\n",
      "               8 Dir(s)  273,076,269,056 bytes free\n"
     ]
    }
   ],
   "source": [
    "ls"
   ]
  },
  {
   "cell_type": "code",
   "execution_count": 50,
   "id": "3ae02490",
   "metadata": {},
   "outputs": [
    {
     "data": {
      "text/plain": [
       "'C:\\\\Users\\\\devas\\\\Desktop\\\\sample_project_1'"
      ]
     },
     "execution_count": 50,
     "metadata": {},
     "output_type": "execute_result"
    }
   ],
   "source": [
    "pwd()"
   ]
  },
  {
   "cell_type": "code",
   "execution_count": 51,
   "id": "64408bbb",
   "metadata": {},
   "outputs": [
    {
     "data": {
      "text/plain": [
       "'C:\\\\Users\\\\devas\\\\Desktop\\\\sample_project_1'"
      ]
     },
     "execution_count": 51,
     "metadata": {},
     "output_type": "execute_result"
    }
   ],
   "source": [
    "os.getcwd()"
   ]
  },
  {
   "cell_type": "code",
   "execution_count": 56,
   "id": "10a79838",
   "metadata": {},
   "outputs": [
    {
     "data": {
      "text/plain": [
       "['!qhlogs.doc',\n",
       " '.RData',\n",
       " '03-LogisticRegression-Himanshu Salvekar.docx',\n",
       " '320 wo.txt',\n",
       " 'assn2.docx',\n",
       " 'cache',\n",
       " 'CPY_SAVES',\n",
       " 'Custom Office Templates',\n",
       " 'debug.log',\n",
       " 'desktop.ini',\n",
       " 'Devashish',\n",
       " 'Documents - Shortcut.lnk',\n",
       " 'DRUM FILLING MACHINE-1.pdf',\n",
       " 'EXPENSES_JULY2021.xlsx',\n",
       " 'GitHub',\n",
       " 'HDFC ERGO.png',\n",
       " 'Himanshu   Salvekar(Internship_Cover-Letter).docx',\n",
       " 'Himanshu   Salvekar(Internship_Cover-Letter).pdf',\n",
       " 'Himanshu Salvekar(EV Trends)(BSc CMS).docx',\n",
       " 'Himanshu Salvekar_Resume.docx',\n",
       " 'Himanshu Salvekar_Resume.pdf',\n",
       " 'Himanshu_Salvekar_Peace_Assignment_2_1132200308.docx',\n",
       " 'IBX-67_Design modifications.xlsx',\n",
       " 'IMG_20190726_162924938.jpg',\n",
       " 'IMG_20190726_162935808.jpg',\n",
       " 'Ineuron_Python_Basic_Assns',\n",
       " 'mahesh_joshi_24072020.txt',\n",
       " 'MATLAB',\n",
       " 'My Music',\n",
       " 'My Pictures',\n",
       " 'My Videos',\n",
       " 'New folder',\n",
       " 'NFS Most Wanted',\n",
       " 'part 1 solutions.ipynb',\n",
       " 'part 2 solutions.ipynb',\n",
       " 'Peace Group Activity.docx',\n",
       " 'PyBasicAssn1.docx',\n",
       " 'PyBasicAssn2.docx',\n",
       " 'questions.ipynb',\n",
       " 'R',\n",
       " 'R-Programming_Midterm_pdf.pdf',\n",
       " 'Rev_DRUM FILLING MACHINE - Copy.pdf',\n",
       " 'Sadhguru.pdf',\n",
       " 'Sadhguru.pptx',\n",
       " 'student-database.sql',\n",
       " 'task questions part 2.ipynb',\n",
       " 'TCS_DTNO.txt',\n",
       " 'test.exe',\n",
       " 'txt',\n",
       " 'Ubisoft',\n",
       " 'Undertaking.docx',\n",
       " 'Undertaking.pdf',\n",
       " 'Untitled.png',\n",
       " 'Valedictory Session_Report.docx',\n",
       " 'wipro_ID.txt',\n",
       " 'Wondershare',\n",
       " 'Zoom']"
      ]
     },
     "execution_count": 56,
     "metadata": {},
     "output_type": "execute_result"
    }
   ],
   "source": [
    "os.listdir(\"C:\\\\Users\\devas\\Documents\")"
   ]
  }
 ],
 "metadata": {
  "kernelspec": {
   "display_name": "Python 3",
   "language": "python",
   "name": "python3"
  },
  "language_info": {
   "codemirror_mode": {
    "name": "ipython",
    "version": 3
   },
   "file_extension": ".py",
   "mimetype": "text/x-python",
   "name": "python",
   "nbconvert_exporter": "python",
   "pygments_lexer": "ipython3",
   "version": "3.8.8"
  }
 },
 "nbformat": 4,
 "nbformat_minor": 5
}
