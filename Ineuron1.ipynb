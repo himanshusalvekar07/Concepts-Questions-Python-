{
 "cells": [
  {
   "cell_type": "code",
   "execution_count": 24,
   "id": "de9058f2",
   "metadata": {},
   "outputs": [
    {
     "data": {
      "text/plain": [
       "'spamspamspam'"
      ]
     },
     "execution_count": 24,
     "metadata": {},
     "output_type": "execute_result"
    }
   ],
   "source": [
    "'spam'*3"
   ]
  },
  {
   "cell_type": "code",
   "execution_count": 25,
   "id": "65321bdc",
   "metadata": {},
   "outputs": [
    {
     "data": {
      "text/plain": [
       "'spamspamspam'"
      ]
     },
     "execution_count": 25,
     "metadata": {},
     "output_type": "execute_result"
    }
   ],
   "source": [
    "\"spam\"+'spamspam'"
   ]
  },
  {
   "cell_type": "code",
   "execution_count": 26,
   "id": "1427dbdc",
   "metadata": {},
   "outputs": [],
   "source": [
    "bacon=11"
   ]
  },
  {
   "cell_type": "code",
   "execution_count": 27,
   "id": "0dcf9e0c",
   "metadata": {},
   "outputs": [],
   "source": [
    "bacon=bacon+1"
   ]
  },
  {
   "cell_type": "code",
   "execution_count": 28,
   "id": "ac016327",
   "metadata": {},
   "outputs": [
    {
     "data": {
      "text/plain": [
       "12"
      ]
     },
     "execution_count": 28,
     "metadata": {},
     "output_type": "execute_result"
    }
   ],
   "source": [
    "bacon"
   ]
  },
  {
   "cell_type": "code",
   "execution_count": 29,
   "id": "db9bd171",
   "metadata": {},
   "outputs": [
    {
     "data": {
      "text/plain": [
       "'hh1ss'"
      ]
     },
     "execution_count": 29,
     "metadata": {},
     "output_type": "execute_result"
    }
   ],
   "source": [
    "'hh'+'1'+'ss'"
   ]
  },
  {
   "cell_type": "code",
   "execution_count": 30,
   "id": "3ca05e4e",
   "metadata": {},
   "outputs": [
    {
     "name": "stdout",
     "output_type": "stream",
     "text": [
      "I have 123 no. of eggs\n"
     ]
    }
   ],
   "source": [
    "him=123\n",
    "print(f\"I have {him} no. of eggs\")"
   ]
  },
  {
   "cell_type": "code",
   "execution_count": 31,
   "id": "d3b2a770",
   "metadata": {},
   "outputs": [
    {
     "data": {
      "text/plain": [
       "True"
      ]
     },
     "execution_count": 31,
     "metadata": {},
     "output_type": "execute_result"
    }
   ],
   "source": [
    "1<3"
   ]
  },
  {
   "cell_type": "code",
   "execution_count": 32,
   "id": "bf669c29",
   "metadata": {},
   "outputs": [
    {
     "data": {
      "text/plain": [
       "True"
      ]
     },
     "execution_count": 32,
     "metadata": {},
     "output_type": "execute_result"
    }
   ],
   "source": [
    "dns=1\n",
    "dfs=1.0\n",
    "dns==dfs"
   ]
  },
  {
   "cell_type": "code",
   "execution_count": 33,
   "id": "eb7baebc",
   "metadata": {},
   "outputs": [
    {
     "data": {
      "text/plain": [
       "0.6666666666666666"
      ]
     },
     "execution_count": 33,
     "metadata": {},
     "output_type": "execute_result"
    }
   ],
   "source": [
    "x=2\n",
    "y=3\n",
    "x/y"
   ]
  },
  {
   "cell_type": "code",
   "execution_count": 34,
   "id": "67b512cb",
   "metadata": {},
   "outputs": [
    {
     "data": {
      "text/plain": [
       "2.0"
      ]
     },
     "execution_count": 34,
     "metadata": {},
     "output_type": "execute_result"
    }
   ],
   "source": [
    "z=2+2j\n",
    "z.real"
   ]
  },
  {
   "cell_type": "code",
   "execution_count": 35,
   "id": "637ef692",
   "metadata": {},
   "outputs": [],
   "source": [
    "y=212+3j"
   ]
  },
  {
   "cell_type": "code",
   "execution_count": 36,
   "id": "280e0c92",
   "metadata": {},
   "outputs": [
    {
     "data": {
      "text/plain": [
       "3.0"
      ]
     },
     "execution_count": 36,
     "metadata": {},
     "output_type": "execute_result"
    }
   ],
   "source": [
    "y.imag"
   ]
  },
  {
   "cell_type": "code",
   "execution_count": 37,
   "id": "dc3bf60c",
   "metadata": {},
   "outputs": [
    {
     "name": "stdout",
     "output_type": "stream",
     "text": [
      "Hey friend, is class started?: [0-False/1-True]1\n",
      "Since class started...\n",
      "Lets concentrate\n"
     ]
    }
   ],
   "source": [
    "class_started = bool(input(\"Hey friend, is class started?: [0-False/1-True]\"))\n",
    "\n",
    "if class_started:\n",
    "   print(\"Since class started...\")\n",
    "   print(\"Lets concentrate\")\n",
    "else:\n",
    "   print(\"Since class is not started...\")\n",
    "   print(\"let's revise\")    "
   ]
  },
  {
   "cell_type": "code",
   "execution_count": 38,
   "id": "94a390e7",
   "metadata": {},
   "outputs": [
    {
     "data": {
      "text/plain": [
       "'I have eaten 99 burritos.'"
      ]
     },
     "execution_count": 38,
     "metadata": {},
     "output_type": "execute_result"
    }
   ],
   "source": [
    "'I have eaten ' + '99' + ' burritos.'"
   ]
  },
  {
   "cell_type": "code",
   "execution_count": 39,
   "id": "b9df6da8",
   "metadata": {},
   "outputs": [
    {
     "name": "stdout",
     "output_type": "stream",
     "text": [
      "Please enter a name over heredede\n",
      "Your name (dede) has been noted.\n"
     ]
    }
   ],
   "source": [
    "myname=input('Please enter a name over here')\n",
    "print(f\"Your name ({myname}) has been noted.\")"
   ]
  },
  {
   "cell_type": "code",
   "execution_count": 40,
   "id": "7ab3c719",
   "metadata": {},
   "outputs": [
    {
     "data": {
      "text/plain": [
       "4.0"
      ]
     },
     "execution_count": 40,
     "metadata": {},
     "output_type": "execute_result"
    }
   ],
   "source": [
    "A=4\n",
    "b=float(A)\n",
    "b"
   ]
  },
  {
   "cell_type": "code",
   "execution_count": 41,
   "id": "f4952c75",
   "metadata": {},
   "outputs": [
    {
     "name": "stdout",
     "output_type": "stream",
     "text": [
      "My gmail is himanshu.salvekar@gmail.com\n"
     ]
    }
   ],
   "source": [
    "fn,ln='himanshu','salvekar'\n",
    "print(f\"My gmail is {fn}.{ln}@gmail.com\")"
   ]
  },
  {
   "cell_type": "code",
   "execution_count": 42,
   "id": "dac139c8",
   "metadata": {},
   "outputs": [
    {
     "name": "stdout",
     "output_type": "stream",
     "text": [
      "Enter: 2\n",
      "Enter: 3\n",
      "Sum: 5\n",
      "Div: 0.6666666666666666\n",
      "Mult: 6\n",
      "Pow: 8\n"
     ]
    }
   ],
   "source": [
    "a=int(input(\"Enter: \"))\n",
    "b=int(input(\"Enter: \"))\n",
    "print(f\"Sum: {a+b}\")\n",
    "print(f\"Div: {a/b}\")\n",
    "print(f\"Mult: {a*b}\")\n",
    "print(f\"Pow: {a**b}\")"
   ]
  },
  {
   "cell_type": "code",
   "execution_count": 43,
   "id": "52b5065c",
   "metadata": {},
   "outputs": [
    {
     "name": "stdout",
     "output_type": "stream",
     "text": [
      "Enter a: 2\n",
      "Enter b: 3\n",
      "Sum: 5\n",
      "Div: 0.6666666666666666\n",
      "Mult: 6\n",
      "Pow: 8\n"
     ]
    }
   ],
   "source": [
    "a=int(input(\"Enter a: \"))\n",
    "b=int(input(\"Enter b: \"))\n",
    "print(f\"Sum: {a+b}\")\n",
    "print(f\"Div: {a/b}\")\n",
    "print(f\"Mult: {a*b}\")\n",
    "print(f\"Pow: {a**b}\")"
   ]
  },
  {
   "cell_type": "code",
   "execution_count": 44,
   "id": "c74c2673",
   "metadata": {},
   "outputs": [
    {
     "name": "stdout",
     "output_type": "stream",
     "text": [
      "Please enter first name: f\n",
      "Please enter last name: f\n",
      "f.f@gmail.com\n"
     ]
    }
   ],
   "source": [
    "fn=input(\"Please enter first name: \")\n",
    "ln=input(\"Please enter last name: \")\n",
    "print(f\"{fn}.{ln}@gmail.com\")"
   ]
  },
  {
   "cell_type": "code",
   "execution_count": 45,
   "id": "62291c59",
   "metadata": {},
   "outputs": [
    {
     "data": {
      "text/plain": [
       "complex"
      ]
     },
     "execution_count": 45,
     "metadata": {},
     "output_type": "execute_result"
    }
   ],
   "source": [
    "a=3+2j\n",
    "type(a)"
   ]
  },
  {
   "cell_type": "code",
   "execution_count": 46,
   "id": "b70e616e",
   "metadata": {},
   "outputs": [
    {
     "data": {
      "text/plain": [
       "(3+0j)"
      ]
     },
     "execution_count": 46,
     "metadata": {},
     "output_type": "execute_result"
    }
   ],
   "source": [
    "a=3\n",
    "A=complex(a)\n",
    "A"
   ]
  },
  {
   "cell_type": "code",
   "execution_count": 47,
   "id": "5da519ef",
   "metadata": {},
   "outputs": [
    {
     "data": {
      "text/plain": [
       "22.0"
      ]
     },
     "execution_count": 47,
     "metadata": {},
     "output_type": "execute_result"
    }
   ],
   "source": [
    "S=\"22\"\n",
    "s=float(S)\n",
    "s"
   ]
  },
  {
   "cell_type": "code",
   "execution_count": 48,
   "id": "6fe50f93",
   "metadata": {},
   "outputs": [
    {
     "name": "stdout",
     "output_type": "stream",
     "text": [
      "Let's play chess .\n"
     ]
    }
   ],
   "source": [
    "raining=False\n",
    "if not raining:\n",
    "    print(\"Let's play chess .\")\n",
    "else:\n",
    "    print(\"Lets play cricket. \")\n",
    "    "
   ]
  },
  {
   "cell_type": "code",
   "execution_count": 49,
   "id": "19c91ee0",
   "metadata": {},
   "outputs": [
    {
     "name": "stdout",
     "output_type": "stream",
     "text": [
      "Lets focus.\n"
     ]
    }
   ],
   "source": [
    "class_started=True\n",
    "if not class_started:\n",
    "    print(\"Lets revise.\")\n",
    "else:\n",
    "    print(\"Lets focus.\")"
   ]
  },
  {
   "cell_type": "code",
   "execution_count": 50,
   "id": "55c0e6a0",
   "metadata": {},
   "outputs": [
    {
     "name": "stdout",
     "output_type": "stream",
     "text": [
      "Has the class started?[0:False|1:True]: 1\n",
      "Hocus pocus focus\n"
     ]
    }
   ],
   "source": [
    "class_started=bool(input(\"Has the class started?[0:False|1:True]: \"))\n",
    "if class_started:\n",
    "    print(\"Hocus pocus focus\")\n",
    "else:\n",
    "    print(\"Chill \")"
   ]
  },
  {
   "cell_type": "code",
   "execution_count": 51,
   "id": "f4d73900",
   "metadata": {},
   "outputs": [
    {
     "name": "stdout",
     "output_type": "stream",
     "text": [
      "Please put your attendance record: 2\n",
      "Please put your assignment record: 3\n",
      "You aren't eligible for exam.\n"
     ]
    }
   ],
   "source": [
    "attd=int(input(\"Please put your attendance record: \"))\n",
    "assn=int(input(\"Please put your assignment record: \"))\n",
    "if attd>75 and assn>70:\n",
    "    print(\"You are eligible for exam.\")\n",
    "else:\n",
    "    print(\"You aren't eligible for exam.\")\n",
    "     "
   ]
  },
  {
   "cell_type": "code",
   "execution_count": 52,
   "id": "f1cd83c8",
   "metadata": {},
   "outputs": [
    {
     "name": "stdout",
     "output_type": "stream",
     "text": [
      "It's a bad dish!\n",
      "because vegetable present:True\n",
      "because salt present:False\n"
     ]
    }
   ],
   "source": [
    "veg_present=True\n",
    "salt_present=False\n",
    "if veg_present and salt_present:\n",
    "    print(\"It's a good dish!\")\n",
    "else:\n",
    "    print(\"It's a bad dish!\")\n",
    "    print(f\"because vegetable present:{veg_present}\")\n",
    "    print(f\"because salt present:{salt_present}\")"
   ]
  },
  {
   "cell_type": "code",
   "execution_count": 53,
   "id": "cc7205bd",
   "metadata": {},
   "outputs": [
    {
     "name": "stdout",
     "output_type": "stream",
     "text": [
      "Make Payment\n"
     ]
    }
   ],
   "source": [
    "cr_card=True\n",
    "db_card=True\n",
    "UPI=True\n",
    "if cr_card or db_card or UPI:\n",
    "    print(\"Make Payment\")\n",
    "else:\n",
    "    print(\"COD?\")"
   ]
  },
  {
   "cell_type": "code",
   "execution_count": 54,
   "id": "09c7e0a6",
   "metadata": {},
   "outputs": [
    {
     "name": "stdout",
     "output_type": "stream",
     "text": [
      "Student is ineligible.\n"
     ]
    }
   ],
   "source": [
    "attd=44\n",
    "assn=67\n",
    "sports=True\n",
    "if attd>=75 and assn>=70:\n",
    "    if sports:\n",
    "        print(\"Student's eligible.\")\n",
    "    else:\n",
    "        print('Student is ineligible.')\n",
    "        \n",
    "    \n",
    "else:\n",
    "    print('Student is ineligible.')"
   ]
  },
  {
   "cell_type": "code",
   "execution_count": 55,
   "id": "1c0c060f",
   "metadata": {},
   "outputs": [
    {
     "data": {
      "text/plain": [
       "True"
      ]
     },
     "execution_count": 55,
     "metadata": {},
     "output_type": "execute_result"
    }
   ],
   "source": [
    "'''so in 'is' operator we also check the memory location, if the values of two variables have the same memory location then we can say that A is B \n",
    "'''\n",
    "A=12\n",
    "b=12\n",
    "A is b\n"
   ]
  },
  {
   "cell_type": "code",
   "execution_count": 56,
   "id": "b9b9584c",
   "metadata": {},
   "outputs": [
    {
     "name": "stdout",
     "output_type": "stream",
     "text": [
      "Please enter your name:dds\n",
      "He is only a student.\n"
     ]
    }
   ],
   "source": [
    "name=input(\"Please enter your name:\")\n",
    "if name=='Himanshu Salvekar':\n",
    "    print(\"He's a sports player.\")\n",
    "else:\n",
    "    print(\"He is only a student.\")"
   ]
  },
  {
   "cell_type": "code",
   "execution_count": 57,
   "id": "05dafd13",
   "metadata": {},
   "outputs": [
    {
     "name": "stdout",
     "output_type": "stream",
     "text": [
      "Please enter your score: 12\n",
      "Failed!\n"
     ]
    }
   ],
   "source": [
    "your_score=int(input(\"Please enter your score: \"))\n",
    "if your_score>33.33:\n",
    "    print(\"You've passed!\")\n",
    "else:\n",
    "    print(\"Failed!\")"
   ]
  },
  {
   "cell_type": "code",
   "execution_count": 58,
   "id": "12ff1ece",
   "metadata": {},
   "outputs": [
    {
     "name": "stdout",
     "output_type": "stream",
     "text": [
      "False\n"
     ]
    }
   ],
   "source": [
    "a = 6\n",
    "b = 10\n",
    "print( not ( not a == 10 or not b == 10) )"
   ]
  },
  {
   "cell_type": "code",
   "execution_count": 59,
   "id": "e1919cea",
   "metadata": {},
   "outputs": [
    {
     "name": "stdout",
     "output_type": "stream",
     "text": [
      "False\n"
     ]
    }
   ],
   "source": [
    "A = 5.0\n",
    "B = 10/2\n",
    "print(A is B)"
   ]
  },
  {
   "cell_type": "code",
   "execution_count": 60,
   "id": "d9208808",
   "metadata": {},
   "outputs": [
    {
     "name": "stdout",
     "output_type": "stream",
     "text": [
      "Enter a word: radar\n",
      "radar is a palindrome\n"
     ]
    }
   ],
   "source": [
    "word=input(\"Enter a word: \")\n",
    "if word==word[::-1]:\n",
    "    print(f\"{word} is a palindrome\")\n",
    "else:\n",
    "    print(f\"{word}'s not a palindrome\")"
   ]
  },
  {
   "cell_type": "code",
   "execution_count": 61,
   "id": "6e2189ce",
   "metadata": {},
   "outputs": [
    {
     "data": {
      "text/plain": [
       "11"
      ]
     },
     "execution_count": 61,
     "metadata": {},
     "output_type": "execute_result"
    }
   ],
   "source": [
    "var1=45\n",
    "var2=34\n",
    "var1%var2\n",
    "#modulo gives us the remainder!\n"
   ]
  },
  {
   "cell_type": "code",
   "execution_count": 62,
   "id": "179ee7dd",
   "metadata": {},
   "outputs": [
    {
     "data": {
      "text/plain": [
       "1"
      ]
     },
     "execution_count": 62,
     "metadata": {},
     "output_type": "execute_result"
    }
   ],
   "source": [
    "var1//var2\n",
    "#'//' gives us the quotient of the division! "
   ]
  },
  {
   "cell_type": "code",
   "execution_count": 63,
   "id": "80ac7c8e",
   "metadata": {},
   "outputs": [
    {
     "name": "stdout",
     "output_type": "stream",
     "text": [
      "noteven\n"
     ]
    }
   ],
   "source": [
    "a=57\n",
    "b=2\n",
    "if a%b==0:\n",
    "    print(\"a is even\")\n",
    "else:\n",
    "    print(\"noteven\")"
   ]
  },
  {
   "cell_type": "code",
   "execution_count": 64,
   "id": "6401d59a",
   "metadata": {},
   "outputs": [
    {
     "data": {
      "text/plain": [
       "'an'"
      ]
     },
     "execution_count": 64,
     "metadata": {},
     "output_type": "execute_result"
    }
   ],
   "source": [
    "name=\"Himanshu\"\n",
    "name[3:5]"
   ]
  },
  {
   "cell_type": "code",
   "execution_count": 65,
   "id": "26d9250f",
   "metadata": {},
   "outputs": [
    {
     "data": {
      "text/plain": [
       "'u'"
      ]
     },
     "execution_count": 65,
     "metadata": {},
     "output_type": "execute_result"
    }
   ],
   "source": [
    "name[-1]"
   ]
  },
  {
   "cell_type": "code",
   "execution_count": 66,
   "id": "74c0d8b9",
   "metadata": {},
   "outputs": [
    {
     "data": {
      "text/plain": [
       "'uhsnamiH'"
      ]
     },
     "execution_count": 66,
     "metadata": {},
     "output_type": "execute_result"
    }
   ],
   "source": [
    "name[::-1]"
   ]
  },
  {
   "cell_type": "code",
   "execution_count": 67,
   "id": "0f9f90d4",
   "metadata": {},
   "outputs": [
    {
     "name": "stdout",
     "output_type": "stream",
     "text": [
      "Please enter your birth-date: asas\n",
      "User was born in the month of s of the year: on date:as\n"
     ]
    }
   ],
   "source": [
    "#07/Nov/2001\n",
    "data=input(\"Please enter your birth-date: \")\n",
    "\n",
    "day=data[0:2]\n",
    "month=data[3:6]\n",
    "year=data[7:]\n",
    "print(f\"User was born in the month of {month} of the year:{year} on date:{day}\")"
   ]
  },
  {
   "cell_type": "code",
   "execution_count": 68,
   "id": "b1bb5652",
   "metadata": {},
   "outputs": [
    {
     "data": {
      "text/plain": [
       "['asas']"
      ]
     },
     "execution_count": 68,
     "metadata": {},
     "output_type": "execute_result"
    }
   ],
   "source": [
    "data.split('/')"
   ]
  },
  {
   "cell_type": "code",
   "execution_count": 69,
   "id": "de8a9efa",
   "metadata": {},
   "outputs": [
    {
     "data": {
      "text/plain": [
       "'himan'"
      ]
     },
     "execution_count": 69,
     "metadata": {},
     "output_type": "execute_result"
    }
   ],
   "source": [
    "name='Himan'\n",
    "name1='h'+name[1:]\n",
    "name1"
   ]
  },
  {
   "cell_type": "code",
   "execution_count": 70,
   "id": "be1a2103",
   "metadata": {},
   "outputs": [
    {
     "data": {
      "text/plain": [
       "'hhhimanshu'"
      ]
     },
     "execution_count": 70,
     "metadata": {},
     "output_type": "execute_result"
    }
   ],
   "source": [
    "name='Himanshu'\n",
    "name=name.replace('H','hhh')\n",
    "name"
   ]
  },
  {
   "cell_type": "code",
   "execution_count": 71,
   "id": "15b694cb",
   "metadata": {},
   "outputs": [
    {
     "data": {
      "text/plain": [
       "'hhhimanshu'"
      ]
     },
     "execution_count": 71,
     "metadata": {},
     "output_type": "execute_result"
    }
   ],
   "source": [
    "name"
   ]
  },
  {
   "cell_type": "code",
   "execution_count": 72,
   "id": "0d519ff5",
   "metadata": {},
   "outputs": [],
   "source": [
    "name=name.replace('hhh','H')"
   ]
  },
  {
   "cell_type": "code",
   "execution_count": 73,
   "id": "d6469dee",
   "metadata": {},
   "outputs": [
    {
     "data": {
      "text/plain": [
       "'Himanshu'"
      ]
     },
     "execution_count": 73,
     "metadata": {},
     "output_type": "execute_result"
    }
   ],
   "source": [
    "name\n"
   ]
  },
  {
   "cell_type": "code",
   "execution_count": 74,
   "id": "e96e7d42",
   "metadata": {},
   "outputs": [
    {
     "data": {
      "text/plain": [
       "'s1s1Q'"
      ]
     },
     "execution_count": 74,
     "metadata": {},
     "output_type": "execute_result"
    }
   ],
   "source": [
    "xy='s1s1sq'\n",
    "xy=xy.replace('sq','Q')\n",
    "xy"
   ]
  },
  {
   "cell_type": "code",
   "execution_count": 75,
   "id": "63734cb8",
   "metadata": {},
   "outputs": [
    {
     "data": {
      "text/plain": [
       "' '"
      ]
     },
     "execution_count": 75,
     "metadata": {},
     "output_type": "execute_result"
    }
   ],
   "source": [
    "name=\"Himanshu Salvekar\"\n",
    "name[8]"
   ]
  },
  {
   "cell_type": "code",
   "execution_count": 76,
   "id": "73ff4c87",
   "metadata": {},
   "outputs": [
    {
     "data": {
      "text/plain": [
       "'Himanshu Shantanu Salvekar'"
      ]
     },
     "execution_count": 76,
     "metadata": {},
     "output_type": "execute_result"
    }
   ],
   "source": [
    "name='Himanshu Shantanu Salvekar'\n",
    "name=name.replace(' _',' ')\n",
    "name"
   ]
  },
  {
   "cell_type": "code",
   "execution_count": 77,
   "id": "4fbb56d5",
   "metadata": {},
   "outputs": [],
   "source": [
    "fn,mn,ln=name.split()"
   ]
  },
  {
   "cell_type": "code",
   "execution_count": 78,
   "id": "60e157cf",
   "metadata": {},
   "outputs": [
    {
     "data": {
      "text/plain": [
       "['Himanshu']"
      ]
     },
     "execution_count": 78,
     "metadata": {},
     "output_type": "execute_result"
    }
   ],
   "source": [
    "fn.split()"
   ]
  },
  {
   "cell_type": "code",
   "execution_count": 79,
   "id": "63ac71f5",
   "metadata": {},
   "outputs": [
    {
     "name": "stdout",
     "output_type": "stream",
     "text": [
      "Enter your name: asasasa\n",
      "name in upper letters:ASASASA\n",
      "name in lower letters:asasasa\n",
      "name in title letters:Asasasa\n",
      "name in capitalize letters:Asasasa\n",
      "name in swapcase letters:ASASASA\n"
     ]
    }
   ],
   "source": [
    "name=input('Enter your name: ')\n",
    "print(f\"name in upper letters:{name.upper()}\")\n",
    "print(f\"name in lower letters:{name.lower()}\")\n",
    "print(f\"name in title letters:{name.title()}\")\n",
    "print(f\"name in capitalize letters:{name.capitalize()}\")\n",
    "print(f\"name in swapcase letters:{name.swapcase()}\")"
   ]
  },
  {
   "cell_type": "code",
   "execution_count": 80,
   "id": "2610eaea",
   "metadata": {},
   "outputs": [
    {
     "data": {
      "text/plain": [
       "'HimanshuSalvekar'"
      ]
     },
     "execution_count": 80,
     "metadata": {},
     "output_type": "execute_result"
    }
   ],
   "source": [
    "name='H i m a n s h u  S a l v e k a r'\n",
    "''.join(name)\n",
    "name=name.replace(' ','')\n",
    "name"
   ]
  },
  {
   "cell_type": "code",
   "execution_count": 81,
   "id": "7a93c904",
   "metadata": {},
   "outputs": [
    {
     "data": {
      "text/plain": [
       "'$$$$$$$$$Himanshu$$$$$$$$'"
      ]
     },
     "execution_count": 81,
     "metadata": {},
     "output_type": "execute_result"
    }
   ],
   "source": [
    "name='Himanshu'\n",
    "name.center(25,'$')"
   ]
  },
  {
   "cell_type": "code",
   "execution_count": 82,
   "id": "bb39dbda",
   "metadata": {},
   "outputs": [
    {
     "data": {
      "text/plain": [
       "True"
      ]
     },
     "execution_count": 82,
     "metadata": {},
     "output_type": "execute_result"
    }
   ],
   "source": [
    "name=' '\n",
    "name.isspace()"
   ]
  },
  {
   "cell_type": "code",
   "execution_count": 83,
   "id": "245b3e37",
   "metadata": {},
   "outputs": [
    {
     "data": {
      "text/plain": [
       "False"
      ]
     },
     "execution_count": 83,
     "metadata": {},
     "output_type": "execute_result"
    }
   ],
   "source": [
    "n1='Himanshu'\n",
    "n1.isupper()"
   ]
  },
  {
   "cell_type": "code",
   "execution_count": 84,
   "id": "49d1f527",
   "metadata": {},
   "outputs": [
    {
     "name": "stdout",
     "output_type": "stream",
     "text": [
      "Please enter your name: asasa\n",
      "User input:asasa\n",
      "The input's wrong we need to autocorrect it!\n",
      "Correct output:Asasa\n"
     ]
    }
   ],
   "source": [
    "name=input(\"Please enter your name: \")\n",
    "print(f\"User input:{name}\")\n",
    "if name.istitle():\n",
    "    print(\"The input is in the correct form.\")\n",
    "elif name.isspace():\n",
    "    print(\"Wrong input please try again\")\n",
    "else:\n",
    "    print(\"The input's wrong we need to autocorrect it!\")\n",
    "    name=name.title()\n",
    "    print(f\"Correct output:{name}\")"
   ]
  },
  {
   "cell_type": "code",
   "execution_count": 86,
   "id": "294fff12",
   "metadata": {},
   "outputs": [
    {
     "data": {
      "text/plain": [
       "False"
      ]
     },
     "execution_count": 86,
     "metadata": {},
     "output_type": "execute_result"
    }
   ],
   "source": [
    "phn_num='9887654gtgt'\n",
    "phn_num.isdigit()"
   ]
  },
  {
   "cell_type": "code",
   "execution_count": 89,
   "id": "11717bae",
   "metadata": {},
   "outputs": [
    {
     "name": "stdout",
     "output_type": "stream",
     "text": [
      "Please enter your valid Indian phn no: +918796540706\n",
      "Give phone number is an Indian phone number.\n"
     ]
    }
   ],
   "source": [
    "phn_num=input('Please enter your valid Indian phn no: ')\n",
    "if phn_num.startswith(\"+91\") and phn_num[1:].isdigit() and len(phn_num)==13:\n",
    "    print(\"Give phone number is an Indian phone number.\")\n",
    "else:\n",
    "    print(f\"Given number:{phn_num} is invalid for further procession.\")"
   ]
  },
  {
   "cell_type": "code",
   "execution_count": 90,
   "id": "5523f1a5",
   "metadata": {},
   "outputs": [
    {
     "data": {
      "text/plain": [
       "True"
      ]
     },
     "execution_count": 90,
     "metadata": {},
     "output_type": "execute_result"
    }
   ],
   "source": [
    "pn='asa766554'\n",
    "pn.isalnum()"
   ]
  },
  {
   "cell_type": "code",
   "execution_count": 95,
   "id": "c33123ce",
   "metadata": {},
   "outputs": [
    {
     "name": "stdout",
     "output_type": "stream",
     "text": [
      "Please enter the length: 3\n",
      "Please enter the width: 4\n",
      "The area's:12\n",
      "It's a rectangle.\n"
     ]
    }
   ],
   "source": [
    "length=int(input('Please enter the length: '))\n",
    "width=int(input('Please enter the width: '))\n",
    "area=length*width\n",
    "print(f\"The area's:{area}\")\n",
    "if length==width:\n",
    "           print(\"The polygon's a square.\")\n",
    "else:\n",
    "    print(\"It's a rectangle.\")\n",
    "\n",
    "    "
   ]
  },
  {
   "cell_type": "code",
   "execution_count": 98,
   "id": "5b735828",
   "metadata": {},
   "outputs": [
    {
     "name": "stdout",
     "output_type": "stream",
     "text": [
      "Enter a year: 1600\n",
      "It's a leap year!\n"
     ]
    }
   ],
   "source": [
    "year=int(input(\"Enter a year: \"))\n",
    "if year%4==0 and year%400==0:\n",
    "    print(\"It's a leap year!\")\n",
    "else:\n",
    "    print(\"It's not a leap year!\")"
   ]
  },
  {
   "cell_type": "code",
   "execution_count": 15,
   "id": "d245b88c",
   "metadata": {},
   "outputs": [
    {
     "name": "stdout",
     "output_type": "stream",
     "text": [
      "Please enter your entire shopping amount: 899\n",
      "Cart Total:899\n",
      "Pay amount:719.2\n"
     ]
    }
   ],
   "source": [
    "total_amount=int(input(\"Please enter your entire shopping amount: \"))\n",
    "print(f\"Cart Total:{total_amount}\")\n",
    "if total_amount>999:\n",
    "    pad=total_amount*0.7\n",
    "    print(f\"Pay amount:{pad}\")\n",
    "elif total_amount>499 and total_amount<=999:\n",
    "    pad=total_amount*0.8\n",
    "    print(f\"Pay amount:{pad}\")\n",
    "else:\n",
    "    print(f\"Pay Amount:{total_amount}\")"
   ]
  },
  {
   "cell_type": "code",
   "execution_count": 11,
   "id": "49d14734",
   "metadata": {},
   "outputs": [
    {
     "name": "stdout",
     "output_type": "stream",
     "text": [
      "Please put  number here: 0\n",
      "IT'S ZERO\n"
     ]
    }
   ],
   "source": [
    "val=float(input(\"Please put  number here: \"))\n",
    "if val>=0:\n",
    "    if val==0:\n",
    "        print(\"IT'S ZERO\")\n",
    "    else:\n",
    "        print(\"It's a positive no.\")\n",
    "else:\n",
    "    print(\"It's a negative number.\")"
   ]
  },
  {
   "cell_type": "code",
   "execution_count": 4,
   "id": "65603c76",
   "metadata": {},
   "outputs": [
    {
     "name": "stdout",
     "output_type": "stream",
     "text": [
      "Enter a number: 32\n",
      "NO\n"
     ]
    }
   ],
   "source": [
    "val=float(input(\"Enter a number: \"))\n",
    "print(\"YES\" if val>99 else \"NO\")"
   ]
  },
  {
   "cell_type": "code",
   "execution_count": 10,
   "id": "a1abdc69",
   "metadata": {},
   "outputs": [
    {
     "name": "stdout",
     "output_type": "stream",
     "text": [
      "Your score is:100,cutoff:400\n",
      "I'll attempt next year\n",
      "Your score is:200,cutoff:400\n",
      "I'll attempt next year\n",
      "Your score is:300,cutoff:400\n",
      "I'll attempt next year\n",
      "Your score is:399,cutoff:400\n",
      "I'll attempt next year\n"
     ]
    }
   ],
   "source": [
    "total_marks=1000\n",
    "cut_off=400\n",
    "scores=[100,200,300,399,500]\n",
    "\n",
    "year=0\n",
    "\n",
    "while scores[year] < cut_off:\n",
    "    print(f\"Your score is:{scores[year]},cutoff:{cut_off}\")\n",
    "    print(\"I'll attempt next year\")\n",
    "    year=year+1"
   ]
  },
  {
   "cell_type": "code",
   "execution_count": 1,
   "id": "1f89c466",
   "metadata": {},
   "outputs": [],
   "source": [
    "def test():\n",
    "    pass\n",
    "    "
   ]
  },
  {
   "cell_type": "code",
   "execution_count": 2,
   "id": "34cd13b0",
   "metadata": {},
   "outputs": [],
   "source": [
    "def test1():\n",
    "    print(\"This is my first function\")"
   ]
  },
  {
   "cell_type": "code",
   "execution_count": 4,
   "id": "cca933d3",
   "metadata": {},
   "outputs": [
    {
     "name": "stdout",
     "output_type": "stream",
     "text": [
      "This is my first function\n"
     ]
    }
   ],
   "source": [
    "test1()"
   ]
  },
  {
   "cell_type": "code",
   "execution_count": 5,
   "id": "2b534c17",
   "metadata": {},
   "outputs": [],
   "source": [
    "def test2():\n",
    "    return 5"
   ]
  },
  {
   "cell_type": "code",
   "execution_count": 6,
   "id": "d7abb2c9",
   "metadata": {},
   "outputs": [],
   "source": [
    "d=test2()"
   ]
  },
  {
   "cell_type": "code",
   "execution_count": 7,
   "id": "d9c920b0",
   "metadata": {},
   "outputs": [
    {
     "data": {
      "text/plain": [
       "5"
      ]
     },
     "execution_count": 7,
     "metadata": {},
     "output_type": "execute_result"
    }
   ],
   "source": [
    "d"
   ]
  },
  {
   "cell_type": "code",
   "execution_count": 8,
   "id": "c3cd6e5d",
   "metadata": {},
   "outputs": [],
   "source": [
    "def test3():\n",
    "    return 'Himanshu'"
   ]
  },
  {
   "cell_type": "code",
   "execution_count": 9,
   "id": "fe865d92",
   "metadata": {},
   "outputs": [
    {
     "data": {
      "text/plain": [
       "'HimanshuSalvekar'"
      ]
     },
     "execution_count": 9,
     "metadata": {},
     "output_type": "execute_result"
    }
   ],
   "source": [
    "test3() + 'Salvekar'"
   ]
  },
  {
   "cell_type": "code",
   "execution_count": 10,
   "id": "83113b74",
   "metadata": {},
   "outputs": [],
   "source": [
    "def test4():\n",
    "    return 1,2,[3,4],(4,56)"
   ]
  },
  {
   "cell_type": "code",
   "execution_count": 11,
   "id": "bef92e0b",
   "metadata": {},
   "outputs": [
    {
     "data": {
      "text/plain": [
       "(1, 2, [3, 4], (4, 56))"
      ]
     },
     "execution_count": 11,
     "metadata": {},
     "output_type": "execute_result"
    }
   ],
   "source": [
    "test4()"
   ]
  },
  {
   "cell_type": "code",
   "execution_count": 12,
   "id": "c1a22a4f",
   "metadata": {},
   "outputs": [
    {
     "data": {
      "text/plain": [
       "2"
      ]
     },
     "execution_count": 12,
     "metadata": {},
     "output_type": "execute_result"
    }
   ],
   "source": [
    "test4()[1]"
   ]
  },
  {
   "cell_type": "code",
   "execution_count": 13,
   "id": "b373db5b",
   "metadata": {},
   "outputs": [],
   "source": [
    "a,b,c,d=test4()"
   ]
  },
  {
   "cell_type": "code",
   "execution_count": 14,
   "id": "cdceffdc",
   "metadata": {},
   "outputs": [
    {
     "data": {
      "text/plain": [
       "1"
      ]
     },
     "execution_count": 14,
     "metadata": {},
     "output_type": "execute_result"
    }
   ],
   "source": [
    "a"
   ]
  },
  {
   "cell_type": "code",
   "execution_count": 15,
   "id": "e21235df",
   "metadata": {},
   "outputs": [
    {
     "data": {
      "text/plain": [
       "2"
      ]
     },
     "execution_count": 15,
     "metadata": {},
     "output_type": "execute_result"
    }
   ],
   "source": [
    "b"
   ]
  },
  {
   "cell_type": "code",
   "execution_count": 16,
   "id": "76a296e3",
   "metadata": {},
   "outputs": [
    {
     "data": {
      "text/plain": [
       "[3, 4]"
      ]
     },
     "execution_count": 16,
     "metadata": {},
     "output_type": "execute_result"
    }
   ],
   "source": [
    "c"
   ]
  },
  {
   "cell_type": "code",
   "execution_count": 17,
   "id": "da8414a0",
   "metadata": {},
   "outputs": [
    {
     "data": {
      "text/plain": [
       "(4, 56)"
      ]
     },
     "execution_count": 17,
     "metadata": {},
     "output_type": "execute_result"
    }
   ],
   "source": [
    "d"
   ]
  },
  {
   "cell_type": "code",
   "execution_count": 18,
   "id": "5283d222",
   "metadata": {},
   "outputs": [],
   "source": [
    "def test5():\n",
    "    a=4*5+2\n",
    "    return a"
   ]
  },
  {
   "cell_type": "code",
   "execution_count": 19,
   "id": "04df3b7f",
   "metadata": {},
   "outputs": [],
   "source": [
    "b=test5()\n"
   ]
  },
  {
   "cell_type": "code",
   "execution_count": 20,
   "id": "db723c43",
   "metadata": {},
   "outputs": [
    {
     "data": {
      "text/plain": [
       "22"
      ]
     },
     "execution_count": 20,
     "metadata": {},
     "output_type": "execute_result"
    }
   ],
   "source": [
    "b\n"
   ]
  },
  {
   "cell_type": "code",
   "execution_count": 37,
   "id": "fd6c8d8b",
   "metadata": {},
   "outputs": [],
   "source": [
    "def test6(l):\n",
    "    \n",
    "\n",
    "    a=0\n",
    "    for i in l:\n",
    "        if type(i)==int:\n",
    "    \n",
    "           a=i+a\n",
    "           print(a)\n",
    "    "
   ]
  },
  {
   "cell_type": "code",
   "execution_count": 34,
   "id": "72908e7e",
   "metadata": {},
   "outputs": [
    {
     "name": "stdout",
     "output_type": "stream",
     "text": [
      "1\n",
      "3\n",
      "6\n",
      "10\n",
      "15\n",
      "21\n"
     ]
    }
   ],
   "source": [
    "test6()"
   ]
  },
  {
   "cell_type": "code",
   "execution_count": 35,
   "id": "376788e0",
   "metadata": {},
   "outputs": [],
   "source": [
    "l1=[12,3,4,1,3,1,2,'him']"
   ]
  },
  {
   "cell_type": "code",
   "execution_count": 38,
   "id": "1a7336bc",
   "metadata": {},
   "outputs": [
    {
     "name": "stdout",
     "output_type": "stream",
     "text": [
      "12\n",
      "15\n",
      "19\n",
      "20\n",
      "23\n",
      "24\n",
      "26\n"
     ]
    }
   ],
   "source": [
    "test6(l1)"
   ]
  },
  {
   "cell_type": "code",
   "execution_count": 40,
   "id": "58617559",
   "metadata": {},
   "outputs": [],
   "source": [
    "def test7(a,b):\n",
    "    return a+b"
   ]
  },
  {
   "cell_type": "code",
   "execution_count": 42,
   "id": "907e2247",
   "metadata": {},
   "outputs": [
    {
     "data": {
      "text/plain": [
       "'himanshusalvekar'"
      ]
     },
     "execution_count": 42,
     "metadata": {},
     "output_type": "execute_result"
    }
   ],
   "source": [
    "test7('himanshu','salvekar')"
   ]
  },
  {
   "cell_type": "code",
   "execution_count": 43,
   "id": "795b1fff",
   "metadata": {},
   "outputs": [
    {
     "data": {
      "text/plain": [
       "3"
      ]
     },
     "execution_count": 43,
     "metadata": {},
     "output_type": "execute_result"
    }
   ],
   "source": [
    "test7(a=1,b=2)"
   ]
  },
  {
   "cell_type": "code",
   "execution_count": 48,
   "id": "22a7d646",
   "metadata": {},
   "outputs": [],
   "source": [
    "l2=[1,2,3,4,5,'ashaj','asas']"
   ]
  },
  {
   "cell_type": "code",
   "execution_count": 56,
   "id": "b9784815",
   "metadata": {},
   "outputs": [],
   "source": [
    "def test8(l):\n",
    "    '''this is my function to separate str from a list to a new list'''\n",
    "    l1=[]\n",
    "    for i in l:\n",
    "        if type(i)==str:\n",
    "            l1.append(i)\n",
    "            print(l1)\n",
    "        \n",
    "    \n",
    "\n",
    "        "
   ]
  },
  {
   "cell_type": "code",
   "execution_count": 57,
   "id": "78ab980e",
   "metadata": {},
   "outputs": [
    {
     "name": "stdout",
     "output_type": "stream",
     "text": [
      "['ashaj']\n",
      "['ashaj', 'asas']\n"
     ]
    }
   ],
   "source": [
    "test8(l2)"
   ]
  },
  {
   "cell_type": "code",
   "execution_count": 1,
   "id": "71bd000b",
   "metadata": {},
   "outputs": [
    {
     "name": "stdout",
     "output_type": "stream",
     "text": [
      "current sum:10\n",
      "current sum:20\n",
      "current sum:30\n",
      "current sum:40\n",
      "current sum:50\n",
      "current sum:60\n",
      "current sum:70\n",
      "current sum:80\n",
      "current sum:90\n",
      "current sum:100\n"
     ]
    }
   ],
   "source": [
    "notes=10\n",
    "i=1\n",
    "while i<=notes:\n",
    "    print(f\"current sum:{i*10}\")\n",
    "    i=i+1\n",
    "\n",
    "        "
   ]
  },
  {
   "cell_type": "code",
   "execution_count": null,
   "id": "944f0f97",
   "metadata": {},
   "outputs": [],
   "source": [
    "\n",
    "        "
   ]
  }
 ],
 "metadata": {
  "kernelspec": {
   "display_name": "Python 3",
   "language": "python",
   "name": "python3"
  },
  "language_info": {
   "codemirror_mode": {
    "name": "ipython",
    "version": 3
   },
   "file_extension": ".py",
   "mimetype": "text/x-python",
   "name": "python",
   "nbconvert_exporter": "python",
   "pygments_lexer": "ipython3",
   "version": "3.8.8"
  }
 },
 "nbformat": 4,
 "nbformat_minor": 5
}
