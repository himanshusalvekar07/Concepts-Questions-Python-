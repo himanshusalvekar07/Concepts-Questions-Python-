{
 "cells": [
  {
   "cell_type": "code",
   "execution_count": 1,
   "id": "8ef01272",
   "metadata": {},
   "outputs": [],
   "source": [
    "def my_func(l):\n",
    "    result=1\n",
    "    for i in l:\n",
    "        result=result*i\n",
    "    return result\n",
    "\n",
    "        "
   ]
  },
  {
   "cell_type": "code",
   "execution_count": 2,
   "id": "8fad2ee6",
   "metadata": {},
   "outputs": [
    {
     "data": {
      "text/plain": [
       "34.408"
      ]
     },
     "execution_count": 2,
     "metadata": {},
     "output_type": "execute_result"
    }
   ],
   "source": [
    "my_func([2.2,3.4,4.6])"
   ]
  },
  {
   "cell_type": "code",
   "execution_count": 9,
   "id": "bdf78133",
   "metadata": {},
   "outputs": [],
   "source": [
    "def index_of_list(l):\n",
    "    for i in range(len(l)):\n",
    "        print(f\"The element:{l[i]} has index {i}\")\n",
    "    return \"List has ended\"\n",
    "\n",
    "        \n",
    "        "
   ]
  },
  {
   "cell_type": "code",
   "execution_count": 11,
   "id": "75c53ee6",
   "metadata": {},
   "outputs": [
    {
     "name": "stdout",
     "output_type": "stream",
     "text": [
      "The element:hims has index 0\n",
      "The element:adsa has index 1\n",
      "The element:12 has index 2\n",
      "The element:23 has index 3\n"
     ]
    },
    {
     "data": {
      "text/plain": [
       "'List has ended'"
      ]
     },
     "execution_count": 11,
     "metadata": {},
     "output_type": "execute_result"
    }
   ],
   "source": [
    "index_of_list(['hims','adsa',12,23])"
   ]
  },
  {
   "cell_type": "code",
   "execution_count": 13,
   "id": "36d22759",
   "metadata": {},
   "outputs": [
    {
     "data": {
      "text/plain": [
       "[(0, 12), (1, 3), (2, 4)]"
      ]
     },
     "execution_count": 13,
     "metadata": {},
     "output_type": "execute_result"
    }
   ],
   "source": [
    "l1=[12,3,4]\n",
    "list(enumerate(l1))"
   ]
  },
  {
   "cell_type": "code",
   "execution_count": 1,
   "id": "e349ba8d",
   "metadata": {},
   "outputs": [],
   "source": [
    "def len_count(s):\n",
    "    count=0\n",
    "    for i in s:\n",
    "        count+=1\n",
    "    print(f\"The length of the given string is: {count}.\")\n",
    "    \n"
   ]
  },
  {
   "cell_type": "code",
   "execution_count": 4,
   "id": "cb8f6fc6",
   "metadata": {},
   "outputs": [
    {
     "name": "stdout",
     "output_type": "stream",
     "text": [
      "The length of the given string is: 8.\n"
     ]
    }
   ],
   "source": [
    "len_count('abhishek')"
   ]
  },
  {
   "cell_type": "code",
   "execution_count": 3,
   "id": "c0b65cbb",
   "metadata": {},
   "outputs": [],
   "source": [
    "def max_num(l1):\n",
    "    max_num=0\n",
    "    for num in l1:\n",
    "        if num>max_num:\n",
    "            max_num=num\n",
    "    return max_num"
   ]
  },
  {
   "cell_type": "code",
   "execution_count": 4,
   "id": "6aabb677",
   "metadata": {},
   "outputs": [
    {
     "data": {
      "text/plain": [
       "6"
      ]
     },
     "execution_count": 4,
     "metadata": {},
     "output_type": "execute_result"
    }
   ],
   "source": [
    "max_num([1,2,3,4,6])"
   ]
  },
  {
   "cell_type": "code",
   "execution_count": 8,
   "id": "fb8251b0",
   "metadata": {},
   "outputs": [],
   "source": [
    "def min_num(l1):\n",
    "    min_num=0\n",
    "    for num in l1:\n",
    "        if num<min_num:\n",
    "            min_num=num\n",
    "    return min_num"
   ]
  },
  {
   "cell_type": "code",
   "execution_count": 9,
   "id": "af412966",
   "metadata": {},
   "outputs": [
    {
     "data": {
      "text/plain": [
       "0"
      ]
     },
     "execution_count": 9,
     "metadata": {},
     "output_type": "execute_result"
    }
   ],
   "source": [
    "min_num([1,2,3])"
   ]
  },
  {
   "cell_type": "code",
   "execution_count": 12,
   "id": "185aac67",
   "metadata": {},
   "outputs": [],
   "source": [
    "l1=[1,1,1,2,3,4,2,1,2,3,4]\n",
    "l2=list(set(l1))"
   ]
  },
  {
   "cell_type": "code",
   "execution_count": 13,
   "id": "add4c575",
   "metadata": {},
   "outputs": [
    {
     "data": {
      "text/plain": [
       "[1, 2, 3, 4]"
      ]
     },
     "execution_count": 13,
     "metadata": {},
     "output_type": "execute_result"
    }
   ],
   "source": [
    "l2"
   ]
  },
  {
   "cell_type": "code",
   "execution_count": 22,
   "id": "1657b200",
   "metadata": {},
   "outputs": [
    {
     "data": {
      "text/plain": [
       "[2, 3, 4]"
      ]
     },
     "execution_count": 22,
     "metadata": {},
     "output_type": "execute_result"
    }
   ],
   "source": [
    "l1\n",
    "for i in l1:\n",
    "    if l1.count(i)>1:\n",
    "        l1.remove(i)\n",
    "l1"
   ]
  },
  {
   "cell_type": "code",
   "execution_count": 21,
   "id": "d7bd45a0",
   "metadata": {},
   "outputs": [
    {
     "data": {
      "text/plain": [
       "[2, 3, 4]"
      ]
     },
     "execution_count": 21,
     "metadata": {},
     "output_type": "execute_result"
    }
   ],
   "source": [
    "l2=[1,2,3]\n",
    "l1.remove(1)\n",
    "l1"
   ]
  },
  {
   "cell_type": "code",
   "execution_count": 25,
   "id": "38843f77",
   "metadata": {},
   "outputs": [],
   "source": [
    "l1=[1,2,1,2,1,2,1,2,1,1,1,1,2]\n",
    "l2=list(set(l1))"
   ]
  },
  {
   "cell_type": "code",
   "execution_count": 26,
   "id": "66e5b634",
   "metadata": {},
   "outputs": [
    {
     "data": {
      "text/plain": [
       "[1, 2]"
      ]
     },
     "execution_count": 26,
     "metadata": {},
     "output_type": "execute_result"
    }
   ],
   "source": [
    "l2"
   ]
  },
  {
   "cell_type": "code",
   "execution_count": 28,
   "id": "118fee90",
   "metadata": {},
   "outputs": [
    {
     "data": {
      "text/plain": [
       "[0, 1, 2, 3, 4, 5, 6, 7, 8, 9]"
      ]
     },
     "execution_count": 28,
     "metadata": {},
     "output_type": "execute_result"
    }
   ],
   "source": [
    "list(range(10))"
   ]
  },
  {
   "cell_type": "code",
   "execution_count": 5,
   "id": "20af7c81",
   "metadata": {},
   "outputs": [],
   "source": [
    "l1=[1,2,3,2,2]\n",
    "l2=list(set(l1))"
   ]
  },
  {
   "cell_type": "code",
   "execution_count": 6,
   "id": "8b8b602c",
   "metadata": {},
   "outputs": [
    {
     "data": {
      "text/plain": [
       "[1, 2, 3]"
      ]
     },
     "execution_count": 6,
     "metadata": {},
     "output_type": "execute_result"
    }
   ],
   "source": [
    "l2"
   ]
  },
  {
   "cell_type": "code",
   "execution_count": 1,
   "id": "dfe79f67",
   "metadata": {},
   "outputs": [],
   "source": [
    "def test1(a,b):\n",
    "    return a+b"
   ]
  },
  {
   "cell_type": "code",
   "execution_count": 2,
   "id": "6ebe1227",
   "metadata": {},
   "outputs": [
    {
     "data": {
      "text/plain": [
       "3"
      ]
     },
     "execution_count": 2,
     "metadata": {},
     "output_type": "execute_result"
    }
   ],
   "source": [
    "test1(1,2)"
   ]
  },
  {
   "cell_type": "code",
   "execution_count": 5,
   "id": "2a5bd8de",
   "metadata": {},
   "outputs": [],
   "source": [
    "def test3(*args):\n",
    "    return list(args)"
   ]
  },
  {
   "cell_type": "code",
   "execution_count": 6,
   "id": "a4467ef3",
   "metadata": {},
   "outputs": [
    {
     "data": {
      "text/plain": [
       "[1, 2, 3, 4]"
      ]
     },
     "execution_count": 6,
     "metadata": {},
     "output_type": "execute_result"
    }
   ],
   "source": [
    "test3(1,2,3,4)"
   ]
  },
  {
   "cell_type": "code",
   "execution_count": 7,
   "id": "0f485a7c",
   "metadata": {},
   "outputs": [
    {
     "data": {
      "text/plain": [
       "{'key1': 'himanshu', 'key2': 'salvekar'}"
      ]
     },
     "execution_count": 7,
     "metadata": {},
     "output_type": "execute_result"
    }
   ],
   "source": [
    "d1={'key1':'himanshu','key2':'salvekar'}\n",
    "d1"
   ]
  },
  {
   "cell_type": "code",
   "execution_count": 13,
   "id": "1cc771fd",
   "metadata": {},
   "outputs": [],
   "source": [
    "d8={'player1':'Ronaldo','otherplayers':{'RM':'Marcelo','Barca':'Messi','PSG':'DiMaria'}}"
   ]
  },
  {
   "cell_type": "code",
   "execution_count": 15,
   "id": "5de761da",
   "metadata": {},
   "outputs": [
    {
     "data": {
      "text/plain": [
       "'DiMaria'"
      ]
     },
     "execution_count": 15,
     "metadata": {},
     "output_type": "execute_result"
    }
   ],
   "source": [
    "d8['otherplayers']['PSG']"
   ]
  },
  {
   "cell_type": "code",
   "execution_count": 16,
   "id": "4f859855",
   "metadata": {},
   "outputs": [
    {
     "data": {
      "text/plain": [
       "dict_keys(['key1', 'key2'])"
      ]
     },
     "execution_count": 16,
     "metadata": {},
     "output_type": "execute_result"
    }
   ],
   "source": [
    "d1.keys()"
   ]
  },
  {
   "cell_type": "code",
   "execution_count": 17,
   "id": "02d8fd15",
   "metadata": {},
   "outputs": [
    {
     "data": {
      "text/plain": [
       "['key1', 'key2']"
      ]
     },
     "execution_count": 17,
     "metadata": {},
     "output_type": "execute_result"
    }
   ],
   "source": [
    "list(d1.keys())"
   ]
  },
  {
   "cell_type": "code",
   "execution_count": 18,
   "id": "67b17fec",
   "metadata": {},
   "outputs": [
    {
     "data": {
      "text/plain": [
       "dict_items([('key1', 'himanshu'), ('key2', 'salvekar')])"
      ]
     },
     "execution_count": 18,
     "metadata": {},
     "output_type": "execute_result"
    }
   ],
   "source": [
    "d1.items()"
   ]
  },
  {
   "cell_type": "code",
   "execution_count": 22,
   "id": "8f106853",
   "metadata": {},
   "outputs": [],
   "source": [
    "l=[]\n",
    "for i in d8.keys():\n",
    "    if type(d8[i])==dict:\n",
    "        l.append(list(d8[i].values()))\n",
    "        "
   ]
  },
  {
   "cell_type": "code",
   "execution_count": 23,
   "id": "485d6f9e",
   "metadata": {},
   "outputs": [
    {
     "data": {
      "text/plain": [
       "[['Marcelo', 'Messi', 'DiMaria']]"
      ]
     },
     "execution_count": 23,
     "metadata": {},
     "output_type": "execute_result"
    }
   ],
   "source": [
    "l"
   ]
  },
  {
   "cell_type": "code",
   "execution_count": 24,
   "id": "1e4f5e84",
   "metadata": {},
   "outputs": [
    {
     "data": {
      "text/plain": [
       "dict_keys(['player1', 'otherplayers'])"
      ]
     },
     "execution_count": 24,
     "metadata": {},
     "output_type": "execute_result"
    }
   ],
   "source": [
    "d8.keys()"
   ]
  },
  {
   "cell_type": "code",
   "execution_count": 25,
   "id": "2e9bd1bf",
   "metadata": {},
   "outputs": [],
   "source": [
    "def test4(d):\n",
    "    for i in d.keys():\n",
    "        if type(d[i])==dict:\n",
    "            return list(d[i].values())\n",
    "            "
   ]
  },
  {
   "cell_type": "code",
   "execution_count": 26,
   "id": "27737c7d",
   "metadata": {},
   "outputs": [
    {
     "data": {
      "text/plain": [
       "['Marcelo', 'Messi', 'DiMaria']"
      ]
     },
     "execution_count": 26,
     "metadata": {},
     "output_type": "execute_result"
    }
   ],
   "source": [
    "test4(d8)"
   ]
  },
  {
   "cell_type": "code",
   "execution_count": 27,
   "id": "4b10819f",
   "metadata": {},
   "outputs": [
    {
     "data": {
      "text/plain": [
       "{'player1': 'Ronaldo',\n",
       " 'otherplayers': {'RM': 'Marcelo', 'Barca': 'Messi', 'PSG': 'DiMaria'}}"
      ]
     },
     "execution_count": 27,
     "metadata": {},
     "output_type": "execute_result"
    }
   ],
   "source": [
    "d8"
   ]
  },
  {
   "cell_type": "code",
   "execution_count": 28,
   "id": "b1c1df80",
   "metadata": {},
   "outputs": [],
   "source": [
    "del d8['player1']"
   ]
  },
  {
   "cell_type": "code",
   "execution_count": 29,
   "id": "7bb591a8",
   "metadata": {},
   "outputs": [
    {
     "data": {
      "text/plain": [
       "{'otherplayers': {'RM': 'Marcelo', 'Barca': 'Messi', 'PSG': 'DiMaria'}}"
      ]
     },
     "execution_count": 29,
     "metadata": {},
     "output_type": "execute_result"
    }
   ],
   "source": [
    "d8"
   ]
  },
  {
   "cell_type": "code",
   "execution_count": 30,
   "id": "52552fea",
   "metadata": {},
   "outputs": [],
   "source": [
    "def test5(**kwargs):\n",
    "    return kwargs"
   ]
  },
  {
   "cell_type": "code",
   "execution_count": 31,
   "id": "f33afe14",
   "metadata": {},
   "outputs": [
    {
     "data": {
      "text/plain": [
       "{'a': 10, 'b': 15, 'c': 6}"
      ]
     },
     "execution_count": 31,
     "metadata": {},
     "output_type": "execute_result"
    }
   ],
   "source": [
    "test5(a=10,b=15,c=6)"
   ]
  },
  {
   "cell_type": "code",
   "execution_count": 32,
   "id": "ac7895b6",
   "metadata": {},
   "outputs": [],
   "source": [
    "def test6(a):\n",
    "    return a\n",
    "def test7(b):\n",
    "    return b\n",
    "def test8(func):\n",
    "    return func('himan')"
   ]
  },
  {
   "cell_type": "code",
   "execution_count": 34,
   "id": "b9ff9dbd",
   "metadata": {},
   "outputs": [
    {
     "data": {
      "text/plain": [
       "'himan'"
      ]
     },
     "execution_count": 34,
     "metadata": {},
     "output_type": "execute_result"
    }
   ],
   "source": [
    "test8(test6)"
   ]
  },
  {
   "cell_type": "code",
   "execution_count": 35,
   "id": "237e1d20",
   "metadata": {},
   "outputs": [
    {
     "data": {
      "text/plain": [
       "'himan'"
      ]
     },
     "execution_count": 35,
     "metadata": {},
     "output_type": "execute_result"
    }
   ],
   "source": [
    "test6('himan')"
   ]
  },
  {
   "cell_type": "code",
   "execution_count": 38,
   "id": "02bea05c",
   "metadata": {},
   "outputs": [],
   "source": [
    "def test9(a):\n",
    "    print(\"THis is test9\")\n",
    "    \n",
    "    def test10():\n",
    "        print(\"THis is test10\")\n",
    "    \n",
    "    def test11():\n",
    "        print(\"THis is test11\")\n",
    "    if a=='himan':\n",
    "        return test10()\n",
    "    elif a=='sal':\n",
    "        return test\n",
    "    \n",
    "    "
   ]
  },
  {
   "cell_type": "code",
   "execution_count": 40,
   "id": "c56d01b7",
   "metadata": {},
   "outputs": [
    {
     "name": "stdout",
     "output_type": "stream",
     "text": [
      "THis is test9\n",
      "THis is test10\n"
     ]
    }
   ],
   "source": [
    "test9('himan')"
   ]
  },
  {
   "cell_type": "code",
   "execution_count": 1,
   "id": "209b10c5",
   "metadata": {},
   "outputs": [],
   "source": [
    "def test1(a):\n",
    "    return a\n",
    "def test2(b):\n",
    "    return b\n",
    "def test3(func):\n",
    "    return func(\"himanshu\")\n",
    "    "
   ]
  },
  {
   "cell_type": "code",
   "execution_count": 3,
   "id": "fba39ff3",
   "metadata": {},
   "outputs": [
    {
     "data": {
      "text/plain": [
       "'himanshu'"
      ]
     },
     "execution_count": 3,
     "metadata": {},
     "output_type": "execute_result"
    }
   ],
   "source": [
    "test3(test1)"
   ]
  },
  {
   "cell_type": "code",
   "execution_count": 4,
   "id": "3f701673",
   "metadata": {},
   "outputs": [],
   "source": [
    "def test4(a):\n",
    "    print(\"This is my test4\")\n",
    "    \n",
    "    def test5():\n",
    "        print(\"My test5\")\n",
    "    def test6():\n",
    "        print(\"My test6\")\n",
    "    if a=='hima':\n",
    "        return test5()\n",
    "    elif a=='salv':\n",
    "        return test6()"
   ]
  },
  {
   "cell_type": "code",
   "execution_count": 7,
   "id": "748a9a71",
   "metadata": {},
   "outputs": [
    {
     "name": "stdout",
     "output_type": "stream",
     "text": [
      "This is my test4\n",
      "My test6\n"
     ]
    }
   ],
   "source": [
    "test4('salv')"
   ]
  },
  {
   "cell_type": "code",
   "execution_count": 12,
   "id": "aa7e7064",
   "metadata": {},
   "outputs": [],
   "source": [
    "def test99():\n",
    "    def test100():\n",
    "        print('This is test100')\n",
    "    return test100()\n",
    "    "
   ]
  },
  {
   "cell_type": "code",
   "execution_count": 13,
   "id": "f0d9ac62",
   "metadata": {},
   "outputs": [
    {
     "name": "stdout",
     "output_type": "stream",
     "text": [
      "This is test100\n"
     ]
    }
   ],
   "source": [
    "test99()"
   ]
  },
  {
   "cell_type": "code",
   "execution_count": 20,
   "id": "274822b9",
   "metadata": {},
   "outputs": [],
   "source": [
    "def test7(*args):\n",
    "    print('This is a return of test7.')\n",
    "    "
   ]
  },
  {
   "cell_type": "code",
   "execution_count": 23,
   "id": "19d06f9f",
   "metadata": {},
   "outputs": [],
   "source": [
    "def test8(func):\n",
    "    def test9():\n",
    "        print('This is test9.')\n",
    "        func()\n",
    "    return test9()"
   ]
  },
  {
   "cell_type": "code",
   "execution_count": 24,
   "id": "ada049b4",
   "metadata": {},
   "outputs": [
    {
     "name": "stdout",
     "output_type": "stream",
     "text": [
      "This is test9.\n",
      "This is a return of test7.\n"
     ]
    }
   ],
   "source": [
    "test8(test7)"
   ]
  },
  {
   "cell_type": "code",
   "execution_count": 25,
   "id": "b8dec98a",
   "metadata": {},
   "outputs": [],
   "source": [
    "def test101(func):\n",
    "    def test102():\n",
    "        print(\"asas\")\n",
    "        func()\n",
    "    return test102()"
   ]
  },
  {
   "cell_type": "code",
   "execution_count": 26,
   "id": "3d84d57f",
   "metadata": {},
   "outputs": [
    {
     "name": "stdout",
     "output_type": "stream",
     "text": [
      "asas\n",
      "This is a return of test7.\n"
     ]
    }
   ],
   "source": [
    "test101(test7)"
   ]
  },
  {
   "cell_type": "code",
   "execution_count": 28,
   "id": "8fddd790",
   "metadata": {},
   "outputs": [
    {
     "name": "stdout",
     "output_type": "stream",
     "text": [
      "This is a return of test7.\n"
     ]
    }
   ],
   "source": [
    "test7()"
   ]
  },
  {
   "cell_type": "code",
   "execution_count": 43,
   "id": "6f9ad1b0",
   "metadata": {},
   "outputs": [],
   "source": [
    "import os\n",
    "def test10(func):\n",
    "    def test11():\n",
    "        print(\"This is test 11 and this will behave a decorator to any function that I call!\")\n",
    "        print(os.getcwd())\n",
    "        \n",
    "    return test11()"
   ]
  },
  {
   "cell_type": "code",
   "execution_count": 47,
   "id": "be3d8f16",
   "metadata": {},
   "outputs": [
    {
     "name": "stdout",
     "output_type": "stream",
     "text": [
      "This is test 11 and this will behave a decorator to any function that I call!\n",
      "C:\\Users\\devas\\Desktop\\sample_project_1\n"
     ]
    }
   ],
   "source": [
    "@test10\n",
    "def test12():\n",
    "    print(\"Test 12!\")\n"
   ]
  },
  {
   "cell_type": "code",
   "execution_count": 48,
   "id": "99dde4e9",
   "metadata": {},
   "outputs": [],
   "source": [
    "def test12(func):\n",
    "    def test13():\n",
    "        print('inside 13')\n",
    "        func()\n",
    "        print('Function executed')\n",
    "    return test13()"
   ]
  },
  {
   "cell_type": "code",
   "execution_count": 58,
   "id": "1193c4b4",
   "metadata": {},
   "outputs": [
    {
     "name": "stdout",
     "output_type": "stream",
     "text": [
      "inside 13\n",
      "test14\n",
      "Function executed\n"
     ]
    }
   ],
   "source": [
    "@test12\n",
    "def test14():\n",
    "    print('test14')"
   ]
  },
  {
   "cell_type": "code",
   "execution_count": 60,
   "id": "8e98f642",
   "metadata": {},
   "outputs": [
    {
     "data": {
      "text/plain": [
       "['HIMA', 'ASASA', 'DINI']"
      ]
     },
     "execution_count": 60,
     "metadata": {},
     "output_type": "execute_result"
    }
   ],
   "source": [
    "l1=['hima','asasa','dini']\n",
    "list(map(lambda a:a.upper(),l1))"
   ]
  },
  {
   "cell_type": "code",
   "execution_count": 63,
   "id": "76fd530a",
   "metadata": {},
   "outputs": [],
   "source": [
    "l=[1,2,3,4,5,6,7,8,9,18,191,0]\n",
    "l1=[]\n",
    "for i in l:\n",
    "    if i%2==0:\n",
    "        l1.append(i)"
   ]
  },
  {
   "cell_type": "code",
   "execution_count": 64,
   "id": "41c25f22",
   "metadata": {},
   "outputs": [
    {
     "data": {
      "text/plain": [
       "[2, 4, 6, 8, 18, 0]"
      ]
     },
     "execution_count": 64,
     "metadata": {},
     "output_type": "execute_result"
    }
   ],
   "source": [
    "l1"
   ]
  },
  {
   "cell_type": "code",
   "execution_count": 67,
   "id": "47d20fc9",
   "metadata": {},
   "outputs": [
    {
     "data": {
      "text/plain": [
       "[None, 2, None, 4, None, 6, None, 8, None, 18, None, 0]"
      ]
     },
     "execution_count": 67,
     "metadata": {},
     "output_type": "execute_result"
    }
   ],
   "source": [
    "list(map(lambda num:num if num%2==0 else None,l))"
   ]
  },
  {
   "cell_type": "code",
   "execution_count": 68,
   "id": "1571a4f9",
   "metadata": {},
   "outputs": [
    {
     "data": {
      "text/plain": [
       "[1, 2, 3, 4, 5, 6, 7, 8, 9, 18, 191, 0]"
      ]
     },
     "execution_count": 68,
     "metadata": {},
     "output_type": "execute_result"
    }
   ],
   "source": [
    "l"
   ]
  },
  {
   "cell_type": "code",
   "execution_count": 69,
   "id": "17bb27f9",
   "metadata": {},
   "outputs": [],
   "source": [
    "l1=[i for i in l if i%2==0]"
   ]
  },
  {
   "cell_type": "code",
   "execution_count": 70,
   "id": "3b66a110",
   "metadata": {},
   "outputs": [
    {
     "data": {
      "text/plain": [
       "[2, 4, 6, 8, 18, 0]"
      ]
     },
     "execution_count": 70,
     "metadata": {},
     "output_type": "execute_result"
    }
   ],
   "source": [
    "l1"
   ]
  },
  {
   "cell_type": "code",
   "execution_count": 1,
   "id": "95f70957",
   "metadata": {},
   "outputs": [],
   "source": [
    "def test20():\n",
    "    def test21():\n",
    "        print('Hello')\n",
    "    return test21()"
   ]
  },
  {
   "cell_type": "code",
   "execution_count": 2,
   "id": "95f6e5a6",
   "metadata": {},
   "outputs": [
    {
     "name": "stdout",
     "output_type": "stream",
     "text": [
      "Hello\n"
     ]
    }
   ],
   "source": [
    "test20()"
   ]
  },
  {
   "cell_type": "code",
   "execution_count": 20,
   "id": "0ecc2685",
   "metadata": {},
   "outputs": [],
   "source": [
    "#wrapperFunction\n",
    "def test1(func):\n",
    "    def test2():\n",
    "        print(func())\n",
    "        print(type(func()))\n",
    "        \n",
    "    test2()\n",
    "    "
   ]
  },
  {
   "cell_type": "code",
   "execution_count": 21,
   "id": "125c5869",
   "metadata": {},
   "outputs": [
    {
     "name": "stdout",
     "output_type": "stream",
     "text": [
      "10\n",
      "<class 'int'>\n"
     ]
    }
   ],
   "source": [
    "@test1\n",
    "def test4():\n",
    "    return 10"
   ]
  },
  {
   "cell_type": "code",
   "execution_count": 63,
   "id": "17728b57",
   "metadata": {},
   "outputs": [
    {
     "name": "stdout",
     "output_type": "stream",
     "text": [
      "This is test7himans\n"
     ]
    }
   ],
   "source": [
    "@test1\n",
    "def test7():\n",
    "    return \"This is test7\"\n"
   ]
  },
  {
   "cell_type": "code",
   "execution_count": 86,
   "id": "4b0e7191",
   "metadata": {},
   "outputs": [],
   "source": [
    "def test8(func) :\n",
    "    def test9(*args,**kwargs):\n",
    "        func(*args,**kwargs)\n",
    "        print(func(*args,**kwargs))\n",
    "        print(\"this is my decorator functinon\") \n",
    "        return func(*args,**kwargs)\n",
    "    return test9"
   ]
  },
  {
   "cell_type": "code",
   "execution_count": 87,
   "id": "5de5d6b1",
   "metadata": {},
   "outputs": [
    {
     "name": "stdout",
     "output_type": "stream",
     "text": [
      "this is my decorator functinon\n"
     ]
    }
   ],
   "source": [
    "@test8\n",
    "def test10(a,b):\n",
    "    return a+b\n",
    "test10(1,2)"
   ]
  },
  {
   "cell_type": "code",
   "execution_count": 25,
   "id": "50bca802",
   "metadata": {},
   "outputs": [],
   "source": [
    "\n",
    "def test1(func):\n",
    "    def test2():\n",
    "        print(func())\n",
    "    test2()\n",
    "    \n",
    "\n",
    "    "
   ]
  },
  {
   "cell_type": "code",
   "execution_count": 26,
   "id": "027d99ff",
   "metadata": {},
   "outputs": [
    {
     "name": "stdout",
     "output_type": "stream",
     "text": [
      "58\n"
     ]
    }
   ],
   "source": [
    "@test1\n",
    "def test3():\n",
    "    return 3+55"
   ]
  },
  {
   "cell_type": "code",
   "execution_count": 31,
   "id": "a8b61e37",
   "metadata": {},
   "outputs": [],
   "source": [
    "def test4(func):\n",
    "    def test5():\n",
    "        print(func())\n",
    "        print(type(func()))\n",
    "    test5()"
   ]
  },
  {
   "cell_type": "code",
   "execution_count": 32,
   "id": "1b8ac351",
   "metadata": {},
   "outputs": [
    {
     "name": "stdout",
     "output_type": "stream",
     "text": [
      "[2, 2, 4, 6, 4, 8]\n",
      "<class 'list'>\n"
     ]
    }
   ],
   "source": [
    "@test4\n",
    "def test6():\n",
    "    l1=[1,2,3,1,2,4,5,6,4,7,8,9]\n",
    "    return list(filter(lambda num:num if num%2==0 else None,l1))"
   ]
  },
  {
   "cell_type": "code",
   "execution_count": 34,
   "id": "0e55f8c3",
   "metadata": {},
   "outputs": [
    {
     "data": {
      "text/plain": [
       "[0, 1, 2, 3, 4, 5, 6, 7, 8, 9]"
      ]
     },
     "execution_count": 34,
     "metadata": {},
     "output_type": "execute_result"
    }
   ],
   "source": [
    "list(range(10))"
   ]
  },
  {
   "cell_type": "code",
   "execution_count": 35,
   "id": "b5febec2",
   "metadata": {},
   "outputs": [
    {
     "name": "stdout",
     "output_type": "stream",
     "text": [
      "1\n",
      "H\n",
      "asa\n"
     ]
    }
   ],
   "source": [
    "spam=int(input())\n",
    "if spam==1:\n",
    "    print('H')\n",
    "    print('asa')"
   ]
  },
  {
   "cell_type": "code",
   "execution_count": 3,
   "id": "221c2463",
   "metadata": {},
   "outputs": [
    {
     "name": "stdout",
     "output_type": "stream",
     "text": [
      "0\n",
      "1\n",
      "2\n",
      "3\n",
      "4\n",
      "5\n",
      "6\n",
      "7\n",
      "8\n",
      "9\n",
      "10\n"
     ]
    }
   ],
   "source": [
    "for i in range(11):\n",
    "    print(i)"
   ]
  },
  {
   "cell_type": "code",
   "execution_count": 4,
   "id": "b2ecf5dc",
   "metadata": {},
   "outputs": [
    {
     "name": "stdout",
     "output_type": "stream",
     "text": [
      "1\n",
      "2\n",
      "3\n",
      "4\n",
      "5\n",
      "6\n",
      "7\n",
      "8\n",
      "9\n",
      "10\n"
     ]
    }
   ],
   "source": [
    "i=1\n",
    "while i<11:\n",
    "    print(i)\n",
    "    i=i+1"
   ]
  },
  {
   "cell_type": "code",
   "execution_count": 6,
   "id": "6937947d",
   "metadata": {},
   "outputs": [
    {
     "name": "stdout",
     "output_type": "stream",
     "text": [
      "ham\n",
      "spam\n",
      "spam\n"
     ]
    }
   ],
   "source": [
    "spam = 0\n",
    "if spam == 10:\n",
    "    print('eggs')\n",
    "if spam > 5:\n",
    "    print('bacon')\n",
    "else:\n",
    "    print('ham')\n",
    "    print('spam')\n",
    "    print('spam')\n"
   ]
  },
  {
   "cell_type": "code",
   "execution_count": 2,
   "id": "b73a9a2f",
   "metadata": {},
   "outputs": [],
   "source": [
    "def length(string):\n",
    "    ln=0\n",
    "    for i in string:\n",
    "        ln+=1\n",
    "    return ln\n",
    "    "
   ]
  },
  {
   "cell_type": "code",
   "execution_count": 3,
   "id": "3e6dec9b",
   "metadata": {},
   "outputs": [
    {
     "data": {
      "text/plain": [
       "8"
      ]
     },
     "execution_count": 3,
     "metadata": {},
     "output_type": "execute_result"
    }
   ],
   "source": [
    "length('Himanshu')"
   ]
  },
  {
   "cell_type": "code",
   "execution_count": 2,
   "id": "8e3b7f0f",
   "metadata": {},
   "outputs": [
    {
     "data": {
      "text/plain": [
       "[(0, 'h'), (1, 'i'), (2, 'm'), (3, 'a')]"
      ]
     },
     "execution_count": 2,
     "metadata": {},
     "output_type": "execute_result"
    }
   ],
   "source": [
    "list(enumerate('hima'))"
   ]
  },
  {
   "cell_type": "code",
   "execution_count": 3,
   "id": "1b9ce2ee",
   "metadata": {},
   "outputs": [
    {
     "name": "stdout",
     "output_type": "stream",
     "text": [
      "0 h\n",
      "1 i\n",
      "2 m\n",
      "3 a\n"
     ]
    }
   ],
   "source": [
    "for i,a in list(enumerate('hima')):\n",
    "    print(i,a)"
   ]
  },
  {
   "cell_type": "code",
   "execution_count": 8,
   "id": "caaec0b6",
   "metadata": {},
   "outputs": [
    {
     "name": "stdout",
     "output_type": "stream",
     "text": [
      "asas \n",
      "\n",
      "assa\n"
     ]
    }
   ],
   "source": [
    "print('asas',end=' ')\n",
    "print('\\n')\n",
    "print('assa')"
   ]
  },
  {
   "cell_type": "code",
   "execution_count": 16,
   "id": "cceb5015",
   "metadata": {},
   "outputs": [],
   "source": [
    "def star_prog(n):\n",
    "    for i in range(1,n):\n",
    "        print('*'*i)\n",
    "        #print('\\n')"
   ]
  },
  {
   "cell_type": "code",
   "execution_count": 18,
   "id": "71baff61",
   "metadata": {},
   "outputs": [
    {
     "name": "stdout",
     "output_type": "stream",
     "text": [
      "*\n",
      "**\n",
      "***\n",
      "****\n",
      "*****\n",
      "******\n",
      "*******\n",
      "********\n",
      "*********\n",
      "**********\n",
      "***********\n",
      "************\n",
      "*************\n",
      "**************\n",
      "***************\n",
      "****************\n",
      "*****************\n",
      "******************\n",
      "*******************\n",
      "********************\n",
      "*********************\n",
      "**********************\n",
      "***********************\n",
      "************************\n",
      "*************************\n",
      "**************************\n",
      "***************************\n",
      "****************************\n",
      "*****************************\n",
      "******************************\n",
      "*******************************\n",
      "********************************\n",
      "*********************************\n",
      "**********************************\n",
      "***********************************\n",
      "************************************\n",
      "*************************************\n",
      "**************************************\n",
      "***************************************\n"
     ]
    }
   ],
   "source": [
    "star_prog(40)"
   ]
  },
  {
   "cell_type": "code",
   "execution_count": 20,
   "id": "dffd9341",
   "metadata": {},
   "outputs": [
    {
     "name": "stdout",
     "output_type": "stream",
     "text": [
      "aas\n"
     ]
    }
   ],
   "source": [
    "print('aas')\n"
   ]
  },
  {
   "cell_type": "code",
   "execution_count": 27,
   "id": "fe321333",
   "metadata": {},
   "outputs": [],
   "source": [
    "def concat(l):\n",
    "    '''\n",
    "    This function takes list as an input and concatenates all the elements in the list thereof.\n",
    "    '''\n",
    "    con_item=''\n",
    "    for i in range(len(l)):\n",
    "        if type(l[i])!=str:\n",
    "            l[i]=str(l[i])\n",
    "    for i in l:\n",
    "        con_item+=i\n",
    "    return con_item\n",
    "    \n",
    "    \n",
    "    "
   ]
  },
  {
   "cell_type": "code",
   "execution_count": 31,
   "id": "1aedf7e0",
   "metadata": {},
   "outputs": [
    {
     "data": {
      "text/plain": [
       "'[1, 2][121, 21]1212'"
      ]
     },
     "execution_count": 31,
     "metadata": {},
     "output_type": "execute_result"
    }
   ],
   "source": [
    "concat([[1,2],[121,21],(1212)])"
   ]
  },
  {
   "cell_type": "code",
   "execution_count": 34,
   "id": "e2547585",
   "metadata": {},
   "outputs": [
    {
     "data": {
      "text/plain": [
       "[(0, 1), (1, 2), (2, 3), (3, 4), (4, 5)]"
      ]
     },
     "execution_count": 34,
     "metadata": {},
     "output_type": "execute_result"
    }
   ],
   "source": [
    "l1=[1,2,3,4,5]\n",
    "list(enumerate(l1))"
   ]
  },
  {
   "cell_type": "code",
   "execution_count": 43,
   "id": "68fb2e4c",
   "metadata": {},
   "outputs": [],
   "source": [
    "def list_index(l):\n",
    "    \"\"\"\n",
    "    This function gives the index for all the elements inside a list.\n",
    "    \n",
    "    \"\"\"\n",
    "    for  i1,i2 in list(enumerate(l)):\n",
    "        print(f\"Index for {i2} is: {i1}\")"
   ]
  },
  {
   "cell_type": "code",
   "execution_count": 44,
   "id": "f49d7b2b",
   "metadata": {},
   "outputs": [
    {
     "name": "stdout",
     "output_type": "stream",
     "text": [
      "Index for A is: 0\n",
      "Index for B is: 1\n",
      "Index for C is: 2\n"
     ]
    }
   ],
   "source": [
    "list_index(['A',\"B\",\"C\"])"
   ]
  },
  {
   "cell_type": "code",
   "execution_count": 45,
   "id": "f3ce5cad",
   "metadata": {},
   "outputs": [
    {
     "name": "stdout",
     "output_type": "stream",
     "text": [
      "Help on function list_index in module __main__:\n",
      "\n",
      "list_index(l)\n",
      "    This function gives the index for all the elements inside a list.\n",
      "\n"
     ]
    }
   ],
   "source": [
    "help(list_index)"
   ]
  },
  {
   "cell_type": "code",
   "execution_count": 2,
   "id": "7e18ea6b",
   "metadata": {},
   "outputs": [
    {
     "name": "stdout",
     "output_type": "stream",
     "text": [
      "Collecting PyPDF2\n",
      "  Using cached pypdf2-2.11.2-py3-none-any.whl (220 kB)\n",
      "Collecting typing_extensions>=3.10.0.0\n",
      "  Downloading typing_extensions-4.4.0-py3-none-any.whl (26 kB)\n",
      "Installing collected packages: typing-extensions, PyPDF2\n",
      "  Attempting uninstall: typing-extensions\n",
      "    Found existing installation: typing-extensions 3.7.4.3\n",
      "    Uninstalling typing-extensions-3.7.4.3:\n",
      "      Successfully uninstalled typing-extensions-3.7.4.3\n",
      "Successfully installed PyPDF2-2.11.2 typing-extensions-4.4.0\n",
      "Note: you may need to restart the kernel to use updated packages.\n"
     ]
    }
   ],
   "source": [
    "pip install  PyPDF2"
   ]
  },
  {
   "cell_type": "code",
   "execution_count": 3,
   "id": "c43e1eb0",
   "metadata": {},
   "outputs": [
    {
     "name": "stdout",
     "output_type": "stream",
     "text": [
      "1\n",
      "HIMANSHU SHANTANU\n",
      "SALVEKAR\n",
      "B.Sc. - Computational Mathematics & Statistics\n",
      "Ph: +91-8070008999\n",
      "Email: 1132200308@mitwpu.edu.in\n",
      "Pune, Maharashtra, India - 411033 \n",
      "Gender: Male\n",
      "Marital Status: Unmarried\n",
      "Current Address: B-308,Royal Court,Thergoan,Pune,411033, B-\n",
      "308,Royal Court,Thergaon,Pune,411033, Pune, Maharashtra, India -\n",
      "411033Date of Birth: Nov. 7, 2001\n",
      "Known Languages: English,Hindi,Marathi\n",
      "Phone Numbers: +91-8070008999, +91-8070008999,\n",
      "+91-9881057133MySQL Python Statistical Data Analysis Pandas NumPy EDA Statistics\n",
      "Emails: 1132200308@mitwpu.edu.in , hima.sal711@gmail.com\n",
      "BRIEF OVERVIEW / CAREER OBJECTIVE / SUMMARY\n",
      "I have done a Python bootcamp on Udemy and know SQL ,descriptive statistics ,inferential statistics and calculus required for the field of Data\n",
      "Science and Data Analysis, and also know how to analyze data using Pandas and NumPy. And my career objective is to become a data-\n",
      "scientist/analyst , and to be really efficient on the tools that are required for one to become a data-scientist/analyst.\n",
      "KEY EXPERTISE / SKILLS\n",
      "EDUCATION\n",
      "2020  -  2023 MIT - Sciences\n",
      "B.Sc. - Computational Mathematics & Statistics | CGPA: 8.98 / 10.00\n",
      "2019 Pratibha College of Commerce and Science, Pune\n",
      "12th | MSBSHSE | Percentage: 60.00 / 100.00\n",
      "2018 Dr D Y Patil Public school, Pune\n",
      "10th | BSEMH | Percentage: 88.20 / 100.00\n",
      "PROJECTS\n",
      "Tic Tac Toe, War(Card game) with Python\n",
      "Key Skills: Python\n",
      "I created two games namely Tic Tac Toe and War game which is a card game using python.\n",
      "The projects gave me great amount of knowledge around entire python and made me confident about coding in Python.\n",
      "ASSESSMENTS / CERTIFICATIONS\n",
      "2022 Complete Python Bootcamp From Zero to Hero in Python\n",
      "Key Skills: Python\n",
      "PERSONAL INTERESTS / HOBBIES\n",
      "Reading Self-help Books, Playing cricket and Badminton\n",
      "IMs\n",
      "WhatsApp - Himanshu Salvekar\n",
      "PERSONAL DETAILS\n"
     ]
    }
   ],
   "source": [
    "\n",
    "import PyPDF2\n",
    "\n",
    "# creating an object \n",
    "file = open('HimanshuSalvekar_Resume_PDF.pdf', 'rb')\n",
    "\n",
    "# creating a pdf reader object\n",
    "fileReader = PyPDF2.PdfFileReader(file)\n",
    "\n",
    "# print the number of pages in pdf file\n",
    "print(fileReader.numPages)\n",
    "\n",
    "\n",
    "# creating a page object\n",
    "pageObj = fileReader.getPage(0)\n",
    "  \n",
    "# extracting text from page\n",
    "print(pageObj.extractText())\n",
    "  \n",
    "# closing the pdf file object\n",
    "file.close()"
   ]
  },
  {
   "cell_type": "code",
   "execution_count": 55,
   "id": "55d6b808",
   "metadata": {},
   "outputs": [],
   "source": [
    "def test2(func):\n",
    "    return func()"
   ]
  },
  {
   "cell_type": "code",
   "execution_count": 56,
   "id": "1197817a",
   "metadata": {},
   "outputs": [],
   "source": [
    "def test1():\n",
    "    print(\"asas\")"
   ]
  },
  {
   "cell_type": "code",
   "execution_count": 58,
   "id": "b282050c",
   "metadata": {},
   "outputs": [
    {
     "name": "stdout",
     "output_type": "stream",
     "text": [
      "asas\n"
     ]
    }
   ],
   "source": [
    "test2(test1)"
   ]
  },
  {
   "cell_type": "code",
   "execution_count": 16,
   "id": "3788c63d",
   "metadata": {},
   "outputs": [],
   "source": [
    "def test3(*args):\n",
    "    for i in args:\n",
    "        print(i)\n",
    "    \n",
    "    print(args[3]['Name'])"
   ]
  },
  {
   "cell_type": "code",
   "execution_count": 17,
   "id": "ff618d6e",
   "metadata": {},
   "outputs": [
    {
     "name": "stdout",
     "output_type": "stream",
     "text": [
      "(1212, 122)\n",
      "[1, 2, 3]\n",
      "asas\n",
      "{'Name': 'Himanshu', 'Roll': '03'}\n",
      "Himanshu\n"
     ]
    }
   ],
   "source": [
    "test3((1212,122),[1,2,3],'asas',{'Name':'Himanshu','Roll':'03'})"
   ]
  },
  {
   "cell_type": "code",
   "execution_count": 10,
   "id": "ea29fcf0",
   "metadata": {},
   "outputs": [],
   "source": [
    "def test1(*args):\n",
    "    for i in args:\n",
    "        if type(i)==list:\n",
    "            return i "
   ]
  },
  {
   "cell_type": "code",
   "execution_count": 11,
   "id": "d1d52c14",
   "metadata": {},
   "outputs": [
    {
     "data": {
      "text/plain": [
       "[3, 4, 5, 6]"
      ]
     },
     "execution_count": 11,
     "metadata": {},
     "output_type": "execute_result"
    }
   ],
   "source": [
    "test1([3,4,5,6],1,2,3,1223)"
   ]
  },
  {
   "cell_type": "code",
   "execution_count": 14,
   "id": "28026067",
   "metadata": {},
   "outputs": [
    {
     "data": {
      "text/plain": [
       "[1]"
      ]
     },
     "execution_count": 14,
     "metadata": {},
     "output_type": "execute_result"
    }
   ],
   "source": [
    "s=list()\n",
    "s.append(1)\n",
    "s"
   ]
  },
  {
   "cell_type": "code",
   "execution_count": 15,
   "id": "ad915314",
   "metadata": {},
   "outputs": [],
   "source": [
    "d={\"d\":[12,3],1:\"a\"}"
   ]
  },
  {
   "cell_type": "code",
   "execution_count": 16,
   "id": "136897d2",
   "metadata": {},
   "outputs": [
    {
     "data": {
      "text/plain": [
       "dict_values([[12, 3], 'a'])"
      ]
     },
     "execution_count": 16,
     "metadata": {},
     "output_type": "execute_result"
    }
   ],
   "source": [
    "d.values()"
   ]
  },
  {
   "cell_type": "code",
   "execution_count": 17,
   "id": "d79b891c",
   "metadata": {},
   "outputs": [
    {
     "data": {
      "text/plain": [
       "dict_keys(['d', 1])"
      ]
     },
     "execution_count": 17,
     "metadata": {},
     "output_type": "execute_result"
    }
   ],
   "source": [
    "d.keys()"
   ]
  },
  {
   "cell_type": "code",
   "execution_count": 19,
   "id": "ad5926ec",
   "metadata": {},
   "outputs": [
    {
     "data": {
      "text/plain": [
       "[12, 3]"
      ]
     },
     "execution_count": 19,
     "metadata": {},
     "output_type": "execute_result"
    }
   ],
   "source": [
    "d[\"d\"]"
   ]
  },
  {
   "cell_type": "code",
   "execution_count": 20,
   "id": "8aa5ccce",
   "metadata": {},
   "outputs": [],
   "source": [
    "\n",
    "a=lambda num:num/2"
   ]
  },
  {
   "cell_type": "code",
   "execution_count": 23,
   "id": "7b04db45",
   "metadata": {},
   "outputs": [
    {
     "data": {
      "text/plain": [
       "1.0"
      ]
     },
     "execution_count": 23,
     "metadata": {},
     "output_type": "execute_result"
    }
   ],
   "source": [
    "a(2)"
   ]
  },
  {
   "cell_type": "code",
   "execution_count": 24,
   "id": "e4b12af4",
   "metadata": {},
   "outputs": [],
   "source": [
    "a=lambda x,y:(x+y,x*y)"
   ]
  },
  {
   "cell_type": "code",
   "execution_count": 25,
   "id": "e4f85dd8",
   "metadata": {},
   "outputs": [
    {
     "data": {
      "text/plain": [
       "(5, 6)"
      ]
     },
     "execution_count": 25,
     "metadata": {},
     "output_type": "execute_result"
    }
   ],
   "source": [
    "a(2,3)"
   ]
  },
  {
   "cell_type": "code",
   "execution_count": 34,
   "id": "80e2d793",
   "metadata": {},
   "outputs": [],
   "source": [
    "a=lambda *a:a"
   ]
  },
  {
   "cell_type": "code",
   "execution_count": 35,
   "id": "5a019649",
   "metadata": {},
   "outputs": [
    {
     "data": {
      "text/plain": [
       "(2, 3, 1, 2, 3, 4, 5, 6, 7, 8, 9)"
      ]
     },
     "execution_count": 35,
     "metadata": {},
     "output_type": "execute_result"
    }
   ],
   "source": [
    "a(2,3,1,2,3,4,5,6,7,8,9)"
   ]
  },
  {
   "cell_type": "code",
   "execution_count": 1,
   "id": "2fc48c0f",
   "metadata": {},
   "outputs": [
    {
     "name": "stdout",
     "output_type": "stream",
     "text": [
      "hello\n"
     ]
    }
   ],
   "source": [
    "print('hello')"
   ]
  },
  {
   "cell_type": "code",
   "execution_count": 1,
   "id": "91c95dfb",
   "metadata": {},
   "outputs": [],
   "source": [
    "def factorial(n):\n",
    "    '''\n",
    "    This function gives the factorial of any number you enter.\n",
    "    \n",
    "    '''\n",
    "    fact=1\n",
    "    for i in range(1,n+1):\n",
    "        fact=fact*i\n",
    "    return fact"
   ]
  },
  {
   "cell_type": "code",
   "execution_count": 2,
   "id": "4c21bf36",
   "metadata": {},
   "outputs": [
    {
     "data": {
      "text/plain": [
       "120"
      ]
     },
     "execution_count": 2,
     "metadata": {},
     "output_type": "execute_result"
    }
   ],
   "source": [
    "factorial(5)"
   ]
  },
  {
   "cell_type": "code",
   "execution_count": 6,
   "id": "6f1cbb4a",
   "metadata": {},
   "outputs": [
    {
     "name": "stdout",
     "output_type": "stream",
     "text": [
      "Help on function factorial in module __main__:\n",
      "\n",
      "factorial(n)\n",
      "    This function gives the factorial of any number you enter.\n",
      "\n"
     ]
    }
   ],
   "source": [
    "help(factorial)"
   ]
  },
  {
   "cell_type": "code",
   "execution_count": 7,
   "id": "46bf8eaa",
   "metadata": {},
   "outputs": [],
   "source": [
    "#factorial through while-loop! \n",
    "def factorial():\n",
    "        \n",
    "        \n",
    "        n=int(input('Enter a number: '))\n",
    "        fact=1\n",
    "        i=1\n",
    "        while i<=n:\n",
    "            fact=fact*i\n",
    "            i=i+1\n",
    "        return fact"
   ]
  },
  {
   "cell_type": "code",
   "execution_count": 8,
   "id": "cf4736f1",
   "metadata": {},
   "outputs": [
    {
     "name": "stdout",
     "output_type": "stream",
     "text": [
      "Enter a number: 6\n"
     ]
    },
    {
     "data": {
      "text/plain": [
       "720"
      ]
     },
     "execution_count": 8,
     "metadata": {},
     "output_type": "execute_result"
    }
   ],
   "source": [
    "factorial()"
   ]
  },
  {
   "cell_type": "code",
   "execution_count": 3,
   "id": "791e7015",
   "metadata": {},
   "outputs": [
    {
     "name": "stdout",
     "output_type": "stream",
     "text": [
      "Help on function factorial in module __main__:\n",
      "\n",
      "factorial(n)\n",
      "    This function gives the factorial of any number you enter.\n",
      "\n"
     ]
    }
   ],
   "source": [
    "help(factorial)"
   ]
  },
  {
   "cell_type": "code",
   "execution_count": 11,
   "id": "6edb5211",
   "metadata": {},
   "outputs": [
    {
     "data": {
      "text/plain": [
       "120"
      ]
     },
     "execution_count": 11,
     "metadata": {},
     "output_type": "execute_result"
    }
   ],
   "source": [
    "factorial(5)"
   ]
  },
  {
   "cell_type": "code",
   "execution_count": 27,
   "id": "7d6316d4",
   "metadata": {},
   "outputs": [],
   "source": [
    "def list_fact(l):\n",
    "    fact_list=[]\n",
    "    for i in l:\n",
    "        fact=1\n",
    "        for i in range(1,i+1):\n",
    "            fact=fact*i\n",
    "        fact_list.append(fact)\n",
    "        return fact_list\n",
    "        \n",
    "            "
   ]
  },
  {
   "cell_type": "code",
   "execution_count": 28,
   "id": "2db7027a",
   "metadata": {},
   "outputs": [
    {
     "data": {
      "text/plain": [
       "[120]"
      ]
     },
     "execution_count": 28,
     "metadata": {},
     "output_type": "execute_result"
    }
   ],
   "source": [
    "list_fact([5,3,3])"
   ]
  },
  {
   "cell_type": "code",
   "execution_count": 1,
   "id": "419e1a2b",
   "metadata": {},
   "outputs": [],
   "source": [
    "def test(*args,a):\n",
    "    return args,a"
   ]
  },
  {
   "cell_type": "code",
   "execution_count": 3,
   "id": "fc691b70",
   "metadata": {},
   "outputs": [
    {
     "data": {
      "text/plain": [
       "((1, 2, 3, 4), 45)"
      ]
     },
     "execution_count": 3,
     "metadata": {},
     "output_type": "execute_result"
    }
   ],
   "source": [
    "test(1,2,3,4,a=45)"
   ]
  },
  {
   "cell_type": "code",
   "execution_count": 12,
   "id": "e39f778e",
   "metadata": {},
   "outputs": [],
   "source": [
    "t=[112,('asas','awqas')]"
   ]
  },
  {
   "cell_type": "code",
   "execution_count": 14,
   "id": "13f30c6b",
   "metadata": {},
   "outputs": [
    {
     "data": {
      "text/plain": [
       "'w'"
      ]
     },
     "execution_count": 14,
     "metadata": {},
     "output_type": "execute_result"
    }
   ],
   "source": [
    "t[1][1][1]"
   ]
  },
  {
   "cell_type": "code",
   "execution_count": 24,
   "id": "790416f6",
   "metadata": {},
   "outputs": [],
   "source": [
    "def test1(*args):\n",
    "    for i in args:\n",
    "        if type(i)==list:\n",
    "            for x in i:\n",
    "                if type(x)==str:\n",
    "                    i.remove(x)\n",
    "                    \n",
    "    return i\n",
    "            \n",
    "            "
   ]
  },
  {
   "cell_type": "code",
   "execution_count": 25,
   "id": "ed6ead9b",
   "metadata": {},
   "outputs": [
    {
     "data": {
      "text/plain": [
       "[1, 12, 13, 1, 1212]"
      ]
     },
     "execution_count": 25,
     "metadata": {},
     "output_type": "execute_result"
    }
   ],
   "source": [
    "test1(1,2,3,[1,12,13,'asasas',1,'imans',1212,'asas'])"
   ]
  },
  {
   "cell_type": "code",
   "execution_count": 1,
   "id": "b02f17d6",
   "metadata": {},
   "outputs": [],
   "source": [
    "a=lambda a,b:(a*b,a+b)"
   ]
  },
  {
   "cell_type": "code",
   "execution_count": 2,
   "id": "65d47fc7",
   "metadata": {},
   "outputs": [
    {
     "data": {
      "text/plain": [
       "(6, 5)"
      ]
     },
     "execution_count": 2,
     "metadata": {},
     "output_type": "execute_result"
    }
   ],
   "source": [
    "a(2,3)"
   ]
  },
  {
   "cell_type": "code",
   "execution_count": 3,
   "id": "b37d4429",
   "metadata": {},
   "outputs": [],
   "source": [
    "a=lambda *a: a"
   ]
  },
  {
   "cell_type": "code",
   "execution_count": 4,
   "id": "0079efe5",
   "metadata": {},
   "outputs": [
    {
     "data": {
      "text/plain": [
       "(1, 2, 3, 4, 5)"
      ]
     },
     "execution_count": 4,
     "metadata": {},
     "output_type": "execute_result"
    }
   ],
   "source": [
    "a(1,2,3,4,5)"
   ]
  },
  {
   "cell_type": "code",
   "execution_count": 8,
   "id": "f2a8d138",
   "metadata": {},
   "outputs": [],
   "source": [
    "x=lambda x:[i%2==0 for i in x]"
   ]
  },
  {
   "cell_type": "code",
   "execution_count": 9,
   "id": "aab126ca",
   "metadata": {},
   "outputs": [
    {
     "data": {
      "text/plain": [
       "[False, True, False, True, False, True]"
      ]
     },
     "execution_count": 9,
     "metadata": {},
     "output_type": "execute_result"
    }
   ],
   "source": [
    "x([1,2,3,4,5,6])"
   ]
  },
  {
   "cell_type": "code",
   "execution_count": 10,
   "id": "a35d453c",
   "metadata": {},
   "outputs": [],
   "source": [
    "a=lambda x:[i+2 for i in x]"
   ]
  },
  {
   "cell_type": "code",
   "execution_count": 11,
   "id": "eb10c327",
   "metadata": {},
   "outputs": [
    {
     "data": {
      "text/plain": [
       "[3, 4, 5, 6, 7]"
      ]
     },
     "execution_count": 11,
     "metadata": {},
     "output_type": "execute_result"
    }
   ],
   "source": [
    "a([1,2,3,4,5])"
   ]
  },
  {
   "cell_type": "code",
   "execution_count": 14,
   "id": "4530d079",
   "metadata": {},
   "outputs": [
    {
     "data": {
      "text/plain": [
       "[(9, 5), (16, 6), (25, 7), (36, 8)]"
      ]
     },
     "execution_count": 14,
     "metadata": {},
     "output_type": "execute_result"
    }
   ],
   "source": [
    "l=[12,3,4,5,6,7,8,9,]\n",
    "[(i**2,i+2) for i in l if i<7]"
   ]
  },
  {
   "cell_type": "code",
   "execution_count": 15,
   "id": "2a5f31a0",
   "metadata": {},
   "outputs": [
    {
     "data": {
      "text/plain": [
       "{0: 0, 1: 1, 2: 4, 3: 9, 4: 16, 5: 25, 6: 36, 7: 49, 8: 64, 9: 81}"
      ]
     },
     "execution_count": 15,
     "metadata": {},
     "output_type": "execute_result"
    }
   ],
   "source": [
    "{i:i**2 for i in range(10)}"
   ]
  },
  {
   "cell_type": "code",
   "execution_count": 17,
   "id": "252dfb81",
   "metadata": {},
   "outputs": [
    {
     "data": {
      "text/plain": [
       "{'k1': 12, 'k2': 13}"
      ]
     },
     "execution_count": 17,
     "metadata": {},
     "output_type": "execute_result"
    }
   ],
   "source": [
    "d1={'k1':12}\n",
    "d1['k2']=13\n",
    "d1"
   ]
  },
  {
   "cell_type": "code",
   "execution_count": 18,
   "id": "b27cd50a",
   "metadata": {},
   "outputs": [],
   "source": [
    "d1={}\n",
    "for i in range(11):\n",
    "    d1[i]=i**3"
   ]
  },
  {
   "cell_type": "code",
   "execution_count": 19,
   "id": "6e804a4f",
   "metadata": {},
   "outputs": [
    {
     "data": {
      "text/plain": [
       "{0: 0,\n",
       " 1: 1,\n",
       " 2: 8,\n",
       " 3: 27,\n",
       " 4: 64,\n",
       " 5: 125,\n",
       " 6: 216,\n",
       " 7: 343,\n",
       " 8: 512,\n",
       " 9: 729,\n",
       " 10: 1000}"
      ]
     },
     "execution_count": 19,
     "metadata": {},
     "output_type": "execute_result"
    }
   ],
   "source": [
    "d1"
   ]
  },
  {
   "cell_type": "code",
   "execution_count": 20,
   "id": "20079abd",
   "metadata": {},
   "outputs": [
    {
     "data": {
      "text/plain": [
       "<generator object <genexpr> at 0x0000019603E2C120>"
      ]
     },
     "execution_count": 20,
     "metadata": {},
     "output_type": "execute_result"
    }
   ],
   "source": [
    "(i for i in range(10))"
   ]
  },
  {
   "cell_type": "code",
   "execution_count": null,
   "id": "a8a255cb",
   "metadata": {},
   "outputs": [],
   "source": []
  }
 ],
 "metadata": {
  "kernelspec": {
   "display_name": "Python 3",
   "language": "python",
   "name": "python3"
  },
  "language_info": {
   "codemirror_mode": {
    "name": "ipython",
    "version": 3
   },
   "file_extension": ".py",
   "mimetype": "text/x-python",
   "name": "python",
   "nbconvert_exporter": "python",
   "pygments_lexer": "ipython3",
   "version": "3.8.8"
  }
 },
 "nbformat": 4,
 "nbformat_minor": 5
}
