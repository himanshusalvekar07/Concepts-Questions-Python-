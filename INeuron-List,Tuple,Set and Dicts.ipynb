{
 "cells": [
  {
   "cell_type": "code",
   "execution_count": 1,
   "id": "ef2745ff",
   "metadata": {},
   "outputs": [
    {
     "data": {
      "text/plain": [
       "[2, 1, 1, 3, 2, 12]"
      ]
     },
     "execution_count": 1,
     "metadata": {},
     "output_type": "execute_result"
    }
   ],
   "source": [
    "list1=[12,2,3,1,1,2]\n",
    "list1[::-1]"
   ]
  },
  {
   "cell_type": "code",
   "execution_count": 2,
   "id": "c16d69c7",
   "metadata": {},
   "outputs": [
    {
     "name": "stdout",
     "output_type": "stream",
     "text": [
      "-1 True\n",
      "-2 (1+2j)\n",
      "-3 Sunny\n",
      "-4 5.0\n",
      "-5 4\n",
      "-6 3\n",
      "-7 2\n",
      "-8 1\n"
     ]
    }
   ],
   "source": [
    "A=[1,2,3,4,5.0,'Sunny',(1+2j),True]\n",
    "for i in range(-1,-len(A)-1,-1):\n",
    "    print(i,A[i])"
   ]
  },
  {
   "cell_type": "code",
   "execution_count": 3,
   "id": "632b0ce1",
   "metadata": {},
   "outputs": [],
   "source": [
    "my_list=list()"
   ]
  },
  {
   "cell_type": "code",
   "execution_count": 4,
   "id": "5848c69a",
   "metadata": {},
   "outputs": [
    {
     "data": {
      "text/plain": [
       "[]"
      ]
     },
     "execution_count": 4,
     "metadata": {},
     "output_type": "execute_result"
    }
   ],
   "source": [
    "my_list"
   ]
  },
  {
   "cell_type": "code",
   "execution_count": 5,
   "id": "d0eb5269",
   "metadata": {},
   "outputs": [
    {
     "data": {
      "text/plain": [
       "['himanshu', 'football']"
      ]
     },
     "execution_count": 5,
     "metadata": {},
     "output_type": "execute_result"
    }
   ],
   "source": [
    "my_list+['himanshu']+['football']"
   ]
  },
  {
   "cell_type": "code",
   "execution_count": 6,
   "id": "5f2a8fe1",
   "metadata": {},
   "outputs": [
    {
     "name": "stdout",
     "output_type": "stream",
     "text": [
      "Enter the item you want to purchase: asa\n",
      "Enter the item you want to purchase: asas\n",
      "Enter the item you want to purchase: asas\n",
      "Enter the item you want to purchase: asa\n",
      "Enter the item you want to purchase: asas\n",
      "List of items to purchase: ['asa', 'asas', 'asas', 'asa', 'asas']\n"
     ]
    }
   ],
   "source": [
    "listofitems_to_purchase=list()\n",
    "for i in range(5):\n",
    "    user_input=input('Enter the item you want to purchase: ')\n",
    "    listofitems_to_purchase=listofitems_to_purchase+[user_input]\n",
    "print(f\"List of items to purchase: {listofitems_to_purchase}\")"
   ]
  },
  {
   "cell_type": "code",
   "execution_count": 7,
   "id": "ab02deae",
   "metadata": {},
   "outputs": [
    {
     "data": {
      "text/plain": [
       "[0, 1, 2]"
      ]
     },
     "execution_count": 7,
     "metadata": {},
     "output_type": "execute_result"
    }
   ],
   "source": [
    "list(range(3))"
   ]
  },
  {
   "cell_type": "code",
   "execution_count": 8,
   "id": "769e9988",
   "metadata": {},
   "outputs": [
    {
     "data": {
      "text/plain": [
       "'asa'"
      ]
     },
     "execution_count": 8,
     "metadata": {},
     "output_type": "execute_result"
    }
   ],
   "source": [
    "listofitems_to_purchase.pop(0)"
   ]
  },
  {
   "cell_type": "code",
   "execution_count": 9,
   "id": "2025af5b",
   "metadata": {},
   "outputs": [
    {
     "data": {
      "text/plain": [
       "['asas', 'asas', 'asa', 'asas']"
      ]
     },
     "execution_count": 9,
     "metadata": {},
     "output_type": "execute_result"
    }
   ],
   "source": [
    "listofitems_to_purchase"
   ]
  },
  {
   "cell_type": "code",
   "execution_count": 11,
   "id": "d826e7c0",
   "metadata": {},
   "outputs": [
    {
     "name": "stdout",
     "output_type": "stream",
     "text": [
      "The eventual result will be: Devashish,9\n"
     ]
    }
   ],
   "source": [
    "list1=['Devashish','Ritesh','Aditya','Dinesh','Himanshu']\n",
    "max_len=0\n",
    "big_name=''\n",
    "for name in list1:\n",
    "    if max_len<len(name):\n",
    "        max_len=len(name)\n",
    "        big_name=name\n",
    "        \n",
    "    \n",
    "print(f\"The eventual result will be: {big_name},{max_len}\")   "
   ]
  },
  {
   "cell_type": "code",
   "execution_count": 12,
   "id": "e96b73b3",
   "metadata": {},
   "outputs": [
    {
     "name": "stdout",
     "output_type": "stream",
     "text": [
      "0 1\n",
      "1 34\n",
      "2 56\n",
      "3 76\n",
      "4 99\n"
     ]
    }
   ],
   "source": [
    "A=[1,34,56,76,99]\n",
    "\n",
    "for idx in range(len(A)):\n",
    "    num=A[idx]\n",
    "    print(idx,num)"
   ]
  },
  {
   "cell_type": "code",
   "execution_count": 13,
   "id": "e3d9b4f2",
   "metadata": {},
   "outputs": [
    {
     "data": {
      "text/plain": [
       "[-2, -1, 1, 2, 2, 3, 4, 5, 6, 7, 9]"
      ]
     },
     "execution_count": 13,
     "metadata": {},
     "output_type": "execute_result"
    }
   ],
   "source": [
    "A=[-2,-1,4,5,3,1,2,6,7,2,9]\n",
    "sorted(A)"
   ]
  },
  {
   "cell_type": "code",
   "execution_count": 14,
   "id": "d8d8f4cc",
   "metadata": {},
   "outputs": [
    {
     "data": {
      "text/plain": [
       "[-2, -1, 4, 5, 3, 1, 2, 6, 7, 2, 9]"
      ]
     },
     "execution_count": 14,
     "metadata": {},
     "output_type": "execute_result"
    }
   ],
   "source": [
    "A"
   ]
  },
  {
   "cell_type": "code",
   "execution_count": 15,
   "id": "8db099f9",
   "metadata": {},
   "outputs": [],
   "source": [
    "A.sort() #permanent change"
   ]
  },
  {
   "cell_type": "code",
   "execution_count": null,
   "id": "704291cf",
   "metadata": {},
   "outputs": [],
   "source": [
    "A"
   ]
  },
  {
   "cell_type": "code",
   "execution_count": null,
   "id": "89758aa4",
   "metadata": {},
   "outputs": [],
   "source": [
    "A.sort(reverse=True)"
   ]
  },
  {
   "cell_type": "code",
   "execution_count": 16,
   "id": "b7ecc7ba",
   "metadata": {},
   "outputs": [
    {
     "data": {
      "text/plain": [
       "[-2, -1, 1, 2, 2, 3, 4, 5, 6, 7, 9]"
      ]
     },
     "execution_count": 16,
     "metadata": {},
     "output_type": "execute_result"
    }
   ],
   "source": [
    "A"
   ]
  },
  {
   "cell_type": "code",
   "execution_count": null,
   "id": "0eaeaf93",
   "metadata": {},
   "outputs": [],
   "source": [
    "amazon_cart=[['phone',15000],['speaker',4000],['laptop',50000]]\n",
    "total_cost=0\n",
    "for i in range(len(amazon_cart)):\n",
    "    total_cost=amazon_cart[i][1]+total_cost\n",
    "print(total_cost)"
   ]
  },
  {
   "cell_type": "code",
   "execution_count": null,
   "id": "f16eeb6e",
   "metadata": {},
   "outputs": [],
   "source": [
    "A=[1,2,3,4,5]\n",
    "ans=list()\n",
    "for a in A:\n",
    "    a**2\n",
    "    #print(a**2)\n",
    "    ans.append(a**2)\n",
    "print(ans)\n",
    "    "
   ]
  },
  {
   "cell_type": "code",
   "execution_count": null,
   "id": "233dd39f",
   "metadata": {},
   "outputs": [],
   "source": [
    "ans=[i**2 for i in A]\n",
    "ans"
   ]
  },
  {
   "cell_type": "code",
   "execution_count": null,
   "id": "57b222a5",
   "metadata": {},
   "outputs": [],
   "source": [
    "A=[15,14,12,13,16]\n",
    "ans=[i%2==0  for i in A]"
   ]
  },
  {
   "cell_type": "code",
   "execution_count": null,
   "id": "20e6680a",
   "metadata": {},
   "outputs": [],
   "source": [
    "ans"
   ]
  },
  {
   "cell_type": "code",
   "execution_count": null,
   "id": "bd7dde69",
   "metadata": {},
   "outputs": [],
   "source": [
    "A=[11,12,13,14,15,16,17,19,21,22,24,23]\n",
    "ans=list()\n",
    "for i in A:\n",
    "    if i%2==0:\n",
    "        continue\n",
    "    else:\n",
    "        \n",
    "        ans.append(i**2)\n",
    "print(ans)"
   ]
  },
  {
   "cell_type": "code",
   "execution_count": null,
   "id": "14f03ae8",
   "metadata": {},
   "outputs": [],
   "source": [
    "23*23\n"
   ]
  },
  {
   "cell_type": "code",
   "execution_count": null,
   "id": "148e827b",
   "metadata": {},
   "outputs": [],
   "source": [
    "A"
   ]
  },
  {
   "cell_type": "code",
   "execution_count": null,
   "id": "230b6e97",
   "metadata": {},
   "outputs": [],
   "source": [
    "ans=[i**2 for i in A if i%2!=0]"
   ]
  },
  {
   "cell_type": "code",
   "execution_count": null,
   "id": "1e973ebb",
   "metadata": {},
   "outputs": [],
   "source": [
    "ans"
   ]
  },
  {
   "cell_type": "code",
   "execution_count": null,
   "id": "206b7619",
   "metadata": {},
   "outputs": [],
   "source": [
    "A='Vaishnavi'\n",
    "for i in A:\n",
    "    print(i,A.count(i))"
   ]
  },
  {
   "cell_type": "code",
   "execution_count": null,
   "id": "6169babb",
   "metadata": {},
   "outputs": [],
   "source": [
    "A=[1,2,3,4]\n",
    "b=[7,8,9]\n",
    "A.extend(b)"
   ]
  },
  {
   "cell_type": "code",
   "execution_count": null,
   "id": "8f871edc",
   "metadata": {},
   "outputs": [],
   "source": [
    "A"
   ]
  },
  {
   "cell_type": "code",
   "execution_count": null,
   "id": "74e271f0",
   "metadata": {},
   "outputs": [],
   "source": [
    "A=[1,2,3+4j,4+5j,'Himanshu',1+3j]\n",
    "for i in A:\n",
    "    if type(i)==complex:\n",
    "        print(f\"The complex number:{i} is at index:{A.index(i)}\")"
   ]
  },
  {
   "cell_type": "code",
   "execution_count": null,
   "id": "974c7020",
   "metadata": {},
   "outputs": [],
   "source": [
    "A=[1,2,3+4j,4+5j,'Himanshu',1+3j]\n",
    "for i in A:\n",
    "    if isinstance(i,(complex,int)):\n",
    "        print(f\"{i} here is of datatype:{type(i)} at index {A.index(i)}\")"
   ]
  },
  {
   "cell_type": "code",
   "execution_count": null,
   "id": "a233692a",
   "metadata": {},
   "outputs": [],
   "source": [
    "a=[1,2,3,2,1,2,12]\n",
    "A=[ele for ele in a if ele%2==0]"
   ]
  },
  {
   "cell_type": "code",
   "execution_count": null,
   "id": "2d040246",
   "metadata": {},
   "outputs": [],
   "source": [
    "A\n"
   ]
  },
  {
   "cell_type": "code",
   "execution_count": null,
   "id": "fac26c5e",
   "metadata": {},
   "outputs": [],
   "source": [
    "A"
   ]
  },
  {
   "cell_type": "code",
   "execution_count": null,
   "id": "4a8c5b00",
   "metadata": {},
   "outputs": [],
   "source": [
    "A=[1,2,3+4j,4+5j,'Himanshu',1+3j]"
   ]
  },
  {
   "cell_type": "code",
   "execution_count": null,
   "id": "6929a4d2",
   "metadata": {},
   "outputs": [],
   "source": [
    "ans=[ele for ele in A if isinstance(ele,(complex,int))]"
   ]
  },
  {
   "cell_type": "code",
   "execution_count": null,
   "id": "b4f9d7bf",
   "metadata": {},
   "outputs": [],
   "source": [
    "ans"
   ]
  },
  {
   "cell_type": "code",
   "execution_count": null,
   "id": "aa56fbed",
   "metadata": {},
   "outputs": [],
   "source": [
    "A"
   ]
  },
  {
   "cell_type": "code",
   "execution_count": null,
   "id": "689fb5ba",
   "metadata": {},
   "outputs": [],
   "source": [
    "A.insert(3,'Himanshu')"
   ]
  },
  {
   "cell_type": "code",
   "execution_count": null,
   "id": "06f00335",
   "metadata": {},
   "outputs": [],
   "source": [
    "A"
   ]
  },
  {
   "cell_type": "code",
   "execution_count": null,
   "id": "21a23357",
   "metadata": {},
   "outputs": [],
   "source": [
    "A"
   ]
  },
  {
   "cell_type": "code",
   "execution_count": null,
   "id": "7fa23bb0",
   "metadata": {},
   "outputs": [],
   "source": [
    "A.insert(2,[1,3,4])"
   ]
  },
  {
   "cell_type": "code",
   "execution_count": null,
   "id": "a138233d",
   "metadata": {},
   "outputs": [],
   "source": [
    "A"
   ]
  },
  {
   "cell_type": "code",
   "execution_count": null,
   "id": "e2a789d5",
   "metadata": {},
   "outputs": [],
   "source": [
    "A.pop(4)"
   ]
  },
  {
   "cell_type": "code",
   "execution_count": null,
   "id": "92aa6514",
   "metadata": {},
   "outputs": [],
   "source": [
    "A"
   ]
  },
  {
   "cell_type": "code",
   "execution_count": null,
   "id": "0c6824b0",
   "metadata": {},
   "outputs": [],
   "source": [
    "len(A)\n",
    "for i in range(len(A)-1):\n",
    "    if type(A[i])==int:\n",
    "        print(A.pop(i))\n"
   ]
  },
  {
   "cell_type": "code",
   "execution_count": null,
   "id": "ed8cd827",
   "metadata": {},
   "outputs": [],
   "source": [
    "type(A[0])"
   ]
  },
  {
   "cell_type": "code",
   "execution_count": null,
   "id": "37807b7b",
   "metadata": {},
   "outputs": [],
   "source": [
    "list(range(len(A)))"
   ]
  },
  {
   "cell_type": "code",
   "execution_count": null,
   "id": "64215a4d",
   "metadata": {},
   "outputs": [],
   "source": [
    "A"
   ]
  },
  {
   "cell_type": "code",
   "execution_count": null,
   "id": "bc96d61d",
   "metadata": {},
   "outputs": [],
   "source": [
    "A=['sss',1,2,'sasa',1+3j]\n",
    "n=len(A)\n",
    "for i in range(n-1):\n",
    "    if type(A[i])==str:\n",
    "        A.pop(i)\n",
    "print(A)"
   ]
  },
  {
   "cell_type": "code",
   "execution_count": null,
   "id": "ccb24ca2",
   "metadata": {},
   "outputs": [],
   "source": [
    "A"
   ]
  },
  {
   "cell_type": "code",
   "execution_count": null,
   "id": "47c11c1a",
   "metadata": {},
   "outputs": [],
   "source": [
    "A=['asas',22,34,'aas','asas']\n",
    "for i in range(len(A)):\n",
    "    if type(A[i])==str:\n",
    "        A.pop(i)\n"
   ]
  },
  {
   "cell_type": "code",
   "execution_count": null,
   "id": "0bd09351",
   "metadata": {},
   "outputs": [],
   "source": [
    "A"
   ]
  },
  {
   "cell_type": "code",
   "execution_count": null,
   "id": "85e811a7",
   "metadata": {},
   "outputs": [],
   "source": [
    "A=[1,2,3,3+4j]\n",
    "for i in A:\n",
    "    if type(i)==complex:\n",
    "        A.remove(i)"
   ]
  },
  {
   "cell_type": "code",
   "execution_count": null,
   "id": "5c8be054",
   "metadata": {},
   "outputs": [],
   "source": [
    "A"
   ]
  },
  {
   "cell_type": "code",
   "execution_count": null,
   "id": "c2eca1d0",
   "metadata": {},
   "outputs": [],
   "source": [
    "A=['xyz','ahshas','asasa','ssas','hima']\n",
    "for i in A:\n",
    "    if type(i)==str:\n",
    "        A.remove(i)\n",
    "A"
   ]
  },
  {
   "cell_type": "code",
   "execution_count": null,
   "id": "750d9d79",
   "metadata": {},
   "outputs": [],
   "source": [
    "A"
   ]
  },
  {
   "cell_type": "code",
   "execution_count": null,
   "id": "670bf695",
   "metadata": {},
   "outputs": [],
   "source": [
    "A=['hima',12,12,13,'sal']\n",
    "for i in range(0,len(A)-1):\n",
    "    if type(A[i])==str:\n",
    "        A.pop(i)\n",
    "A"
   ]
  },
  {
   "cell_type": "code",
   "execution_count": null,
   "id": "086aab81",
   "metadata": {},
   "outputs": [],
   "source": [
    "A"
   ]
  },
  {
   "cell_type": "code",
   "execution_count": null,
   "id": "500e453b",
   "metadata": {},
   "outputs": [],
   "source": [
    "list(range(11))"
   ]
  },
  {
   "cell_type": "code",
   "execution_count": null,
   "id": "ccdffa18",
   "metadata": {},
   "outputs": [],
   "source": [
    "amazon_website=[['phone',15000],['speaker',4000],['laptop',50000]]\n",
    "total_cost=0\n",
    "for item in amazon_cart:\n",
    "    total_cost=total_cost+item[1]\n",
    "total_cost        "
   ]
  },
  {
   "cell_type": "code",
   "execution_count": null,
   "id": "a1875cba",
   "metadata": {},
   "outputs": [],
   "source": [
    "amazon_website=[('phone',15000),('speaker',4000),('laptop',50000),('shirt',2500)]\n",
    "total_cost=0\n",
    "ur_choice=input(\"What's the item you want to purchase?: \" )\n",
    "for item in amazon_website:\n",
    "    while ur_choice==item[0]:\n",
    "        tot\n",
    "    \n",
    "\n",
    "    "
   ]
  },
  {
   "cell_type": "code",
   "execution_count": null,
   "id": "dc102695",
   "metadata": {},
   "outputs": [],
   "source": [
    "amazon_website=[('phone',15000),('speaker',4000),('laptop',50000),('shirt',2500)]\n",
    "amazon_website[0][1]"
   ]
  },
  {
   "cell_type": "code",
   "execution_count": null,
   "id": "44a71796",
   "metadata": {},
   "outputs": [],
   "source": [
    "amazon_website=[('phone',15000),('speaker',4000),('laptop',50000),('shirt',2500)]\n",
    "total_cost=0\n",
    "N=int(input('How many number of items you want to buy?: '))\n",
    "i=0\n",
    "while i<N:\n",
    "    ur_choice=input('Put in the item you wish to buy?: ')\n",
    "    i=i+1\n",
    "    \n",
    "    if ur_choice==amazon_website[i][0]:\n",
    "        total_cost=total_cost+amazon_website[i][1]\n",
    "    else:\n",
    "        continue\n",
    "        \n",
    "\n",
    "total_cost"
   ]
  },
  {
   "cell_type": "code",
   "execution_count": null,
   "id": "b1b58f48",
   "metadata": {},
   "outputs": [],
   "source": [
    "amazon_website=[('phone',15000),('speaker',4000),('laptop',50000),('shirt',2500)]\n",
    "total_cost=0\n",
    "N=int(input('How many number of items you want to buy?: '))\n",
    "i=0\n",
    "while i<N:\n",
    "    ur_choice=input('Put in the item you wish to buy?: ')\n",
    "    i=i+1\n",
    "    \n",
    "    if ur_choice==amazon_website[i][0]:\n",
    "        total_cost=total_cost+amazon_website[i][1]\n",
    "    else:\n",
    "        continue\n",
    "        \n",
    "\n",
    "total_cost"
   ]
  }
 ],
 "metadata": {
  "kernelspec": {
   "display_name": "Python 3 (ipykernel)",
   "language": "python",
   "name": "python3"
  },
  "language_info": {
   "codemirror_mode": {
    "name": "ipython",
    "version": 3
   },
   "file_extension": ".py",
   "mimetype": "text/x-python",
   "name": "python",
   "nbconvert_exporter": "python",
   "pygments_lexer": "ipython3",
   "version": "3.9.12"
  }
 },
 "nbformat": 4,
 "nbformat_minor": 5
}
