{
 "cells": [
  {
   "cell_type": "code",
   "execution_count": 2,
   "id": "e195693d",
   "metadata": {},
   "outputs": [
    {
     "name": "stdout",
     "output_type": "stream",
     "text": [
      "0.3333333333333333\n"
     ]
    }
   ],
   "source": [
    "x=1\n",
    "y=3\n",
    "assert y==3,\"Invalid operation\"\n",
    "print(x/y)"
   ]
  },
  {
   "cell_type": "code",
   "execution_count": 3,
   "id": "327c0987",
   "metadata": {},
   "outputs": [
    {
     "name": "stdout",
     "output_type": "stream",
     "text": [
      "q\n",
      "invalid literal for int() with base 10: 'q'\n"
     ]
    }
   ],
   "source": [
    "try:\n",
    "    a=int(input())\n",
    "    b=int(input())\n",
    "except Exception as e:\n",
    "    print(e)"
   ]
  },
  {
   "cell_type": "code",
   "execution_count": 7,
   "id": "9b08ae4a",
   "metadata": {},
   "outputs": [
    {
     "name": "stdout",
     "output_type": "stream",
     "text": [
      "a\n",
      "Nope\n"
     ]
    }
   ],
   "source": [
    "try:\n",
    "    a=int(input())\n",
    "    b=int(input())\n",
    "    c=a/b\n",
    "    print(c)\n",
    "except ValueError:\n",
    "    print('Nope')\n",
    "except ZeroDivisionError:\n",
    "    print('Cannot divide by zero')"
   ]
  },
  {
   "cell_type": "code",
   "execution_count": null,
   "id": "28d9f89c",
   "metadata": {},
   "outputs": [],
   "source": [
    "import sys\n",
    "random_list=['a',0,2]\n",
    "\n",
    "for entry in random_list:\n",
    "    try:\n",
    "        print(\"The entry is\",entry)\n",
    "        r=1/entry\n",
    "    \n",
    "\n",
    "    "
   ]
  },
  {
   "cell_type": "code",
   "execution_count": 12,
   "id": "893c82c6",
   "metadata": {},
   "outputs": [
    {
     "name": "stdout",
     "output_type": "stream",
     "text": [
      "enter a number: 5\n",
      "\n",
      "not a even number\n"
     ]
    }
   ],
   "source": [
    "try:\n",
    "    num=int(input(\"enter a number: \"))\n",
    "    assert num%2==0\n",
    "except Exception as e:\n",
    "    print(e)\n",
    "    print(\"not a even number\")\n",
    "else:\n",
    "    reciprocal=1/num\n",
    "    print(reciprocal)"
   ]
  },
  {
   "cell_type": "code",
   "execution_count": 34,
   "id": "115548a6",
   "metadata": {},
   "outputs": [
    {
     "name": "stdout",
     "output_type": "stream",
     "text": [
      "1\n",
      "0\n",
      "cant by 0\n"
     ]
    }
   ],
   "source": [
    "try:\n",
    "    a=int(input())\n",
    "    b=int(input())\n",
    "    c=a/b\n",
    "    print(\"answer\",c)\n",
    "except ZeroDivisionError:\n",
    "    print('cant by 0')\n",
    "    \n",
    "except ValueErroralue:\n",
    "    print(\"can't\")\n",
    "else:\n",
    "    print('This is the else block')"
   ]
  },
  {
   "cell_type": "code",
   "execution_count": 39,
   "id": "b8a5ad03",
   "metadata": {},
   "outputs": [],
   "source": [
    "def divide(x,y):\n",
    "    try:\n",
    "        print(x/y)\n",
    "    except ZeroDivisionError as e:\n",
    "        print(e)\n",
    "    else:\n",
    "        print('If try ran this too runs ')\n",
    "    finally:\n",
    "        print('From finally')"
   ]
  },
  {
   "cell_type": "code",
   "execution_count": 41,
   "id": "9e7c12c7",
   "metadata": {},
   "outputs": [
    {
     "name": "stdout",
     "output_type": "stream",
     "text": [
      "1.0\n",
      "If try ran this too runs \n",
      "From finally\n"
     ]
    }
   ],
   "source": [
    "divide(1,1)"
   ]
  },
  {
   "cell_type": "code",
   "execution_count": null,
   "id": "8e1b1952",
   "metadata": {},
   "outputs": [],
   "source": [
    "x=10\n",
    "y=0\n",
    "\n",
    "try:\n",
    "    print(\"Outer try block\")\n",
    "    try:\n",
    "        print(\"nested try block\")\n",
    "        print(x/y)\n",
    "    except TypeError as te:\n",
    "        print(\"nested except block\")\n",
    "        print(te)\n",
    "except ZeroDivisionError as ze:\n",
    "    print(\"Outer except block\")\n",
    "    print(ze)"
   ]
  },
  {
   "cell_type": "code",
   "execution_count": 3,
   "id": "9e5ffaa4",
   "metadata": {},
   "outputs": [],
   "source": [
    "def func():\n",
    "    flag=True\n",
    "    while flag:\n",
    "        try:\n",
    "            a=int(input(\"Enter the integers\"))\n",
    "            if type(a)==int:\n",
    "                return \"yes,you entered a integer\"\n",
    "            flag=False\n",
    "        except:\n",
    "            print('Do enter an int')"
   ]
  },
  {
   "cell_type": "code",
   "execution_count": 4,
   "id": "2d6cd8e8",
   "metadata": {},
   "outputs": [
    {
     "name": "stdout",
     "output_type": "stream",
     "text": [
      "Enter the integers112121212\n"
     ]
    },
    {
     "data": {
      "text/plain": [
       "'yes,you entered a integer'"
      ]
     },
     "execution_count": 4,
     "metadata": {},
     "output_type": "execute_result"
    }
   ],
   "source": [
    "func()"
   ]
  },
  {
   "cell_type": "code",
   "execution_count": 14,
   "id": "2f7a7a85",
   "metadata": {},
   "outputs": [
    {
     "name": "stdout",
     "output_type": "stream",
     "text": [
      "there is issue\n",
      "(4, 5, 6, 7, 8, 9)\n"
     ]
    }
   ],
   "source": [
    "try:\n",
    "    l=[4,5,6,7,8,9]\n",
    "    l[100]\n",
    "except:\n",
    "    print(\"there is issue\")\n",
    "    t=(4,5,6,7,8,9)\n",
    "    print(t)\n",
    "    try:\n",
    "        t[0]=\"imran\"\n",
    "        try:\n",
    "            list(t)\n",
    "            print(t)\n",
    "        except:\n",
    "            pass\n",
    "    except:\n",
    "            \n",
    "        pass\n",
    "else:\n",
    "    print(\"there's no issue\")"
   ]
  },
  {
   "cell_type": "code",
   "execution_count": 15,
   "id": "d57dd461",
   "metadata": {},
   "outputs": [],
   "source": [
    "l1=['himanshu',[1,2,3]]\n"
   ]
  },
  {
   "cell_type": "code",
   "execution_count": 13,
   "id": "3d6fc12f",
   "metadata": {},
   "outputs": [],
   "source": [
    "def list_ret(l):\n",
    "\n",
    "    try:\n",
    "        l2=[]\n",
    "        for i in l:\n",
    "            if type(i)==int:\n",
    "                l2.append(i)\n",
    "        return l2\n",
    "    except:\n",
    "        print('Some issue in the code!')\n",
    "    else:\n",
    "        print('The code worked just fine!')\n",
    "    finally:\n",
    "        print('From finally!')"
   ]
  },
  {
   "cell_type": "code",
   "execution_count": 16,
   "id": "74f009a6",
   "metadata": {},
   "outputs": [
    {
     "name": "stdout",
     "output_type": "stream",
     "text": [
      "From finally!\n"
     ]
    },
    {
     "data": {
      "text/plain": [
       "[]"
      ]
     },
     "execution_count": 16,
     "metadata": {},
     "output_type": "execute_result"
    }
   ],
   "source": [
    "list_ret(l1)"
   ]
  },
  {
   "cell_type": "code",
   "execution_count": 28,
   "id": "44c849b1",
   "metadata": {},
   "outputs": [],
   "source": [
    "l1=[1,2,3]\n",
    "l2=[2,3]\n",
    "l1.append(l2)"
   ]
  },
  {
   "cell_type": "code",
   "execution_count": 29,
   "id": "d147c4ac",
   "metadata": {},
   "outputs": [
    {
     "data": {
      "text/plain": [
       "[1, 2, 3, [2, 3]]"
      ]
     },
     "execution_count": 29,
     "metadata": {},
     "output_type": "execute_result"
    }
   ],
   "source": [
    "l1"
   ]
  },
  {
   "cell_type": "code",
   "execution_count": 41,
   "id": "01f66448",
   "metadata": {},
   "outputs": [],
   "source": [
    "def test1(l1,l2):\n",
    "    try:\n",
    "        if type(l1)==list and type(l2)==list:\n",
    "             l1.append(l2)\n",
    "        return l1 \n",
    "    \n",
    "    except Exception as e:\n",
    "        print(e)\n",
    "        print('Not worked')\n",
    "    else:\n",
    "        print('Code worked')\n",
    "    finally:\n",
    "        print(\"From finally\")"
   ]
  },
  {
   "cell_type": "code",
   "execution_count": 42,
   "id": "cabbd2cf",
   "metadata": {},
   "outputs": [
    {
     "name": "stdout",
     "output_type": "stream",
     "text": [
      "From finally\n"
     ]
    },
    {
     "data": {
      "text/plain": [
       "[1, 2, [1, 2]]"
      ]
     },
     "execution_count": 42,
     "metadata": {},
     "output_type": "execute_result"
    }
   ],
   "source": [
    "test1([1,2],[1,2])"
   ]
  },
  {
   "cell_type": "code",
   "execution_count": 44,
   "id": "d8917584",
   "metadata": {},
   "outputs": [
    {
     "name": "stdout",
     "output_type": "stream",
     "text": [
      "\n",
      "*\n",
      "**\n",
      "***\n",
      "****\n",
      "*****\n"
     ]
    }
   ],
   "source": [
    "for i in range(6):\n",
    "    print(\"*\"*i)"
   ]
  },
  {
   "cell_type": "code",
   "execution_count": 37,
   "id": "fd2868c1",
   "metadata": {},
   "outputs": [
    {
     "name": "stdout",
     "output_type": "stream",
     "text": [
      " Volume in drive C is OS\n",
      " Volume Serial Number is DA70-7AC6\n",
      "\n",
      " Directory of C:\\Users\\devas\\Desktop\\sample_project_1\n",
      "\n",
      "04-12-2022  15:31    <DIR>          .\n",
      "01-12-2022  22:36    <DIR>          ..\n",
      "03-12-2022  19:20    <DIR>          .ipynb_checkpoints\n",
      "22-11-2022  15:03           567,024 03-A-Himanshu_Salvekar.ipynb\n",
      "20-11-2022  21:57            34,948 canada per capita income.ipynb\n",
      "20-11-2022  21:48            28,654 carprices.ipynb\n",
      "13-07-2022  22:52               369 car-sales.csv\n",
      "15-07-2022  17:48               287 car-sales-missing-data.csv\n",
      "12-07-2022  19:20    <DIR>          env\n",
      "04-12-2022  15:31            18,519 Exceptional_handling+.ipynb\n",
      "02-11-2022  11:39             1,763 functions task.txt\n",
      "13-07-2022  22:02            11,328 heart-disease.csv\n",
      "20-11-2022  22:07            18,708 hiring.ipynb\n",
      "20-11-2022  22:08            17,697 homeprices.ipynb\n",
      "20-11-2022  22:09            46,853 HR_comma_sep.ipynb\n",
      "01-12-2022  22:40             5,952 INeu-Assn-4.0.ipynb\n",
      "23-11-2022  15:31            38,181 Ineuron1.ipynb\n",
      "05-11-2022  07:04             2,917 INeuron-Assignment.ipynb\n",
      "02-12-2022  22:56            29,307 INeuron-Functions.ipynb\n",
      "05-11-2022  05:50            17,601 INeuron-List,Tuple,Set and Dicts.ipynb\n",
      "31-10-2022  12:45             5,711 INeuron-Loops,Tuples&Lists .ipynb\n",
      "20-11-2022  22:03            24,765 insurance data.ipynb\n",
      "01-12-2022  22:41            74,185 Introduction-To-NumPy.ipynb\n",
      "16-10-2022  15:17           343,290 Introduction-To-Pandas.ipynb\n",
      "20-11-2022  22:04            22,017 iris logistic assignment.ipynb\n",
      "16-10-2022  17:54             9,283 NumPy-Practice.ipynb\n",
      "16-10-2022  13:52             6,008 Pandas(Prac).ipynb\n",
      "17-07-2022  21:30             3,916 Pandas-Exercises.ipynb\n",
      "16-10-2022  16:43           153,698 Pandas-Practice.ipynb\n",
      "25-11-2022  21:06            43,541 part 1 solutions.ipynb\n",
      "02-12-2022  23:16             4,131 Password_Strength_Problem.ipynb\n",
      "02-12-2022  23:17            42,063 Practice-Questions.ipynb\n",
      "27-11-2022  18:06               993 PyBasicAssn-3_Ineuron.ipynb\n",
      "30-11-2022  22:45            23,229 questions.ipynb\n",
      "09-05-2022  20:01            20,212 Sadhguru.docx\n",
      "20-11-2022  22:10            24,620 salaries.ipynb\n",
      "02-12-2022  13:00             8,239 task questions part 2.ipynb\n",
      "20-11-2022  22:05            26,062 titanic decision tree assignment.ipynb\n",
      "02-12-2022  22:05             4,807 Untitled1.ipynb\n",
      "              35 File(s)      1,680,878 bytes\n",
      "               4 Dir(s)  280,796,377,088 bytes free\n"
     ]
    }
   ],
   "source": [
    "%ls"
   ]
  },
  {
   "cell_type": "code",
   "execution_count": 2,
   "id": "6dc45678",
   "metadata": {},
   "outputs": [
    {
     "data": {
      "text/plain": [
       "'C:\\\\Users\\\\devas\\\\Desktop\\\\sample_project_1'"
      ]
     },
     "execution_count": 2,
     "metadata": {},
     "output_type": "execute_result"
    }
   ],
   "source": [
    "pwd()"
   ]
  },
  {
   "cell_type": "code",
   "execution_count": 2,
   "id": "cfb520cb",
   "metadata": {},
   "outputs": [],
   "source": [
    "f=open(\"functions task.txt\")"
   ]
  },
  {
   "cell_type": "code",
   "execution_count": 15,
   "id": "67846b39",
   "metadata": {},
   "outputs": [
    {
     "data": {
      "text/plain": [
       "_io.TextIOWrapper"
      ]
     },
     "execution_count": 15,
     "metadata": {},
     "output_type": "execute_result"
    }
   ],
   "source": [
    "type(f)"
   ]
  },
  {
   "cell_type": "code",
   "execution_count": 3,
   "id": "efe6e2f5",
   "metadata": {},
   "outputs": [
    {
     "data": {
      "text/plain": [
       "'1 . you have to write a fun which will take string and return a len of \\nit without using a inbuilt fun len\\n2 . write a fun which will be able to print an index of all premitive element which you will pass \\n3 . Write a fun which will take input as a dict and give me out as a list of all the values \\neven in case of 2 level nesting it should work . \\n4 . write a fun which will take another function as an input and return me an output \\n5. write a function whihc will take multiple list as a input and give me concatnation of all the element as \\nand output \\n6 . write a function which will be able to take a list as an input return an index of each element \\nlike a inbuilt index function but even if we have repetative element it should return index \\n7 . Write a function which will whould return list of all the file name from a directory . \\n8  . write a function which will be able to show your system configuration . \\n9 . write a function which will be able to show date and time  . \\n10 . write a function whihc will be able to read a image file and show it to you .\\n11 . write a function which can read video file and play for you . \\n12  . write a function whihc can move a file from one directory to another directory . \\n13 . write a function which will be able to shutdonw your system . \\n14 . write a function whihc will be able to access your mail . \\n15 . write a func bywhcih i can send a mail to anyone \\n16. write a func to read a complete PDf file . \\n17. write a function to read a word file . \\n18 . write a function which can help you to filter only word file from a directory . \\n19 . write a function by which you can print an ip address of your system . \\n20 . write a function by which you will be able to append two PDF files . '"
      ]
     },
     "execution_count": 3,
     "metadata": {},
     "output_type": "execute_result"
    }
   ],
   "source": [
    "f.read()"
   ]
  },
  {
   "cell_type": "code",
   "execution_count": 39,
   "id": "eb320aed",
   "metadata": {},
   "outputs": [],
   "source": [
    "f1=open(r\"C:\\Users\\devas\\Downloads\\PyBasicAssn1.docx\",'r')"
   ]
  },
  {
   "cell_type": "code",
   "execution_count": 26,
   "id": "aa95aac9",
   "metadata": {},
   "outputs": [
    {
     "data": {
      "text/plain": [
       "0"
      ]
     },
     "execution_count": 26,
     "metadata": {},
     "output_type": "execute_result"
    }
   ],
   "source": [
    "f.seek(0)"
   ]
  },
  {
   "cell_type": "code",
   "execution_count": 34,
   "id": "b43d3324",
   "metadata": {},
   "outputs": [
    {
     "data": {
      "text/plain": [
       "''"
      ]
     },
     "execution_count": 34,
     "metadata": {},
     "output_type": "execute_result"
    }
   ],
   "source": [
    "f.read(11)"
   ]
  },
  {
   "cell_type": "code",
   "execution_count": 35,
   "id": "a74f9395",
   "metadata": {},
   "outputs": [
    {
     "data": {
      "text/plain": [
       "0"
      ]
     },
     "execution_count": 35,
     "metadata": {},
     "output_type": "execute_result"
    }
   ],
   "source": [
    "f.seek(0)"
   ]
  },
  {
   "cell_type": "code",
   "execution_count": 29,
   "id": "7f01da8f",
   "metadata": {},
   "outputs": [],
   "source": [
    "f1.close()"
   ]
  },
  {
   "cell_type": "code",
   "execution_count": 36,
   "id": "b6f90b64",
   "metadata": {},
   "outputs": [
    {
     "data": {
      "text/plain": [
       "'1 . you have to write a fun which will take string and return a len of \\nit without using a inbuilt fun len\\n2 . write a fun which will be able to print an index of all premitive element which you will pass \\n3 . Write a fun which will take input as a dict and give me out as a list of all the values \\neven in case of 2 level nesting it should work . \\n4 . write a fun which will take another function as an input and return me an output \\n5. write a function whihc will take multiple list as a input and give me concatnation of all the element as \\nand output \\n6 . write a function which will be able to take a list as an input return an index of each element \\nlike a inbuilt index function but even if we have repetative element it should return index \\n7 . Write a function which will whould return list of all the file name from a directory . \\n8  . write a function which will be able to show your system configuration . \\n9 . write a function which will be able to show date and time  . \\n10 . write a function whihc will be able to read a image file and show it to you .\\n11 . write a function which can read video file and play for you . \\n12  . write a function whihc can move a file from one directory to another directory . \\n13 . write a function which will be able to shutdonw your system . \\n14 . write a function whihc will be able to access your mail . \\n15 . write a func bywhcih i can send a mail to anyone \\n16. write a func to read a complete PDf file . \\n17. write a function to read a word file . \\n18 . write a function which can help you to filter only word file from a directory . \\n19 . write a function by which you can print an ip address of your system . \\n20 . write a function by which you will be able to append two PDF files . '"
      ]
     },
     "execution_count": 36,
     "metadata": {},
     "output_type": "execute_result"
    }
   ],
   "source": [
    "f.read()"
   ]
  },
  {
   "cell_type": "code",
   "execution_count": 1,
   "id": "d2abcd15",
   "metadata": {},
   "outputs": [
    {
     "ename": "NameError",
     "evalue": "name 'f' is not defined",
     "output_type": "error",
     "traceback": [
      "\u001b[1;31m---------------------------------------------------------------------------\u001b[0m",
      "\u001b[1;31mNameError\u001b[0m                                 Traceback (most recent call last)",
      "\u001b[1;32m<ipython-input-1-3c1a8772273a>\u001b[0m in \u001b[0;36m<module>\u001b[1;34m\u001b[0m\n\u001b[1;32m----> 1\u001b[1;33m \u001b[0mf\u001b[0m\u001b[1;33m.\u001b[0m\u001b[0mtell\u001b[0m\u001b[1;33m(\u001b[0m\u001b[1;33m)\u001b[0m\u001b[1;33m\u001b[0m\u001b[1;33m\u001b[0m\u001b[0m\n\u001b[0m",
      "\u001b[1;31mNameError\u001b[0m: name 'f' is not defined"
     ]
    }
   ],
   "source": [
    "f.tell()"
   ]
  },
  {
   "cell_type": "code",
   "execution_count": 40,
   "id": "f1373cff",
   "metadata": {},
   "outputs": [
    {
     "data": {
      "text/plain": [
       "0"
      ]
     },
     "execution_count": 40,
     "metadata": {},
     "output_type": "execute_result"
    }
   ],
   "source": [
    "f1.tell()"
   ]
  },
  {
   "cell_type": "code",
   "execution_count": 41,
   "id": "d2bc4a56",
   "metadata": {},
   "outputs": [
    {
     "data": {
      "text/plain": [
       "[]"
      ]
     },
     "execution_count": 41,
     "metadata": {},
     "output_type": "execute_result"
    }
   ],
   "source": [
    "f.readlines()"
   ]
  },
  {
   "cell_type": "code",
   "execution_count": 42,
   "id": "3751ad8a",
   "metadata": {},
   "outputs": [],
   "source": [
    "f2=open(\"asas.txt\")"
   ]
  },
  {
   "cell_type": "code",
   "execution_count": 50,
   "id": "1ea0999a",
   "metadata": {},
   "outputs": [
    {
     "data": {
      "text/plain": [
       "''"
      ]
     },
     "execution_count": 50,
     "metadata": {},
     "output_type": "execute_result"
    }
   ],
   "source": [
    "f2.read(3)"
   ]
  },
  {
   "cell_type": "code",
   "execution_count": 53,
   "id": "61a939c4",
   "metadata": {},
   "outputs": [
    {
     "name": "stdout",
     "output_type": "stream",
     "text": [
      "DOne\n"
     ]
    }
   ],
   "source": [
    "data=\"ineuron\"\n",
    "\n",
    "f3=open(\"test1.txt\",'w')\n",
    "f3.write(data)\n",
    "print('DOne')\n",
    "f.close()"
   ]
  },
  {
   "cell_type": "code",
   "execution_count": 55,
   "id": "9a7ba7ef",
   "metadata": {},
   "outputs": [],
   "source": [
    "with open(\"test2.txt\",'w') as f:\n",
    "    f.write('fsds\\n')\n",
    "    f.write('fsds2.0')"
   ]
  },
  {
   "cell_type": "code",
   "execution_count": 65,
   "id": "e5d45419",
   "metadata": {},
   "outputs": [
    {
     "name": "stdout",
     "output_type": "stream",
     "text": [
      "1\n",
      "0\n",
      "Some issue  division by zero\n"
     ]
    },
    {
     "ename": "UnsupportedOperation",
     "evalue": "not readable",
     "output_type": "error",
     "traceback": [
      "\u001b[1;31m---------------------------------------------------------------------------\u001b[0m",
      "\u001b[1;31mZeroDivisionError\u001b[0m                         Traceback (most recent call last)",
      "Input \u001b[1;32mIn [65]\u001b[0m, in \u001b[0;36m<cell line: 1>\u001b[1;34m()\u001b[0m\n\u001b[0;32m      3\u001b[0m     b\u001b[38;5;241m=\u001b[39m\u001b[38;5;28mint\u001b[39m(\u001b[38;5;28minput\u001b[39m())\n\u001b[1;32m----> 4\u001b[0m     c\u001b[38;5;241m=\u001b[39m\u001b[43ma\u001b[49m\u001b[38;5;241;43m/\u001b[39;49m\u001b[43mb\u001b[49m\n\u001b[0;32m      5\u001b[0m \u001b[38;5;28;01mexcept\u001b[39;00m \u001b[38;5;167;01mArithmeticError\u001b[39;00m \u001b[38;5;28;01mas\u001b[39;00m e:\n",
      "\u001b[1;31mZeroDivisionError\u001b[0m: division by zero",
      "\nDuring handling of the above exception, another exception occurred:\n",
      "\u001b[1;31mUnsupportedOperation\u001b[0m                      Traceback (most recent call last)",
      "Input \u001b[1;32mIn [65]\u001b[0m, in \u001b[0;36m<cell line: 1>\u001b[1;34m()\u001b[0m\n\u001b[0;32m      7\u001b[0m     f4\u001b[38;5;241m=\u001b[39m\u001b[38;5;28mopen\u001b[39m(\u001b[38;5;124m\"\u001b[39m\u001b[38;5;124mineuron1.txt\u001b[39m\u001b[38;5;124m\"\u001b[39m,\u001b[38;5;124m'\u001b[39m\u001b[38;5;124mw\u001b[39m\u001b[38;5;124m'\u001b[39m)\n\u001b[0;32m      8\u001b[0m     f4\u001b[38;5;241m.\u001b[39mwrite(\u001b[38;5;28mstr\u001b[39m(e))\n\u001b[1;32m----> 9\u001b[0m     \u001b[43mf4\u001b[49m\u001b[38;5;241;43m.\u001b[39;49m\u001b[43mread\u001b[49m\u001b[43m(\u001b[49m\u001b[43m)\u001b[49m\n\u001b[0;32m     10\u001b[0m \u001b[38;5;28;01melse\u001b[39;00m:\n\u001b[0;32m     11\u001b[0m     \u001b[38;5;28mprint\u001b[39m(\u001b[38;5;124m\"\u001b[39m\u001b[38;5;124mThis will execute once try is success\u001b[39m\u001b[38;5;124m\"\u001b[39m)\n",
      "\u001b[1;31mUnsupportedOperation\u001b[0m: not readable"
     ]
    }
   ],
   "source": [
    "try:\n",
    "    a=int(input())\n",
    "    b=int(input())\n",
    "    c=a/b\n",
    "except ArithmeticError as e:\n",
    "    print(\"Some issue \",e)\n",
    "    f4=open(\"ineuron1.txt\",'w')\n",
    "    f4.write(str(e))\n",
    "    f4.read()\n",
    "else:\n",
    "    print(\"This will execute once try is success\")\n",
    "    try:\n",
    "        f5=open(\"test3.txt\",'w')\n",
    "    except:\n",
    "        print(\"There's some issue!\")"
   ]
  },
  {
   "cell_type": "code",
   "execution_count": 67,
   "id": "5b0bf9f1",
   "metadata": {},
   "outputs": [],
   "source": [
    "try:\n",
    "    f=open(\"error.txt\",'w+')\n",
    "except Exception as e:\n",
    "    print(e)\n",
    "    \n",
    "    "
   ]
  },
  {
   "cell_type": "code",
   "execution_count": 68,
   "id": "a44b90db",
   "metadata": {},
   "outputs": [],
   "source": [
    "f=open(\"error.txt\",'w+')"
   ]
  },
  {
   "cell_type": "code",
   "execution_count": 69,
   "id": "8fa780f8",
   "metadata": {},
   "outputs": [
    {
     "data": {
      "text/plain": [
       "''"
      ]
     },
     "execution_count": 69,
     "metadata": {},
     "output_type": "execute_result"
    }
   ],
   "source": [
    "f.read()"
   ]
  },
  {
   "cell_type": "code",
   "execution_count": 72,
   "id": "db700348",
   "metadata": {},
   "outputs": [
    {
     "name": "stdout",
     "output_type": "stream",
     "text": [
      "[Errno 2] No such file or directory: 'func.txt'\n"
     ]
    }
   ],
   "source": [
    "try:\n",
    "    f=open(\"func.txt\")\n",
    "except Exception as e:\n",
    "    print(e)"
   ]
  },
  {
   "cell_type": "code",
   "execution_count": 73,
   "id": "45316ce9",
   "metadata": {},
   "outputs": [],
   "source": [
    "try:\n",
    "    f=open(\"error1.txt\",'w')\n",
    "except Exception as e:\n",
    "    print(e)"
   ]
  },
  {
   "cell_type": "code",
   "execution_count": 74,
   "id": "a588ea73",
   "metadata": {},
   "outputs": [],
   "source": [
    "list1=[1,2,3]"
   ]
  },
  {
   "cell_type": "code",
   "execution_count": 75,
   "id": "c88dffe5",
   "metadata": {},
   "outputs": [],
   "source": [
    "k=iter(list1)"
   ]
  },
  {
   "cell_type": "code",
   "execution_count": 79,
   "id": "e59740fd",
   "metadata": {},
   "outputs": [
    {
     "ename": "StopIteration",
     "evalue": "",
     "output_type": "error",
     "traceback": [
      "\u001b[1;31m---------------------------------------------------------------------------\u001b[0m",
      "\u001b[1;31mStopIteration\u001b[0m                             Traceback (most recent call last)",
      "Input \u001b[1;32mIn [79]\u001b[0m, in \u001b[0;36m<cell line: 1>\u001b[1;34m()\u001b[0m\n\u001b[1;32m----> 1\u001b[0m \u001b[38;5;28;43mnext\u001b[39;49m\u001b[43m(\u001b[49m\u001b[43mk\u001b[49m\u001b[43m)\u001b[49m\n",
      "\u001b[1;31mStopIteration\u001b[0m: "
     ]
    }
   ],
   "source": [
    "next(k)"
   ]
  },
  {
   "cell_type": "code",
   "execution_count": 80,
   "id": "d21b3d1c",
   "metadata": {},
   "outputs": [],
   "source": [
    "def square(n):\n",
    "    for i in range(n):\n",
    "        yield i**2"
   ]
  },
  {
   "cell_type": "code",
   "execution_count": 81,
   "id": "7556e51e",
   "metadata": {},
   "outputs": [],
   "source": [
    "l=square(4)"
   ]
  },
  {
   "cell_type": "code",
   "execution_count": 86,
   "id": "c4cae034",
   "metadata": {},
   "outputs": [
    {
     "ename": "StopIteration",
     "evalue": "",
     "output_type": "error",
     "traceback": [
      "\u001b[1;31m---------------------------------------------------------------------------\u001b[0m",
      "\u001b[1;31mStopIteration\u001b[0m                             Traceback (most recent call last)",
      "Input \u001b[1;32mIn [86]\u001b[0m, in \u001b[0;36m<cell line: 1>\u001b[1;34m()\u001b[0m\n\u001b[1;32m----> 1\u001b[0m \u001b[38;5;28;43mnext\u001b[39;49m\u001b[43m(\u001b[49m\u001b[43ml\u001b[49m\u001b[43m)\u001b[49m\n",
      "\u001b[1;31mStopIteration\u001b[0m: "
     ]
    }
   ],
   "source": [
    "next(l)"
   ]
  },
  {
   "cell_type": "code",
   "execution_count": 87,
   "id": "c508cce4",
   "metadata": {},
   "outputs": [
    {
     "data": {
      "text/plain": [
       "generator"
      ]
     },
     "execution_count": 87,
     "metadata": {},
     "output_type": "execute_result"
    }
   ],
   "source": [
    "type(l)"
   ]
  },
  {
   "cell_type": "code",
   "execution_count": null,
   "id": "181cc094",
   "metadata": {},
   "outputs": [],
   "source": [
    "def new():\n",
    "    n=1\n",
    "    print(\"Line one\")\n",
    "    yield n\n",
    "    \n",
    "    n=n+1\n",
    "    print(\"Second \")\n",
    "    \n",
    "    n=n+2\n",
    "    print('third')\n",
    "    \n",
    "    "
   ]
  },
  {
   "cell_type": "code",
   "execution_count": 88,
   "id": "0e922346",
   "metadata": {},
   "outputs": [],
   "source": [
    "def genCube(n):\n",
    "    l=[]\n",
    "    for i in range(n):\n",
    "        l.append(i**3)\n",
    "    return l"
   ]
  },
  {
   "cell_type": "code",
   "execution_count": 89,
   "id": "97de4df0",
   "metadata": {},
   "outputs": [
    {
     "data": {
      "text/plain": [
       "[0, 1, 8, 27, 64]"
      ]
     },
     "execution_count": 89,
     "metadata": {},
     "output_type": "execute_result"
    }
   ],
   "source": [
    "genCube(5)"
   ]
  },
  {
   "cell_type": "code",
   "execution_count": 108,
   "id": "50e6c100",
   "metadata": {},
   "outputs": [],
   "source": [
    "def gencube(n):\n",
    "    for i in range(n):\n",
    "        yield i**3"
   ]
  },
  {
   "cell_type": "code",
   "execution_count": 110,
   "id": "0d4dfade",
   "metadata": {},
   "outputs": [],
   "source": [
    "k=gencube(100)"
   ]
  },
  {
   "cell_type": "code",
   "execution_count": 92,
   "id": "8ffd4d2e",
   "metadata": {},
   "outputs": [
    {
     "data": {
      "text/plain": [
       "<generator object gencube at 0x000002180C8F8C10>"
      ]
     },
     "execution_count": 92,
     "metadata": {},
     "output_type": "execute_result"
    }
   ],
   "source": [
    "k"
   ]
  },
  {
   "cell_type": "code",
   "execution_count": 106,
   "id": "bd1533c5",
   "metadata": {},
   "outputs": [
    {
     "data": {
      "text/plain": [
       "2197"
      ]
     },
     "execution_count": 106,
     "metadata": {},
     "output_type": "execute_result"
    }
   ],
   "source": [
    "next(k)"
   ]
  },
  {
   "cell_type": "code",
   "execution_count": 111,
   "id": "5e541fad",
   "metadata": {},
   "outputs": [
    {
     "name": "stdout",
     "output_type": "stream",
     "text": [
      "0\n",
      "1\n",
      "8\n",
      "27\n",
      "64\n",
      "125\n",
      "216\n",
      "343\n",
      "512\n",
      "729\n",
      "1000\n",
      "1331\n",
      "1728\n",
      "2197\n",
      "2744\n",
      "3375\n",
      "4096\n",
      "4913\n",
      "5832\n",
      "6859\n",
      "8000\n",
      "9261\n",
      "10648\n",
      "12167\n",
      "13824\n",
      "15625\n",
      "17576\n",
      "19683\n",
      "21952\n",
      "24389\n",
      "27000\n",
      "29791\n",
      "32768\n",
      "35937\n",
      "39304\n",
      "42875\n",
      "46656\n",
      "50653\n",
      "54872\n",
      "59319\n",
      "64000\n",
      "68921\n",
      "74088\n",
      "79507\n",
      "85184\n",
      "91125\n",
      "97336\n",
      "103823\n",
      "110592\n",
      "117649\n",
      "125000\n",
      "132651\n",
      "140608\n",
      "148877\n",
      "157464\n",
      "166375\n",
      "175616\n",
      "185193\n",
      "195112\n",
      "205379\n",
      "216000\n",
      "226981\n",
      "238328\n",
      "250047\n",
      "262144\n",
      "274625\n",
      "287496\n",
      "300763\n",
      "314432\n",
      "328509\n",
      "343000\n",
      "357911\n",
      "373248\n",
      "389017\n",
      "405224\n",
      "421875\n",
      "438976\n",
      "456533\n",
      "474552\n",
      "493039\n",
      "512000\n",
      "531441\n",
      "551368\n",
      "571787\n",
      "592704\n",
      "614125\n",
      "636056\n",
      "658503\n",
      "681472\n",
      "704969\n",
      "729000\n",
      "753571\n",
      "778688\n",
      "804357\n",
      "830584\n",
      "857375\n",
      "884736\n",
      "912673\n",
      "941192\n",
      "970299\n"
     ]
    }
   ],
   "source": [
    "for i in k:\n",
    "    print(i)"
   ]
  },
  {
   "cell_type": "code",
   "execution_count": 112,
   "id": "5495d1f5",
   "metadata": {},
   "outputs": [],
   "source": [
    "nums=[1,2,3]\n",
    "i_nums=iter(nums)"
   ]
  },
  {
   "cell_type": "code",
   "execution_count": null,
   "id": "b5e2d144",
   "metadata": {},
   "outputs": [],
   "source": [
    "for i in i_nums:\n",
    "    "
   ]
  },
  {
   "cell_type": "code",
   "execution_count": 113,
   "id": "e6f0939a",
   "metadata": {},
   "outputs": [
    {
     "name": "stdout",
     "output_type": "stream",
     "text": [
      "1\n",
      "2\n",
      "3\n"
     ]
    }
   ],
   "source": [
    "while True:\n",
    "    try:\n",
    "        item=next(i_nums)\n",
    "        print(item)\n",
    "    except StopIteration:\n",
    "        break"
   ]
  },
  {
   "cell_type": "code",
   "execution_count": 118,
   "id": "175d8156",
   "metadata": {},
   "outputs": [
    {
     "name": "stdout",
     "output_type": "stream",
     "text": [
      "0\n",
      "1\n",
      "2\n",
      "3\n",
      "4\n",
      "5\n",
      "6\n",
      "7\n",
      "8\n",
      "9\n"
     ]
    }
   ],
   "source": [
    "h=0\n",
    "\n",
    "while h<10:\n",
    "    print(h)\n",
    "    h+=1\n",
    "    \n",
    "    \n",
    "    "
   ]
  },
  {
   "cell_type": "code",
   "execution_count": 30,
   "id": "0721411c",
   "metadata": {},
   "outputs": [],
   "source": [
    "def some(*args):\n",
    "    \n",
    "    try:\n",
    "        text=0\n",
    "        for i in args:\n",
    "            text+=i\n",
    "            \n",
    "    except Exception as e:\n",
    "        print(e)\n",
    "    else:\n",
    "        return text\n",
    "        print('Code worked well!')\n",
    "    finally:\n",
    "        print('from finally')\n",
    "        \n",
    "            \n",
    "         \n",
    "        \n",
    "    \n",
    "    \n",
    "        \n",
    "    "
   ]
  },
  {
   "cell_type": "code",
   "execution_count": 32,
   "id": "8c16095a",
   "metadata": {},
   "outputs": [
    {
     "name": "stdout",
     "output_type": "stream",
     "text": [
      "from finally\n"
     ]
    },
    {
     "data": {
      "text/plain": [
       "10"
      ]
     },
     "execution_count": 32,
     "metadata": {},
     "output_type": "execute_result"
    }
   ],
   "source": [
    "some(1,2,7)"
   ]
  },
  {
   "cell_type": "code",
   "execution_count": 2,
   "id": "38491728",
   "metadata": {},
   "outputs": [
    {
     "name": "stdout",
     "output_type": "stream",
     "text": [
      "H\n",
      "i\n",
      "m\n",
      "a\n",
      "n\n",
      "s\n",
      "h\n",
      "u\n"
     ]
    }
   ],
   "source": [
    "for i in 'Himanshu':\n",
    "    print(i)"
   ]
  },
  {
   "cell_type": "code",
   "execution_count": 5,
   "id": "1a0d3dca",
   "metadata": {},
   "outputs": [],
   "source": [
    "def some_text(name):\n",
    "    \n",
    "    for i in name:\n",
    "        print(i)\n",
    "    "
   ]
  },
  {
   "cell_type": "code",
   "execution_count": 6,
   "id": "7a120bbf",
   "metadata": {},
   "outputs": [
    {
     "name": "stdout",
     "output_type": "stream",
     "text": [
      "h\n",
      "i\n",
      "m\n",
      "a\n",
      "n\n",
      "s\n",
      "h\n",
      "u\n"
     ]
    }
   ],
   "source": [
    "some_text('himanshu')"
   ]
  },
  {
   "cell_type": "code",
   "execution_count": 1,
   "id": "26a7aed2",
   "metadata": {},
   "outputs": [
    {
     "ename": "NameError",
     "evalue": "name 're' is not defined",
     "output_type": "error",
     "traceback": [
      "\u001b[1;31m---------------------------------------------------------------------------\u001b[0m",
      "\u001b[1;31mNameError\u001b[0m                                 Traceback (most recent call last)",
      "\u001b[1;32m<ipython-input-1-041b73cb1c9b>\u001b[0m in \u001b[0;36m<module>\u001b[1;34m\u001b[0m\n\u001b[1;32m----> 1\u001b[1;33m \u001b[0mre\u001b[0m\u001b[1;33m.\u001b[0m\u001b[0mfindall\u001b[0m\u001b[1;33m(\u001b[0m\u001b[0mpattern\u001b[0m\u001b[1;33m,\u001b[0m\u001b[0mmy_string\u001b[0m\u001b[1;33m,\u001b[0m\u001b[0mre\u001b[0m\u001b[1;33m.\u001b[0m\u001b[0mmultiline\u001b[0m\u001b[1;33m)\u001b[0m\u001b[1;33m\u001b[0m\u001b[1;33m\u001b[0m\u001b[0m\n\u001b[0m",
      "\u001b[1;31mNameError\u001b[0m: name 're' is not defined"
     ]
    }
   ],
   "source": [
    "re.findall(pattern,my_string,re.multiline)"
   ]
  },
  {
   "cell_type": "code",
   "execution_count": 7,
   "id": "91cae040",
   "metadata": {},
   "outputs": [],
   "source": [
    "#examply.py\n",
    "class cup:\n",
    "    coffee=False"
   ]
  },
  {
   "cell_type": "code",
   "execution_count": 3,
   "id": "fb723f05",
   "metadata": {},
   "outputs": [
    {
     "ename": "NameError",
     "evalue": "name 'coffee' is not defined",
     "output_type": "error",
     "traceback": [
      "\u001b[1;31m---------------------------------------------------------------------------\u001b[0m",
      "\u001b[1;31mNameError\u001b[0m                                 Traceback (most recent call last)",
      "\u001b[1;32m<ipython-input-3-00e4de8cc09e>\u001b[0m in \u001b[0;36m<module>\u001b[1;34m\u001b[0m\n\u001b[1;32m----> 1\u001b[1;33m \u001b[0mcoffee\u001b[0m \u001b[1;32min\u001b[0m \u001b[0mdir\u001b[0m\u001b[1;33m(\u001b[0m\u001b[1;34m'cup'\u001b[0m\u001b[1;33m)\u001b[0m\u001b[1;33m\u001b[0m\u001b[1;33m\u001b[0m\u001b[0m\n\u001b[0m",
      "\u001b[1;31mNameError\u001b[0m: name 'coffee' is not defined"
     ]
    }
   ],
   "source": [
    "coffee in dir('cup')"
   ]
  },
  {
   "cell_type": "code",
   "execution_count": 8,
   "id": "466e2d55",
   "metadata": {},
   "outputs": [
    {
     "data": {
      "text/plain": [
       "False"
      ]
     },
     "execution_count": 8,
     "metadata": {},
     "output_type": "execute_result"
    }
   ],
   "source": [
    "'example.py' in dir()"
   ]
  },
  {
   "cell_type": "code",
   "execution_count": 9,
   "id": "d83bef04",
   "metadata": {},
   "outputs": [
    {
     "ename": "NameError",
     "evalue": "name 'builtins' is not defined",
     "output_type": "error",
     "traceback": [
      "\u001b[1;31m---------------------------------------------------------------------------\u001b[0m",
      "\u001b[1;31mNameError\u001b[0m                                 Traceback (most recent call last)",
      "\u001b[1;32m<ipython-input-9-fa24f38b7f74>\u001b[0m in \u001b[0;36m<module>\u001b[1;34m\u001b[0m\n\u001b[1;32m----> 1\u001b[1;33m \u001b[0mdir\u001b[0m \u001b[1;32min\u001b[0m \u001b[0mbuiltins\u001b[0m\u001b[1;33m\u001b[0m\u001b[1;33m\u001b[0m\u001b[0m\n\u001b[0m",
      "\u001b[1;31mNameError\u001b[0m: name 'builtins' is not defined"
     ]
    }
   ],
   "source": [
    "dir in builtins"
   ]
  },
  {
   "cell_type": "code",
   "execution_count": 10,
   "id": "b8faadcf",
   "metadata": {},
   "outputs": [
    {
     "ename": "NameError",
     "evalue": "name 'coffee' is not defined",
     "output_type": "error",
     "traceback": [
      "\u001b[1;31m---------------------------------------------------------------------------\u001b[0m",
      "\u001b[1;31mNameError\u001b[0m                                 Traceback (most recent call last)",
      "\u001b[1;32m<ipython-input-10-e863edd275f9>\u001b[0m in \u001b[0;36m<module>\u001b[1;34m\u001b[0m\n\u001b[1;32m----> 1\u001b[1;33m \u001b[0mcoffee\u001b[0m \u001b[1;32min\u001b[0m \u001b[0mdir\u001b[0m\u001b[1;33m(\u001b[0m\u001b[0mcup\u001b[0m\u001b[1;33m)\u001b[0m\u001b[1;33m\u001b[0m\u001b[1;33m\u001b[0m\u001b[0m\n\u001b[0m\u001b[0;32m      2\u001b[0m \u001b[1;34m'cup'\u001b[0m \u001b[1;32min\u001b[0m \u001b[0mdir\u001b[0m\u001b[1;33m(\u001b[0m\u001b[1;33m)\u001b[0m\u001b[1;33m\u001b[0m\u001b[1;33m\u001b[0m\u001b[0m\n",
      "\u001b[1;31mNameError\u001b[0m: name 'coffee' is not defined"
     ]
    }
   ],
   "source": [
    "coffee in dir(cup)\n",
    "'cup' in dir()"
   ]
  },
  {
   "cell_type": "code",
   "execution_count": 11,
   "id": "538c69e8",
   "metadata": {},
   "outputs": [],
   "source": [
    "from collections import Counter\n",
    "\n",
    "days=['Mon','Tue','Wed','Thu']\n",
    "counter=Counter(days)\n",
    "for x in range(1,5,2):\n",
    "    d=x%3\n",
    "    counter.update([days[d]]*x)"
   ]
  },
  {
   "cell_type": "code",
   "execution_count": 12,
   "id": "c9e3c5c5",
   "metadata": {},
   "outputs": [
    {
     "data": {
      "text/plain": [
       "Counter({'Mon': 4, 'Tue': 2, 'Wed': 1, 'Thu': 1})"
      ]
     },
     "execution_count": 12,
     "metadata": {},
     "output_type": "execute_result"
    }
   ],
   "source": [
    "counter"
   ]
  },
  {
   "cell_type": "code",
   "execution_count": 18,
   "id": "76beac0f",
   "metadata": {},
   "outputs": [],
   "source": [
    "def map(array,method):\n",
    "    result=[]\n",
    "    for element in array:\n",
    "        value=method(element)\n",
    "        result.append(value)\n",
    "        return result"
   ]
  },
  {
   "cell_type": "code",
   "execution_count": 22,
   "id": "1345ccbb",
   "metadata": {},
   "outputs": [
    {
     "ename": "TypeError",
     "evalue": "map() missing 2 required positional arguments: 'array' and 'method'",
     "output_type": "error",
     "traceback": [
      "\u001b[1;31m---------------------------------------------------------------------------\u001b[0m",
      "\u001b[1;31mTypeError\u001b[0m                                 Traceback (most recent call last)",
      "\u001b[1;32m<ipython-input-22-e56740a6557e>\u001b[0m in \u001b[0;36m<module>\u001b[1;34m\u001b[0m\n\u001b[1;32m----> 1\u001b[1;33m \u001b[0mmap\u001b[0m\u001b[1;33m(\u001b[0m\u001b[1;33m)\u001b[0m\u001b[1;33m\u001b[0m\u001b[1;33m\u001b[0m\u001b[0m\n\u001b[0m",
      "\u001b[1;31mTypeError\u001b[0m: map() missing 2 required positional arguments: 'array' and 'method'"
     ]
    }
   ],
   "source": [
    "map([1,2,3,4],)"
   ]
  },
  {
   "cell_type": "code",
   "execution_count": 23,
   "id": "cc22d3d3",
   "metadata": {},
   "outputs": [
    {
     "name": "stdout",
     "output_type": "stream",
     "text": [
      "0\n"
     ]
    }
   ],
   "source": [
    "sum=0\n",
    "i=10\n",
    "while i<1:\n",
    "    sum=sum+1\n",
    "    sum=sum*2\n",
    "    i-=1\n",
    "print(sum)"
   ]
  },
  {
   "cell_type": "code",
   "execution_count": 24,
   "id": "89687b94",
   "metadata": {},
   "outputs": [],
   "source": [
    "def f(ele,array):\n",
    "    for i,a in enumerate(array):\n",
    "        if element==array_element:\n",
    "            return (i+1)\n",
    "    "
   ]
  },
  {
   "cell_type": "code",
   "execution_count": 25,
   "id": "6bba608b",
   "metadata": {},
   "outputs": [],
   "source": [
    "f=lambda n:1 if n<=1 else n*f(n-1)\n",
    "\n",
    "g=f(4)"
   ]
  },
  {
   "cell_type": "code",
   "execution_count": 26,
   "id": "f5d38868",
   "metadata": {},
   "outputs": [
    {
     "data": {
      "text/plain": [
       "24"
      ]
     },
     "execution_count": 26,
     "metadata": {},
     "output_type": "execute_result"
    }
   ],
   "source": [
    "g"
   ]
  },
  {
   "cell_type": "code",
   "execution_count": 29,
   "id": "b7769444",
   "metadata": {},
   "outputs": [],
   "source": [
    "def _(func,items):\n",
    "    i=0\n",
    "    for item in items:\n",
    "        if func(item):\n",
    "            items[i]=item\n",
    "            i+=1\n",
    "    del items[i:]"
   ]
  },
  {
   "cell_type": "code",
   "execution_count": 31,
   "id": "d8f3cfe1",
   "metadata": {},
   "outputs": [],
   "source": [
    "def _(arr):\n",
    "    temp=0\n",
    "    for x in arr:\n",
    "        if x%2==1:\n",
    "            temp+=1\n",
    "        else:\n",
    "            temp=0\n",
    "        if temp==3:\n",
    "            return True\n",
    "    return False"
   ]
  },
  {
   "cell_type": "code",
   "execution_count": 34,
   "id": "53c7b5e3",
   "metadata": {},
   "outputs": [
    {
     "data": {
      "text/plain": [
       "True"
      ]
     },
     "execution_count": 34,
     "metadata": {},
     "output_type": "execute_result"
    }
   ],
   "source": [
    "_([4,5,7,23,12])"
   ]
  },
  {
   "cell_type": "code",
   "execution_count": 46,
   "id": "8bf7f729",
   "metadata": {},
   "outputs": [],
   "source": [
    "def is_prime_number(num):\n",
    "    j=2\n",
    "    while j*j<=num:\n",
    "        if num%j==0:\n",
    "            return False\n",
    "        j+=1\n",
    "    return True"
   ]
  },
  {
   "cell_type": "code",
   "execution_count": 47,
   "id": "de707d30",
   "metadata": {},
   "outputs": [
    {
     "data": {
      "text/plain": [
       "True"
      ]
     },
     "execution_count": 47,
     "metadata": {},
     "output_type": "execute_result"
    }
   ],
   "source": [
    "is_prime_number(3)"
   ]
  },
  {
   "cell_type": "code",
   "execution_count": 48,
   "id": "456368b5",
   "metadata": {},
   "outputs": [
    {
     "name": "stdout",
     "output_type": "stream",
     "text": [
      "120\n"
     ]
    }
   ],
   "source": [
    "def f1(a):\n",
    "    if a==0:\n",
    "        return 1\n",
    "    return a*f1(a-1)\n",
    "\n",
    "f2=lambda a,b:abs(2*a-3*b)\n",
    "print(f1(f2(2,3)))\n"
   ]
  },
  {
   "cell_type": "code",
   "execution_count": 53,
   "id": "538ea8a8",
   "metadata": {},
   "outputs": [
    {
     "data": {
      "text/plain": [
       "-6"
      ]
     },
     "execution_count": 53,
     "metadata": {},
     "output_type": "execute_result"
    }
   ],
   "source": [
    "import math\n",
    "math.floor(-5.1)"
   ]
  },
  {
   "cell_type": "code",
   "execution_count": 54,
   "id": "692bcf73",
   "metadata": {},
   "outputs": [],
   "source": [
    "x=['1','2','15','-7','300']\n",
    "y=sorted(x)"
   ]
  },
  {
   "cell_type": "code",
   "execution_count": 55,
   "id": "f0b4669f",
   "metadata": {},
   "outputs": [
    {
     "data": {
      "text/plain": [
       "['-7', '1', '15', '2', '300']"
      ]
     },
     "execution_count": 55,
     "metadata": {},
     "output_type": "execute_result"
    }
   ],
   "source": [
    "y"
   ]
  },
  {
   "cell_type": "code",
   "execution_count": 56,
   "id": "5ed19f4c",
   "metadata": {},
   "outputs": [],
   "source": [
    "def d1(items):\n",
    "    i=0\n",
    "    while  i<len(items):\n",
    "        if len(items[i])==0:\n",
    "            del items[i]\n",
    "        i+=1\n",
    "names=['Rachel','','Meghana','','Tim'];\n",
    "d1(names)"
   ]
  },
  {
   "cell_type": "code",
   "execution_count": 58,
   "id": "d3e12e01",
   "metadata": {},
   "outputs": [],
   "source": [
    "d1(['asasa','asas'])"
   ]
  },
  {
   "cell_type": "code",
   "execution_count": 60,
   "id": "c6b4453f",
   "metadata": {},
   "outputs": [],
   "source": [
    "def has_pos_neg(nums):\n",
    "    hp=False\n",
    "    hn=False\n",
    "    for num in nums:\n",
    "        hp=num>0\n",
    "        hn=num<0\n",
    "    return (hp,hn)"
   ]
  },
  {
   "cell_type": "code",
   "execution_count": 65,
   "id": "31cb5e0a",
   "metadata": {},
   "outputs": [
    {
     "data": {
      "text/plain": [
       "(False, False)"
      ]
     },
     "execution_count": 65,
     "metadata": {},
     "output_type": "execute_result"
    }
   ],
   "source": [
    "has_pos_neg([])"
   ]
  },
  {
   "cell_type": "code",
   "execution_count": 33,
   "id": "397b817e",
   "metadata": {},
   "outputs": [
    {
     "ename": "SyntaxError",
     "evalue": "unexpected character after line continuation character (<ipython-input-33-5227d83a0b06>, line 5)",
     "output_type": "error",
     "traceback": [
      "\u001b[1;36m  File \u001b[1;32m\"<ipython-input-33-5227d83a0b06>\"\u001b[1;36m, line \u001b[1;32m5\u001b[0m\n\u001b[1;33m    B=a\\b\u001b[0m\n\u001b[1;37m         ^\u001b[0m\n\u001b[1;31mSyntaxError\u001b[0m\u001b[1;31m:\u001b[0m unexpected character after line continuation character\n"
     ]
    }
   ],
   "source": [
    "def some():\n",
    "    try:\n",
    "        a=int(input())\n",
    "        b=int(input())\n",
    "        B=a\\b\n",
    "        return B\n",
    "    except Exception as e:\n",
    "        print(e)\n",
    "    else:\n",
    "        print('Code worked successfully!')\n",
    "    finally:\n",
    "        print('From final block!')"
   ]
  },
  {
   "cell_type": "code",
   "execution_count": 32,
   "id": "0aa7c07d",
   "metadata": {},
   "outputs": [
    {
     "name": "stdout",
     "output_type": "stream",
     "text": [
      "1\n",
      "2\n",
      "From final block!\n"
     ]
    },
    {
     "data": {
      "text/plain": [
       "3"
      ]
     },
     "execution_count": 32,
     "metadata": {},
     "output_type": "execute_result"
    }
   ],
   "source": [
    "some()"
   ]
  },
  {
   "cell_type": "code",
   "execution_count": 20,
   "id": "b23a53c6",
   "metadata": {},
   "outputs": [
    {
     "ename": "TypeError",
     "evalue": "unsupported operand type(s) for |: 'int' and 'str'",
     "output_type": "error",
     "traceback": [
      "\u001b[1;31m---------------------------------------------------------------------------\u001b[0m",
      "\u001b[1;31mTypeError\u001b[0m                                 Traceback (most recent call last)",
      "\u001b[1;32m<ipython-input-20-0b259f2106aa>\u001b[0m in \u001b[0;36m<module>\u001b[1;34m\u001b[0m\n\u001b[0;32m      1\u001b[0m \u001b[0ma\u001b[0m\u001b[1;33m,\u001b[0m\u001b[0mb\u001b[0m\u001b[1;33m=\u001b[0m\u001b[1;36m1\u001b[0m\u001b[1;33m,\u001b[0m\u001b[1;34m'A'\u001b[0m\u001b[1;33m\u001b[0m\u001b[1;33m\u001b[0m\u001b[0m\n\u001b[1;32m----> 2\u001b[1;33m \u001b[0ma\u001b[0m\u001b[1;33m|\u001b[0m\u001b[0mb\u001b[0m\u001b[1;33m\u001b[0m\u001b[1;33m\u001b[0m\u001b[0m\n\u001b[0m",
      "\u001b[1;31mTypeError\u001b[0m: unsupported operand type(s) for |: 'int' and 'str'"
     ]
    }
   ],
   "source": [
    "a,b=1,'A'\n",
    "a|b"
   ]
  },
  {
   "cell_type": "code",
   "execution_count": 38,
   "id": "8fb107ad",
   "metadata": {},
   "outputs": [],
   "source": [
    "def some2():\n",
    "    \n",
    "    try:\n",
    "        f=open(\"test5.txt\",\"r\")\n",
    "       \n",
    "     \n",
    "    except Exception as e:\n",
    "        print(e)\n",
    "    else:\n",
    "        f.read()\n",
    "        print('Code worked successfully!')\n",
    "    finally:\n",
    "        print('From final block!')"
   ]
  },
  {
   "cell_type": "code",
   "execution_count": 39,
   "id": "c667bc57",
   "metadata": {},
   "outputs": [
    {
     "name": "stdout",
     "output_type": "stream",
     "text": [
      "Code worked successfully!\n",
      "From final block!\n"
     ]
    }
   ],
   "source": [
    "some2()"
   ]
  },
  {
   "cell_type": "code",
   "execution_count": 58,
   "id": "cafe3311",
   "metadata": {},
   "outputs": [],
   "source": [
    "def some3():\n",
    "    '''\n",
    "    Dictionary operation function.\n",
    "    \n",
    "    '''\n",
    "    \n",
    "    try:\n",
    "        d={\"key1\":[1,2,3,4],\"key2\":(1),\"key3\":\"qwerty\"}\n",
    "        d[\"key4\"]=int(input())\n",
    "        return d\n",
    "    except Exception as e:\n",
    "        print(f\"Code's failed! The cause's:\",e)\n",
    "    else:\n",
    "        print(\"Code's Worked!\")\n",
    "    finally:\n",
    "        print(\"From finally\")"
   ]
  },
  {
   "cell_type": "code",
   "execution_count": 59,
   "id": "14b90bff",
   "metadata": {},
   "outputs": [
    {
     "name": "stdout",
     "output_type": "stream",
     "text": [
      "'akslkiqsjk'\n",
      "Code's failed! The cause's: invalid literal for int() with base 10: \"'akslkiqsjk'\"\n",
      "From finally\n"
     ]
    }
   ],
   "source": [
    "some3()"
   ]
  },
  {
   "cell_type": "code",
   "execution_count": 1,
   "id": "96a5bb76",
   "metadata": {},
   "outputs": [],
   "source": [
    "f=open(\"test5.txt\")"
   ]
  },
  {
   "cell_type": "code",
   "execution_count": 2,
   "id": "985728dd",
   "metadata": {},
   "outputs": [
    {
     "data": {
      "text/plain": [
       "\"As of 2015, Khan is co-chairman of the motion picture production company Red Chillies Entertainment and its subsidiaries, and is the co-owner of the Indian Premier League cricket team Kolkata Knight Riders and the Caribbean Premier League team Trinbago Knight Riders. He is a frequent television presenter and stage show performer. The media often label him as Brand SRK because of his many endorsement and entrepreneurship ventures. Khan's philanthropic endeavours have provided health care and disaster relief, and he was honoured with UNESCO's Pyramide con Marni award in 2011 for his support of children's education and the World Economic Forum's Crystal Award in 2018 for advocating for women's and children's rights in India. He regularly features in listings of the most influential people in Indian culture, and in 2008, Newsweek named him one of their fifty most powerful people in the world.\\n Khan began his career with appearances in several television series in the late 1980s. He made his Bollywood debut in 1992 with Deewana. Early in his career, Khan was recognised for portraying villainous roles in the films Baazigar (1993) and Darr (1993). He established himself by starring in a series of romantic films, including Dilwale Dulhania Le Jayenge (1995), Dil To Pagal Hai (1997), Kuch Kuch Hota Hai (1998), Mohabbatein (2000) and Kabhi Khushi Kabhie Gham... (2001). Khan earned critical acclaim for his portrayal of an alcoholic in Devdas (2002), a NASA scientist in Swades (2004), a hockey coach in Chak De! India (2007) and a man with Asperger syndrome in My Name Is Khan (2010). His highest-grossing films include the comedies Chennai Express (2013), Happy New Year (2014) and Dilwale (2015), and the crime film Raees (2017). Many of his films thematise Indian national identity and connections with diaspora communities, or gender, racial, social and religious differences and grievances.asasasasasasasaasasasasasaasasasasasasasaasasasasasa\""
      ]
     },
     "execution_count": 2,
     "metadata": {},
     "output_type": "execute_result"
    }
   ],
   "source": [
    "f.read()"
   ]
  },
  {
   "cell_type": "code",
   "execution_count": 7,
   "id": "5ac481bb",
   "metadata": {},
   "outputs": [],
   "source": [
    "def some2():\n",
    "    \n",
    "    try:\n",
    "        \n",
    "        f=open(\"test9.txt\",\"r\")\n",
    "        f.read()\n",
    "       \n",
    "     \n",
    "    except Exception as e:\n",
    "        print(e)\n",
    "    else:\n",
    "        f.close()\n",
    "        print('Code worked successfully!')\n",
    "    finally:\n",
    "        print('From final block!')"
   ]
  },
  {
   "cell_type": "code",
   "execution_count": 8,
   "id": "a737e94b",
   "metadata": {},
   "outputs": [
    {
     "name": "stdout",
     "output_type": "stream",
     "text": [
      "[Errno 2] No such file or directory: 'test9.txt'\n",
      "From final block!\n"
     ]
    }
   ],
   "source": [
    "some2()"
   ]
  },
  {
   "cell_type": "code",
   "execution_count": 27,
   "id": "8c20deec",
   "metadata": {},
   "outputs": [],
   "source": [
    "def asas():\n",
    "    '''\n",
    "    Random shit\n",
    "    \n",
    "    '''\n",
    "    try:\n",
    "        a=int(input())\n",
    "        \n",
    "    except Exception as him:\n",
    "        print(him)\n",
    "        \n",
    "    else:\n",
    "        print('If this is in the console ,then no problem with the code.')\n",
    "        \n",
    "    finally:\n",
    "        print(\"From final.\")\n",
    "    for i in range(10):\n",
    "        print('Himanshu')\n",
    "        \n",
    "\n",
    "\n",
    "        "
   ]
  },
  {
   "cell_type": "code",
   "execution_count": 28,
   "id": "c7b167df",
   "metadata": {},
   "outputs": [
    {
     "name": "stdout",
     "output_type": "stream",
     "text": [
      "sasaa\n",
      "invalid literal for int() with base 10: 'sasaa'\n",
      "From final.\n",
      "Himanshu\n",
      "Himanshu\n",
      "Himanshu\n",
      "Himanshu\n",
      "Himanshu\n",
      "Himanshu\n",
      "Himanshu\n",
      "Himanshu\n",
      "Himanshu\n",
      "Himanshu\n"
     ]
    }
   ],
   "source": [
    "asas()"
   ]
  },
  {
   "cell_type": "code",
   "execution_count": 13,
   "id": "99b98d13",
   "metadata": {},
   "outputs": [],
   "source": [
    "def func():\n",
    "\n",
    "\n",
    "    \n",
    "    requirement=True\n",
    "    \n",
    "    while requirement:\n",
    "        try:\n",
    "            \n",
    "            a=int(input(\"Please enter an integer: \"))\n",
    "        \n",
    "            if type(a)==int:\n",
    "                print(\"You entered an int!\")\n",
    "                requirement=False\n",
    "        \n",
    "        except Exception as e:\n",
    "            print(\"Please enter an int!\")\n",
    "\n",
    "        \n",
    "    \n",
    "    "
   ]
  },
  {
   "cell_type": "code",
   "execution_count": 14,
   "id": "c9c381ca",
   "metadata": {},
   "outputs": [
    {
     "name": "stdout",
     "output_type": "stream",
     "text": [
      "Please enter an integer: qqqqqqqqqqqqqqqq1\n",
      "Please enter an int!\n",
      "Please enter an integer: ww\n",
      "Please enter an int!\n",
      "Please enter an integer: 112222222\n",
      "You entered an int!\n"
     ]
    }
   ],
   "source": [
    "func()"
   ]
  },
  {
   "cell_type": "code",
   "execution_count": 22,
   "id": "8f2111fb",
   "metadata": {},
   "outputs": [],
   "source": [
    "class error(Exception):\n",
    "    def __init__(self,msg):\n",
    "        self.msg=msg"
   ]
  },
  {
   "cell_type": "code",
   "execution_count": 41,
   "id": "e1ce1f28",
   "metadata": {},
   "outputs": [],
   "source": [
    "def func():\n",
    "    try:\n",
    "        a=int(input(\"Enter integer: \"))\n",
    "        \n",
    "        if a==0:\n",
    "            \n",
    "            raise error(\"Not 1 error!\")\n",
    "    \n",
    "    except error as e:\n",
    "        print(e)\n",
    "    \n",
    "    except Exception as e:\n",
    "        print(e)\n",
    "        \n",
    "        \n",
    "    \n"
   ]
  },
  {
   "cell_type": "code",
   "execution_count": 42,
   "id": "c41965c5",
   "metadata": {},
   "outputs": [
    {
     "name": "stdout",
     "output_type": "stream",
     "text": [
      "Enter integer: 0\n",
      "Not 1 error!\n"
     ]
    }
   ],
   "source": [
    "func()"
   ]
  },
  {
   "cell_type": "code",
   "execution_count": 45,
   "id": "d58bf072",
   "metadata": {},
   "outputs": [
    {
     "name": "stdout",
     "output_type": "stream",
     "text": [
      "Enter first num: 1\n",
      "Enter second num: 2\n",
      "0.5\n",
      "From Finally!\n"
     ]
    }
   ],
   "source": [
    "class div_by_5(Exception):\n",
    "    def __init__(self,msg):\n",
    "        self.msg=msg\n",
    "\n",
    "try:\n",
    "    a=int(input(\"Enter first num: \"))\n",
    "    b=int(input(\"Enter second num: \"))\n",
    "    if b==5:\n",
    "        raise div_by_5(\"Division by 5 error\")\n",
    "\n",
    "except ValueError as msg:\n",
    "    print(msg)\n",
    "except ZeroDivisionError as msg:\n",
    "    print(msg)\n",
    "except div_by_5 as msg:\n",
    "    print(msg)\n",
    "\n",
    "else:\n",
    "    try:\n",
    "        result=a/b\n",
    "        print(result)\n",
    "    except Exception as e:\n",
    "        print(e)\n",
    "        \n",
    "finally:\n",
    "    print(\"From Finally!\")"
   ]
  },
  {
   "cell_type": "code",
   "execution_count": 60,
   "id": "2ce4c47b",
   "metadata": {},
   "outputs": [],
   "source": [
    "class name_error(Exception):\n",
    "\n",
    "    def __init__(self,msg):\n",
    "        self.msg=msg\n",
    "        "
   ]
  },
  {
   "cell_type": "code",
   "execution_count": 61,
   "id": "a86fbfa3",
   "metadata": {},
   "outputs": [],
   "source": [
    "def names():\n",
    "    \n",
    "    try:\n",
    "        \n",
    "        name=input()\n",
    "    \n",
    "        if name==\"Vaishnavi Jadhav\":\n",
    "            \n",
    "            raise name_error(\"Can't input this name this name hass been fucking discarded,fucking disgraceful!\")\n",
    "            \n",
    "    except name_error as e:\n",
    "        print(e)\n",
    "    \n",
    "    except Exception as e:\n",
    "        print(e)"
   ]
  },
  {
   "cell_type": "code",
   "execution_count": 63,
   "id": "db261b39",
   "metadata": {},
   "outputs": [
    {
     "name": "stdout",
     "output_type": "stream",
     "text": [
      "Vaishnavi Jadhav\n",
      "Can't input this name this name hass been fucking discarded,fucking disgraceful!\n"
     ]
    }
   ],
   "source": [
    "names()"
   ]
  },
  {
   "cell_type": "code",
   "execution_count": null,
   "id": "a081b8eb",
   "metadata": {},
   "outputs": [],
   "source": []
  }
 ],
 "metadata": {
  "kernelspec": {
   "display_name": "Python 3",
   "language": "python",
   "name": "python3"
  },
  "language_info": {
   "codemirror_mode": {
    "name": "ipython",
    "version": 3
   },
   "file_extension": ".py",
   "mimetype": "text/x-python",
   "name": "python",
   "nbconvert_exporter": "python",
   "pygments_lexer": "ipython3",
   "version": "3.8.8"
  }
 },
 "nbformat": 4,
 "nbformat_minor": 5
}
