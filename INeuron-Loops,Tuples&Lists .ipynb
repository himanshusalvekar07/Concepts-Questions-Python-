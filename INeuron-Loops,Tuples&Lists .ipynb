{
 "cells": [
  {
   "cell_type": "code",
   "execution_count": 2,
   "id": "0af952dd",
   "metadata": {},
   "outputs": [
    {
     "name": "stdout",
     "output_type": "stream",
     "text": [
      "I can't get off, my station's stat4 and right now the train's at stat1\n",
      "Next station is:stat2\n",
      "I can't get off, my station's stat4 and right now the train's at stat2\n",
      "Next station is:stat3\n",
      "I can't get off, my station's stat4 and right now the train's at stat3\n",
      "Next station is:stat4\n",
      "Now I have arrived at my:stat4\n"
     ]
    }
   ],
   "source": [
    "stations=['stat1','stat2','stat3','stat4']\n",
    "curr_stat=0\n",
    "dest_stat=stations[3]\n",
    "while stations[curr_stat]!=dest_stat:\n",
    "    print(f\"I can't get off, my station's {dest_stat} and right now the train's at {stations[curr_stat]}\")\n",
    "    curr_stat=curr_stat+1\n",
    "    print(f\"Next station is:{stations[curr_stat]}\")\n",
    "else:\n",
    "    print(f\"Now I have arrived at my:{stations[curr_stat]}\")\n"
   ]
  },
  {
   "cell_type": "code",
   "execution_count": 3,
   "id": "fdf87724",
   "metadata": {},
   "outputs": [
    {
     "data": {
      "text/plain": [
       "[0, 1, 2, 3, 4, 5, 6, 7, 8, 9]"
      ]
     },
     "execution_count": 3,
     "metadata": {},
     "output_type": "execute_result"
    }
   ],
   "source": [
    "list(range(0,10))"
   ]
  },
  {
   "cell_type": "code",
   "execution_count": 6,
   "id": "36d284c5",
   "metadata": {},
   "outputs": [],
   "source": [
    "b=range(0,10)"
   ]
  },
  {
   "cell_type": "code",
   "execution_count": 8,
   "id": "5eae9015",
   "metadata": {},
   "outputs": [
    {
     "data": {
      "text/plain": [
       "range(0, 10)"
      ]
     },
     "execution_count": 8,
     "metadata": {},
     "output_type": "execute_result"
    }
   ],
   "source": [
    "b"
   ]
  },
  {
   "cell_type": "code",
   "execution_count": 11,
   "id": "f8114e3d",
   "metadata": {},
   "outputs": [
    {
     "name": "stdout",
     "output_type": "stream",
     "text": [
      "10*1=10\n",
      "10*2=20\n",
      "10*3=30\n",
      "10*4=40\n",
      "10*5=50\n",
      "10*6=60\n",
      "10*7=70\n",
      "10*8=80\n",
      "10*9=90\n",
      "10*10=100\n"
     ]
    }
   ],
   "source": [
    "for i in range(1,11):\n",
    "    print(f\"10*{i}={i*10}\")"
   ]
  },
  {
   "cell_type": "code",
   "execution_count": 3,
   "id": "a001c869",
   "metadata": {},
   "outputs": [
    {
     "name": "stdout",
     "output_type": "stream",
     "text": [
      "455\n",
      "1110\n",
      "1820\n",
      "2053\n",
      "The last item is exceeding my budget,so I can't buy it.\n",
      "Total sum to be paid now is:1820\n"
     ]
    }
   ],
   "source": [
    "cost_of_items=[455,655,710,233]\n",
    "total_sum=0\n",
    "budget=2000\n",
    "for i in range(0,4):\n",
    "    total_sum=total_sum+cost_of_items[i]\n",
    "    print(total_sum)\n",
    "    if total_sum>budget:\n",
    "        print(\"The last item is exceeding my budget,so I can't buy it.\")\n",
    "        total_sum=total_sum-cost_of_items[i]\n",
    "        break\n",
    "\n",
    "print(f\"Total sum to be paid now is:{total_sum}\")        \n",
    "             "
   ]
  },
  {
   "cell_type": "code",
   "execution_count": 4,
   "id": "aceb0eb9",
   "metadata": {},
   "outputs": [
    {
     "name": "stdout",
     "output_type": "stream",
     "text": [
      "1\n",
      "2\n",
      "3\n",
      "4\n",
      "5\n",
      "6\n",
      "7\n",
      "8\n",
      "9\n",
      "10\n",
      "11\n",
      "12\n",
      "13\n",
      "14\n",
      "15\n",
      "16\n",
      "17\n",
      "18\n",
      "19\n",
      "20\n",
      "21\n",
      "22\n",
      "23\n",
      "24\n",
      "25\n",
      "26\n",
      "27\n",
      "28\n",
      "29\n",
      "30\n",
      "31\n",
      "32\n",
      "33\n",
      "34\n",
      "35\n",
      "36\n",
      "37\n",
      "38\n",
      "39\n",
      "40\n",
      "41\n",
      "42\n",
      "43\n",
      "44\n",
      "45\n",
      "46\n",
      "47\n",
      "48\n",
      "49\n",
      "50\n",
      "51\n"
     ]
    }
   ],
   "source": [
    "for i in range(1,100):\n",
    "    print(i)\n",
    "    if i>50:\n",
    "        break"
   ]
  },
  {
   "cell_type": "code",
   "execution_count": 5,
   "id": "d547ea24",
   "metadata": {},
   "outputs": [
    {
     "name": "stdout",
     "output_type": "stream",
     "text": [
      "0\n",
      "1\n",
      "2\n",
      "3\n",
      "4\n",
      "5\n"
     ]
    }
   ],
   "source": [
    "for i in range(0,10):\n",
    "    if i>5:\n",
    "        break\n",
    "    print(i)"
   ]
  },
  {
   "cell_type": "code",
   "execution_count": 7,
   "id": "f6f74184",
   "metadata": {},
   "outputs": [
    {
     "name": "stdout",
     "output_type": "stream",
     "text": [
      "stat1\n",
      "stat2\n"
     ]
    }
   ],
   "source": [
    "stations=['stat1','stat2','stat3','stat4']\n",
    "for station in stations:\n",
    "    if station=='stat3':\n",
    "        break\n",
    "    print(station)"
   ]
  },
  {
   "cell_type": "code",
   "execution_count": null,
   "id": "5e88913d",
   "metadata": {},
   "outputs": [],
   "source": []
  }
 ],
 "metadata": {
  "kernelspec": {
   "display_name": "Python 3 (ipykernel)",
   "language": "python",
   "name": "python3"
  },
  "language_info": {
   "codemirror_mode": {
    "name": "ipython",
    "version": 3
   },
   "file_extension": ".py",
   "mimetype": "text/x-python",
   "name": "python",
   "nbconvert_exporter": "python",
   "pygments_lexer": "ipython3",
   "version": "3.9.12"
  }
 },
 "nbformat": 4,
 "nbformat_minor": 5
}
