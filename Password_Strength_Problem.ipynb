{
 "cells": [
  {
   "cell_type": "markdown",
   "id": "54005a49",
   "metadata": {},
   "source": [
    "Q.]-\n",
    "In a portal login website, you are asked to write a function get_password_strength to decide \n",
    "the strength of a password. The strength is decided based on the total score of the password, Use \n",
    "following conditions:\n",
    "1) If password has length greater than 7 then score increases by one point.\n",
    "2) If password has at least one upper case and one lower case alphabets score increases by one point.\n",
    "3) If password has at least one number and no consecutive numbers like 12 or 234 then score \n",
    "increases by one point.\n",
    "4) If password has at least one special character (any character other than numbers and alphabets) then \n",
    "score increases by one point.\n",
    "5) If password contains username, then it is invalid password.\n",
    "If the password has score of four points, three points, two points, or one point then print Very \n",
    "Strong, Strong, Moderate, or Weak respectively. If the password is invalid, then \n",
    "print PASSWORD SHOULD NOT CONTAIN USERNAME and If the score is zero, then print Use a \n",
    "different password.The arguments to the function are username and password which are \n",
    "already defined"
   ]
  },
  {
   "cell_type": "code",
   "execution_count": 1,
   "id": "ba7f1497",
   "metadata": {},
   "outputs": [],
   "source": [
    "def get_password_strength(p,u):\n",
    "    \n",
    "    stg=0\n",
    "    l1=[]\n",
    "    l2=[]\n",
    "    l3=[]\n",
    "    l4=[]\n",
    "    valid=False\n",
    "    consecutive_nums=False\n",
    "    splc=['!',\"@\",'#','%','$','&','*']\n",
    "    \n",
    "    if len(p)>7:\n",
    "        stg=stg+1\n",
    "        \n",
    "    for i in p:\n",
    "        if i.isupper():\n",
    "            l1.append(i)\n",
    "    for i in p:\n",
    "        if i.islower():\n",
    "            l2.append(i)\n",
    "            \n",
    "    if len(l1)>0:\n",
    "        stg=stg+1\n",
    "    if len(l2)>0:\n",
    "        stg=stg+1\n",
    "        \n",
    "    for i in p:\n",
    "        if i.isdigit():\n",
    "            l3.append(i)\n",
    "    if len(l3)>0:\n",
    "        stg=stg+1\n",
    "    \n",
    "    for i in range(len(p)-1):\n",
    "        if  p[i:i+2].isdigit():\n",
    "            consecutive_nums=True\n",
    "            break\n",
    "    \n",
    "    if consecutive_nums:\n",
    "        stg=stg-1\n",
    "        \n",
    "    \n",
    "   \n",
    "    for i in range(len(p)):\n",
    "        if p[i] in splc:\n",
    "            l4.append(p[i])\n",
    "        else:\n",
    "            continue\n",
    "    if len(l4)>0:\n",
    "        stg=stg+1\n",
    "    \n",
    "            \n",
    "    if u in p:\n",
    "        valid=False\n",
    "    else:\n",
    "        valid=True\n",
    "        \n",
    "    if valid:\n",
    "        print(stg)\n",
    "    else:\n",
    "        print('Password should not contain username!')\n",
    "    \n",
    "    if valid:\n",
    "        if stg>=4:\n",
    "            print('Your password is very strong!')\n",
    "        elif stg==3:\n",
    "            print('Password is strong!')\n",
    "        elif stg==2:\n",
    "            print('Password is moderate!')\n",
    "        elif stg==1:\n",
    "            print('Weak!')\n",
    "        else:\n",
    "            print('Use a different password!')\n",
    "            \n",
    " \n",
    "        "
   ]
  },
  {
   "cell_type": "code",
   "execution_count": 6,
   "id": "b09b1b79",
   "metadata": {},
   "outputs": [
    {
     "name": "stdout",
     "output_type": "stream",
     "text": [
      "5\n",
      "Your password is very strong!\n"
     ]
    }
   ],
   "source": [
    "get_password_strength(\"Himans1@hu\",'hima')"
   ]
  },
  {
   "cell_type": "code",
   "execution_count": 1,
   "id": "c41ddd47",
   "metadata": {},
   "outputs": [
    {
     "name": "stdout",
     "output_type": "stream",
     "text": [
      "0\n",
      "1\n",
      "2\n",
      "3\n",
      "4\n",
      "5\n",
      "6\n",
      "7\n",
      "8\n",
      "9\n"
     ]
    }
   ],
   "source": [
    "for i in range(10):\n",
    "    print(i)"
   ]
  },
  {
   "cell_type": "code",
   "execution_count": 18,
   "id": "9a609781",
   "metadata": {},
   "outputs": [
    {
     "name": "stdout",
     "output_type": "stream",
     "text": [
      "11\n",
      "11's not a prime.'\n"
     ]
    }
   ],
   "source": [
    "n=int(input())\n",
    "prime=False\n",
    "if n==1:\n",
    "    print(\"1's not a prime\")\n",
    "\n",
    "for i in range(2,n):\n",
    "    if n%i==0:\n",
    "        prime=False\n",
    "            \n",
    "if prime:\n",
    "    print(f\"{n}'s a prime.\")\n",
    "else:\n",
    "    print(f\"{n}'s not a prime.'\")"
   ]
  },
  {
   "cell_type": "code",
   "execution_count": null,
   "id": "f19d3df2",
   "metadata": {},
   "outputs": [],
   "source": []
  }
 ],
 "metadata": {
  "kernelspec": {
   "display_name": "Python 3",
   "language": "python",
   "name": "python3"
  },
  "language_info": {
   "codemirror_mode": {
    "name": "ipython",
    "version": 3
   },
   "file_extension": ".py",
   "mimetype": "text/x-python",
   "name": "python",
   "nbconvert_exporter": "python",
   "pygments_lexer": "ipython3",
   "version": "3.8.8"
  }
 },
 "nbformat": 4,
 "nbformat_minor": 5
}
