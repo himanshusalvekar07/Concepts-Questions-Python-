{
 "cells": [
  {
   "cell_type": "markdown",
   "id": "3f656a37",
   "metadata": {},
   "source": [
    "## Classes Introduction"
   ]
  },
  {
   "cell_type": "code",
   "execution_count": 3,
   "id": "402b2680",
   "metadata": {},
   "outputs": [],
   "source": [
    "class car:`\n",
    "    pass\n",
    "    "
   ]
  },
  {
   "cell_type": "markdown",
   "id": "a8ae3166",
   "metadata": {},
   "source": [
    "Attributes and Methods-Intro"
   ]
  },
  {
   "cell_type": "code",
   "execution_count": 1,
   "id": "e45cce76",
   "metadata": {},
   "outputs": [],
   "source": [
    "class car:\n",
    "    \n",
    "    def __init__(self,brandname,f_type,body):\n",
    "        self.brandname=brandname\n",
    "        self.f_type=f_type\n",
    "        self.body=body\n",
    "    \n",
    "    def desc_car(self):\n",
    "        print(self.brandname,self.f_type,self.body)\n",
    "    "
   ]
  },
  {
   "cell_type": "code",
   "execution_count": 2,
   "id": "da334524",
   "metadata": {},
   "outputs": [],
   "source": [
    "maybach=car('Mercedes','Petrol','Sedan')"
   ]
  },
  {
   "cell_type": "code",
   "execution_count": 3,
   "id": "94a0efcc",
   "metadata": {},
   "outputs": [
    {
     "name": "stdout",
     "output_type": "stream",
     "text": [
      "Mercedes Petrol Sedan\n"
     ]
    }
   ],
   "source": [
    "maybach.desc_car()"
   ]
  },
  {
   "cell_type": "code",
   "execution_count": 4,
   "id": "fd7037e4",
   "metadata": {},
   "outputs": [
    {
     "data": {
      "text/plain": [
       "__main__.car"
      ]
     },
     "execution_count": 4,
     "metadata": {},
     "output_type": "execute_result"
    }
   ],
   "source": [
    "type(maybach)"
   ]
  },
  {
   "cell_type": "code",
   "execution_count": 5,
   "id": "5d6cac05",
   "metadata": {},
   "outputs": [],
   "source": [
    "Octavia=car('Skoda','Diesel','Sedan')"
   ]
  },
  {
   "cell_type": "code",
   "execution_count": 6,
   "id": "aeabfa9b",
   "metadata": {},
   "outputs": [
    {
     "data": {
      "text/plain": [
       "'Skoda'"
      ]
     },
     "execution_count": 6,
     "metadata": {},
     "output_type": "execute_result"
    }
   ],
   "source": [
    "Octavia.brandname"
   ]
  },
  {
   "cell_type": "code",
   "execution_count": 7,
   "id": "aac93fa4",
   "metadata": {},
   "outputs": [
    {
     "data": {
      "text/plain": [
       "'Diesel'"
      ]
     },
     "execution_count": 7,
     "metadata": {},
     "output_type": "execute_result"
    }
   ],
   "source": [
    "Octavia.f_type"
   ]
  },
  {
   "cell_type": "code",
   "execution_count": 10,
   "id": "e9e5687e",
   "metadata": {},
   "outputs": [
    {
     "data": {
      "text/plain": [
       "'Sedan'"
      ]
     },
     "execution_count": 10,
     "metadata": {},
     "output_type": "execute_result"
    }
   ],
   "source": [
    "Octavia.body"
   ]
  },
  {
   "cell_type": "code",
   "execution_count": 12,
   "id": "1c9b74cd",
   "metadata": {},
   "outputs": [
    {
     "name": "stdout",
     "output_type": "stream",
     "text": [
      "Skoda Diesel Sedan\n"
     ]
    }
   ],
   "source": [
    "Octavia.desc_car()"
   ]
  },
  {
   "cell_type": "markdown",
   "id": "d576c3b3",
   "metadata": {},
   "source": [
    "Create a class that takes in a list and parses,reverses and returns the alternate elements(without constructor),create 3 different methods."
   ]
  },
  {
   "cell_type": "code",
   "execution_count": 1,
   "id": "c146ad74",
   "metadata": {},
   "outputs": [],
   "source": [
    "class list_ops:\n",
    "    def list_parse(self,l):\n",
    "        if type(l)==list:\n",
    "            for i in l:\n",
    "                print(i)\n",
    "    \n",
    "    def list_reverser(self,l):\n",
    "        return l[::-1]\n",
    "    \n",
    "    def list_alt(self,l):\n",
    "        i=0\n",
    "        l1=[]\n",
    "        while i<len(l):\n",
    "            if i%2==0:\n",
    "                l1.append(l[i])\n",
    "            else:\n",
    "                continue\n",
    "            i+=1\n",
    "        return l1"
   ]
  },
  {
   "cell_type": "code",
   "execution_count": 2,
   "id": "c4e6a7ae",
   "metadata": {},
   "outputs": [],
   "source": [
    "x=list_ops()"
   ]
  },
  {
   "cell_type": "code",
   "execution_count": null,
   "id": "7ea17668",
   "metadata": {},
   "outputs": [],
   "source": [
    "x.list_alt([1,2,3,4,5,6])"
   ]
  },
  {
   "cell_type": "code",
   "execution_count": null,
   "id": "969899dc",
   "metadata": {},
   "outputs": [],
   "source": [
    "class list_ops:\n",
    "    def list_parse(self,l):\n",
    "        if type(l)==list:\n",
    "            for i in l:\n",
    "                print(i)\n",
    "    \n",
    "    def list_reverser(self,l):\n",
    "        return l[::-1]\n",
    "    \n",
    "    def list_alt(self,l):\n",
    "        i=0\n",
    "        l1=[]\n",
    "        while i<len(l):\n",
    "            if i%2==0:\n",
    "                l1.append(l[i])\n",
    "            else:\n",
    "                continue\n",
    "            i+=1"
   ]
  },
  {
   "cell_type": "code",
   "execution_count": 1,
   "id": "fed648ad",
   "metadata": {},
   "outputs": [],
   "source": [
    "class list_ops:\n",
    "    def list_parse(self,l):\n",
    "        if type(l)==list:\n",
    "            for i in l:\n",
    "                print(i)\n",
    "    \n",
    "    def list_reverser(self,l):\n",
    "        return l[::-1]\n",
    "    \n",
    "    def list_alt(self,l):\n",
    "        i=0\n",
    "        l1=[]\n",
    "        while i<len(l):\n",
    "            if i%2==0:\n",
    "                l1.append(l[i])\n",
    "            else:\n",
    "                continue\n",
    "            i+=1\n",
    "        \n",
    "        return l1"
   ]
  },
  {
   "cell_type": "code",
   "execution_count": 2,
   "id": "b429de07",
   "metadata": {},
   "outputs": [],
   "source": [
    "x=list_ops()"
   ]
  },
  {
   "cell_type": "code",
   "execution_count": 3,
   "id": "1a6133ee",
   "metadata": {},
   "outputs": [
    {
     "data": {
      "text/plain": [
       "[4, 3, 2, 1]"
      ]
     },
     "execution_count": 3,
     "metadata": {},
     "output_type": "execute_result"
    }
   ],
   "source": [
    "x.list_reverser([1,2,3,4])"
   ]
  },
  {
   "cell_type": "markdown",
   "id": "1d9573c7",
   "metadata": {},
   "source": [
    "Create a class that takes in a list and parses,reverses and returns the alternate elements,create 3 different methods."
   ]
  },
  {
   "cell_type": "code",
   "execution_count": 11,
   "id": "9ff0e9e7",
   "metadata": {},
   "outputs": [],
   "source": [
    "class list_ops:\n",
    "    def __init__(self,l):\n",
    "        self.l=l\n",
    "    def list_parse(self):\n",
    "        if type(self.l)==list:\n",
    "            for i in self.l:\n",
    "                print(i)\n",
    "    \n",
    "    def list_reverser(self):\n",
    "        return self.l[::-1]\n",
    "    \n",
    "    def list_alt(self):\n",
    "        i=0\n",
    "        l1=[]\n",
    "        while i<len(self.l):\n",
    "            if i%2==0:\n",
    "                l1.append(self.l[i])\n",
    "            i+=1\n",
    "        \n",
    "        return l1"
   ]
  },
  {
   "cell_type": "code",
   "execution_count": 17,
   "id": "02bd7e60",
   "metadata": {},
   "outputs": [],
   "source": [
    "x=list_ops([1,2,3,4,5,6,7,8,9,10,11])"
   ]
  },
  {
   "cell_type": "code",
   "execution_count": 20,
   "id": "fb190564",
   "metadata": {},
   "outputs": [
    {
     "name": "stdout",
     "output_type": "stream",
     "text": [
      "1\n",
      "2\n",
      "3\n",
      "4\n",
      "5\n",
      "6\n",
      "7\n",
      "8\n",
      "9\n",
      "10\n",
      "11\n"
     ]
    }
   ],
   "source": [
    "x.list_parse()"
   ]
  },
  {
   "cell_type": "code",
   "execution_count": 19,
   "id": "9f3712bb",
   "metadata": {},
   "outputs": [
    {
     "data": {
      "text/plain": [
       "[1, 3, 5, 7, 9, 11]"
      ]
     },
     "execution_count": 19,
     "metadata": {},
     "output_type": "execute_result"
    }
   ],
   "source": [
    "x.list_alt()"
   ]
  },
  {
   "cell_type": "code",
   "execution_count": 18,
   "id": "740a6c75",
   "metadata": {},
   "outputs": [
    {
     "data": {
      "text/plain": [
       "[11, 10, 9, 8, 7, 6, 5, 4, 3, 2, 1]"
      ]
     },
     "execution_count": 18,
     "metadata": {},
     "output_type": "execute_result"
    }
   ],
   "source": [
    "x.list_reverser()"
   ]
  },
  {
   "cell_type": "code",
   "execution_count": 25,
   "id": "0edbd05e",
   "metadata": {},
   "outputs": [],
   "source": [
    "dict1={'Name':'Himanshu Salvekar','Phn Num':121212,'Roll':3}"
   ]
  },
  {
   "cell_type": "code",
   "execution_count": 27,
   "id": "96a47c8f",
   "metadata": {},
   "outputs": [
    {
     "data": {
      "text/plain": [
       "dict_keys(['Name', 'Phn Num', 'Roll'])"
      ]
     },
     "execution_count": 27,
     "metadata": {},
     "output_type": "execute_result"
    }
   ],
   "source": [
    "dict1.keys()"
   ]
  },
  {
   "cell_type": "markdown",
   "id": "533c9736",
   "metadata": {},
   "source": [
    "Create a class for dictionary parsing.\n",
    "\n",
    "1]Write a function to give all the keys.\n",
    "\n",
    "2]Write a function to give all the values.\n",
    "\n",
    "3]Write a function to throw an exception in case of input is not an Dictionary.\n",
    "\n",
    "4]Write a function to take user input and then parse a key and value out of dictionary.\n",
    "\n",
    "5]Write a function to insert new key value pair into dictionary."
   ]
  },
  {
   "cell_type": "code",
   "execution_count": 2,
   "id": "e38311ac",
   "metadata": {},
   "outputs": [],
   "source": [
    "class dict_ops:\n",
    "    \n",
    "    def __init__(self,d):\n",
    "        self.d=d\n",
    "        \n",
    "    def dict_check(self):\n",
    "        if type(self.d)!=dict:\n",
    "            raise Exception(\"Input's not dictionary\")\n",
    "    \n",
    "    def keys(self):\n",
    "        return self.d.keys()\n",
    "    \n",
    "    def values(self):\n",
    "        return self.d.values()\n",
    "    \n",
    "    def userinput(self):\n",
    "        self.d=eval(input())\n",
    "        print(self.d,type(self.d))\n",
    "        print(self.keys())\n",
    "        print(self.values())\n",
    "        \n",
    "    \n",
    "    def user_inp(self,x):\n",
    "        \n",
    "        self.d.update(x)\n",
    "        return self.d\n",
    "    \n",
    "    \n",
    "    \n",
    "    \n",
    "    \n",
    "        "
   ]
  },
  {
   "cell_type": "code",
   "execution_count": 16,
   "id": "d4d01b6c",
   "metadata": {},
   "outputs": [],
   "source": [
    "x=dict_ops({'Name':'Himanshu Salvekar','Phn Num':121212,'Roll':3})"
   ]
  },
  {
   "cell_type": "code",
   "execution_count": 148,
   "id": "fe3256b7",
   "metadata": {},
   "outputs": [
    {
     "data": {
      "text/plain": [
       "dict_keys(['Name', 'Phn Num', 'Roll'])"
      ]
     },
     "execution_count": 148,
     "metadata": {},
     "output_type": "execute_result"
    }
   ],
   "source": [
    "x.keys()"
   ]
  },
  {
   "cell_type": "code",
   "execution_count": 149,
   "id": "35aeb914",
   "metadata": {},
   "outputs": [
    {
     "data": {
      "text/plain": [
       "dict_values(['Himanshu Salvekar', 121212, 3])"
      ]
     },
     "execution_count": 149,
     "metadata": {},
     "output_type": "execute_result"
    }
   ],
   "source": [
    "x.values()"
   ]
  },
  {
   "cell_type": "code",
   "execution_count": 95,
   "id": "159b6e4d",
   "metadata": {},
   "outputs": [
    {
     "data": {
      "text/plain": [
       "{'Name': 'Himanshu Salvekar', 'Phn Num': 121212, 'Roll': 3, 'PRN': 308}"
      ]
     },
     "execution_count": 95,
     "metadata": {},
     "output_type": "execute_result"
    }
   ],
   "source": [
    "x.user_inp({'PRN':308})"
   ]
  },
  {
   "cell_type": "code",
   "execution_count": 88,
   "id": "a4a37fa6",
   "metadata": {},
   "outputs": [],
   "source": [
    "dict1={'Name':'Himanshu Salvekar','Phn Num':121212,'Roll':3}"
   ]
  },
  {
   "cell_type": "code",
   "execution_count": 89,
   "id": "ee931248",
   "metadata": {},
   "outputs": [],
   "source": [
    "dict1.update({'PRN':308})"
   ]
  },
  {
   "cell_type": "code",
   "execution_count": 90,
   "id": "7dbbeb15",
   "metadata": {},
   "outputs": [
    {
     "data": {
      "text/plain": [
       "{'Name': 'Himanshu Salvekar', 'Phn Num': 121212, 'Roll': 3, 'PRN': 308}"
      ]
     },
     "execution_count": 90,
     "metadata": {},
     "output_type": "execute_result"
    }
   ],
   "source": [
    "dict1"
   ]
  },
  {
   "cell_type": "code",
   "execution_count": 132,
   "id": "fc613117",
   "metadata": {},
   "outputs": [],
   "source": [
    "x2=dict_ops({'Name':'Sam'})"
   ]
  },
  {
   "cell_type": "code",
   "execution_count": 133,
   "id": "6181fba8",
   "metadata": {},
   "outputs": [
    {
     "data": {
      "text/plain": [
       "dict_values(['Sam'])"
      ]
     },
     "execution_count": 133,
     "metadata": {},
     "output_type": "execute_result"
    }
   ],
   "source": [
    "x2.values()"
   ]
  },
  {
   "cell_type": "code",
   "execution_count": 134,
   "id": "11ce7d61",
   "metadata": {},
   "outputs": [],
   "source": [
    "d2={\"Sports\":\"Football\"}"
   ]
  },
  {
   "cell_type": "code",
   "execution_count": 135,
   "id": "874b6a1b",
   "metadata": {},
   "outputs": [],
   "source": [
    "d2['Player']='Ronaldo'"
   ]
  },
  {
   "cell_type": "code",
   "execution_count": 156,
   "id": "6fc67f1b",
   "metadata": {},
   "outputs": [
    {
     "data": {
      "text/plain": [
       "'Football'"
      ]
     },
     "execution_count": 156,
     "metadata": {},
     "output_type": "execute_result"
    }
   ],
   "source": [
    "d2['Sports']"
   ]
  },
  {
   "cell_type": "code",
   "execution_count": 5,
   "id": "05a4630a",
   "metadata": {},
   "outputs": [
    {
     "name": "stdout",
     "output_type": "stream",
     "text": [
      "{'k1':'asas'}\n",
      "{'k1': 'asas'} <class 'dict'>\n",
      "dict_keys(['k1'])\n",
      "dict_values(['asas'])\n"
     ]
    }
   ],
   "source": [
    "x.userinput()"
   ]
  },
  {
   "cell_type": "code",
   "execution_count": 10,
   "id": "f758ef26",
   "metadata": {},
   "outputs": [
    {
     "name": "stdout",
     "output_type": "stream",
     "text": [
      "2\n"
     ]
    }
   ],
   "source": [
    "a=eval(input())+1"
   ]
  },
  {
   "cell_type": "code",
   "execution_count": 11,
   "id": "baff1544",
   "metadata": {},
   "outputs": [
    {
     "data": {
      "text/plain": [
       "4"
      ]
     },
     "execution_count": 11,
     "metadata": {},
     "output_type": "execute_result"
    }
   ],
   "source": [
    "a+1\n"
   ]
  },
  {
   "cell_type": "code",
   "execution_count": 12,
   "id": "851af3f1",
   "metadata": {},
   "outputs": [
    {
     "data": {
      "text/plain": [
       "6"
      ]
     },
     "execution_count": 12,
     "metadata": {},
     "output_type": "execute_result"
    }
   ],
   "source": [
    "a+3\n"
   ]
  },
  {
   "cell_type": "code",
   "execution_count": 17,
   "id": "47d69dcf",
   "metadata": {},
   "outputs": [
    {
     "data": {
      "text/plain": [
       "{'Name': 'Himanshu Salvekar', 'Phn Num': 121212, 'Roll': 3, 'City': 'Pune'}"
      ]
     },
     "execution_count": 17,
     "metadata": {},
     "output_type": "execute_result"
    }
   ],
   "source": [
    "x.user_inp({'City':'Pune'})"
   ]
  },
  {
   "cell_type": "code",
   "execution_count": 14,
   "id": "80e9b856",
   "metadata": {},
   "outputs": [
    {
     "data": {
      "text/plain": [
       "<__main__.dict_ops at 0x17e50b768e0>"
      ]
     },
     "execution_count": 14,
     "metadata": {},
     "output_type": "execute_result"
    }
   ],
   "source": [
    "x"
   ]
  },
  {
   "cell_type": "code",
   "execution_count": 18,
   "id": "9969e4d4",
   "metadata": {},
   "outputs": [
    {
     "data": {
      "text/plain": [
       "dict_keys(['Name', 'Phn Num', 'Roll', 'City'])"
      ]
     },
     "execution_count": 18,
     "metadata": {},
     "output_type": "execute_result"
    }
   ],
   "source": [
    "x.keys()"
   ]
  },
  {
   "cell_type": "code",
   "execution_count": 19,
   "id": "8eaa1b15",
   "metadata": {},
   "outputs": [
    {
     "data": {
      "text/plain": [
       "dict_values(['Himanshu Salvekar', 121212, 3, 'Pune'])"
      ]
     },
     "execution_count": 19,
     "metadata": {},
     "output_type": "execute_result"
    }
   ],
   "source": [
    "x.values()"
   ]
  },
  {
   "cell_type": "code",
   "execution_count": 20,
   "id": "08eecf50",
   "metadata": {},
   "outputs": [
    {
     "data": {
      "text/plain": [
       "['Himanshu Salvekar', 121212, 3, 'Pune']"
      ]
     },
     "execution_count": 20,
     "metadata": {},
     "output_type": "execute_result"
    }
   ],
   "source": [
    "list(x.values())"
   ]
  },
  {
   "cell_type": "code",
   "execution_count": 4,
   "id": "59c53730",
   "metadata": {},
   "outputs": [
    {
     "data": {
      "text/plain": [
       "<_io.TextIOWrapper name='mydict.py' mode='w' encoding='cp1252'>"
      ]
     },
     "execution_count": 4,
     "metadata": {},
     "output_type": "execute_result"
    }
   ],
   "source": [
    "open(\"mydict.py\", \"w\")"
   ]
  },
  {
   "cell_type": "code",
   "execution_count": 6,
   "id": "257d4595",
   "metadata": {},
   "outputs": [
    {
     "name": "stdout",
     "output_type": "stream",
     "text": [
      " Volume in drive C is OS\n",
      " Volume Serial Number is DA70-7AC6\n",
      "\n",
      " Directory of C:\\Users\\devas\\Desktop\\sample_project_1\n",
      "\n",
      "26-12-2022  13:50    <DIR>          .\n",
      "01-12-2022  22:36    <DIR>          ..\n",
      "26-12-2022  13:05    <DIR>          .ipynb_checkpoints\n",
      "26-12-2022  13:20    <DIR>          __pycache__\n",
      "09-12-2022  21:27            39,120 00_sanket_NB.ipynb\n",
      "22-11-2022  15:03           567,024 03-A-Himanshu_Salvekar.ipynb\n",
      "09-12-2022  21:33             8,219 03-Himanshu_Dendrogram.ipynb\n",
      "04-12-2022  15:27                 4 asas.txt\n",
      "20-11-2022  21:57            34,948 canada per capita income.ipynb\n",
      "20-11-2022  21:48            28,654 carprices.ipynb\n",
      "13-07-2022  22:52               369 car-sales.csv\n",
      "15-07-2022  17:48               287 car-sales-missing-data.csv\n",
      "12-12-2022  18:33            90,019 data.csv\n",
      "10-12-2022  16:27                 0 demo.log\n",
      "12-07-2022  19:20    <DIR>          env\n",
      "04-12-2022  16:09                 0 error.txt\n",
      "04-12-2022  16:11                 0 error1.txt\n",
      "13-12-2022  21:07            33,026 Exceptional_handling+.ipynb\n",
      "02-11-2022  11:39             1,763 functions task.txt\n",
      "13-07-2022  22:02            11,328 heart-disease.csv\n",
      "07-12-2022  22:37           153,578 HimanshuSalvekar_Resume_PDF.pdf\n",
      "20-11-2022  22:07            18,708 hiring.ipynb\n",
      "20-11-2022  22:08            17,697 homeprices.ipynb\n",
      "20-11-2022  22:09            46,853 HR_comma_sep.ipynb\n",
      "01-12-2022  22:40             5,952 INeu-Assn-4.0.ipynb\n",
      "23-11-2022  15:31            38,181 Ineuron1.ipynb\n",
      "04-12-2022  18:58                16 ineuron1.txt\n",
      "05-11-2022  07:04             2,917 INeuron-Assignment.ipynb\n",
      "16-12-2022  22:01            47,091 INeuron-Functions.ipynb\n",
      "05-11-2022  05:50            17,601 INeuron-List,Tuple,Set and Dicts.ipynb\n",
      "31-10-2022  12:45             5,711 INeuron-Loops,Tuples&Lists .ipynb\n",
      "20-11-2022  22:03            24,765 insurance data.ipynb\n",
      "01-12-2022  22:41            74,185 Introduction-To-NumPy.ipynb\n",
      "16-10-2022  15:17           343,290 Introduction-To-Pandas.ipynb\n",
      "20-11-2022  22:04            22,017 iris logistic assignment.ipynb\n",
      "13-12-2022  21:07             6,062 Logging.ipynb\n",
      "26-12-2022  13:47                 0 mydict.py\n",
      "26-12-2022  13:50                 0 mydictionary.py\n",
      "26-12-2022  13:25                 0 mylist.py\n",
      "16-10-2022  17:54             9,283 NumPy-Practice.ipynb\n",
      "26-12-2022  13:49            22,867 OOPs-1.ipynb\n",
      "12-12-2022  19:04            29,264 Panda_Activity.ipynb\n",
      "16-10-2022  13:52             6,008 Pandas(Prac).ipynb\n",
      "17-07-2022  21:30             3,916 Pandas-Exercises.ipynb\n",
      "16-10-2022  16:43           153,698 Pandas-Practice.ipynb\n",
      "25-11-2022  21:06            43,541 part 1 solutions.ipynb\n",
      "02-12-2022  23:16             4,131 Password_Strength_Problem.ipynb\n",
      "02-12-2022  23:17            42,063 Practice-Questions.ipynb\n",
      "27-11-2022  18:06               993 PyBasicAssn-3_Ineuron.ipynb\n",
      "30-11-2022  22:45            23,229 questions.ipynb\n",
      "09-05-2022  20:01            20,212 Sadhguru.docx\n",
      "20-11-2022  22:10            24,620 salaries.ipynb\n",
      "02-12-2022  13:00             8,239 task questions part 2.ipynb\n",
      "04-12-2022  18:58                 7 test1.txt\n",
      "04-12-2022  15:49                13 test2.txt\n",
      "04-12-2022  16:01                 0 test3.txt\n",
      "20-11-2022  22:05            26,062 titanic decision tree assignment.ipynb\n",
      "26-12-2022  13:45             3,588 Untitled.ipynb\n",
      "26-12-2022  13:05             8,132 Untitled1.ipynb\n",
      "              54 File(s)      2,069,251 bytes\n",
      "               5 Dir(s)  278,175,387,648 bytes free\n"
     ]
    }
   ],
   "source": [
    "ls"
   ]
  },
  {
   "cell_type": "code",
   "execution_count": 5,
   "id": "279cfb98",
   "metadata": {},
   "outputs": [
    {
     "data": {
      "text/plain": [
       "<_io.TextIOWrapper name='mydictionary.py' mode='w' encoding='cp1252'>"
      ]
     },
     "execution_count": 5,
     "metadata": {},
     "output_type": "execute_result"
    }
   ],
   "source": [
    "open(\"mydictionary.py\",\"w\")"
   ]
  },
  {
   "cell_type": "code",
   "execution_count": 7,
   "id": "b04e0769",
   "metadata": {},
   "outputs": [
    {
     "data": {
      "text/plain": [
       "<_io.TextIOWrapper name='mylists.py' mode='w' encoding='cp1252'>"
      ]
     },
     "execution_count": 7,
     "metadata": {},
     "output_type": "execute_result"
    }
   ],
   "source": [
    "open(\"mylists.py\",\"w\")"
   ]
  },
  {
   "cell_type": "markdown",
   "id": "35ba9238",
   "metadata": {},
   "source": [
    "## Inheritance"
   ]
  },
  {
   "cell_type": "code",
   "execution_count": 5,
   "id": "31d174a7",
   "metadata": {},
   "outputs": [],
   "source": [
    "class xyz:\n",
    "    def __init__(self,a,b,c):\n",
    "        self.a=a\n",
    "        self.b=b\n",
    "        self.c=c\n",
    "    \n",
    "    def test(self):\n",
    "        print(\"This is my first test method of xyz class.\")\n",
    "    \n",
    "    def test1(self):\n",
    "        print(\"This is a test1 method of xyz class.\")\n",
    "        \n",
    "    def test2(self):\n",
    "        print(\"This is my test2 method of xyz class.\")"
   ]
  },
  {
   "cell_type": "code",
   "execution_count": 6,
   "id": "6b849733",
   "metadata": {},
   "outputs": [],
   "source": [
    "p=xyz(1,2,3)"
   ]
  },
  {
   "cell_type": "code",
   "execution_count": 7,
   "id": "710c0913",
   "metadata": {},
   "outputs": [
    {
     "data": {
      "text/plain": [
       "1"
      ]
     },
     "execution_count": 7,
     "metadata": {},
     "output_type": "execute_result"
    }
   ],
   "source": [
    "p.a"
   ]
  },
  {
   "cell_type": "code",
   "execution_count": 10,
   "id": "c15bad24",
   "metadata": {},
   "outputs": [],
   "source": [
    "q=xyz1(100,101,102)"
   ]
  },
  {
   "cell_type": "code",
   "execution_count": 9,
   "id": "3c144e7a",
   "metadata": {},
   "outputs": [],
   "source": [
    "class xyz1(xyz):\n",
    "    pass"
   ]
  },
  {
   "cell_type": "code",
   "execution_count": 11,
   "id": "c38d2b75",
   "metadata": {},
   "outputs": [
    {
     "data": {
      "text/plain": [
       "100"
      ]
     },
     "execution_count": 11,
     "metadata": {},
     "output_type": "execute_result"
    }
   ],
   "source": [
    "q.a"
   ]
  },
  {
   "cell_type": "code",
   "execution_count": 14,
   "id": "b290a68c",
   "metadata": {},
   "outputs": [
    {
     "name": "stdout",
     "output_type": "stream",
     "text": [
      "This is a test1 method of xyz class.\n"
     ]
    }
   ],
   "source": [
    "q.test1()"
   ]
  },
  {
   "cell_type": "markdown",
   "id": "e6fc84dd",
   "metadata": {},
   "source": [
    "MULTI_CLASS HERITANCE"
   ]
  },
  {
   "cell_type": "code",
   "execution_count": 15,
   "id": "8e64d12b",
   "metadata": {},
   "outputs": [],
   "source": [
    "class xyz:\n",
    "    def __init__(self,a,b,c):\n",
    "        self.a=a\n",
    "        self.b=b\n",
    "        self.c=c\n",
    "    \n",
    "    def test(self):\n",
    "        print(\"This is my first test method of xyz class.\")\n",
    "\n",
    "class xyz1:\n",
    "    \n",
    "    def __init__(self,x,y,z):\n",
    "        self.x=x\n",
    "        self.y=y\n",
    "        self.z=y\n",
    "    \n",
    "    def test1(self):\n",
    "        print(\"This is my test from xyz1\")\n",
    "\n",
    "class child(xyz1,xyz):\n",
    "    def __init__(self,*args,**kwargs):\n",
    "        xyz.__init__(self,*args)\n",
    "        xyz1.__init__(self,**kwargs)\n",
    "    \n",
    "    "
   ]
  },
  {
   "cell_type": "code",
   "execution_count": 2,
   "id": "d4171995",
   "metadata": {},
   "outputs": [],
   "source": [
    "n=child(12,31,14,x=1,y=2,z=3)"
   ]
  },
  {
   "cell_type": "code",
   "execution_count": 42,
   "id": "6ff53808",
   "metadata": {},
   "outputs": [
    {
     "data": {
      "text/plain": [
       "1"
      ]
     },
     "execution_count": 42,
     "metadata": {},
     "output_type": "execute_result"
    }
   ],
   "source": [
    "n.x"
   ]
  },
  {
   "cell_type": "code",
   "execution_count": 16,
   "id": "c67b6ec2",
   "metadata": {},
   "outputs": [
    {
     "data": {
      "text/plain": [
       "2"
      ]
     },
     "execution_count": 16,
     "metadata": {},
     "output_type": "execute_result"
    }
   ],
   "source": [
    "n.y"
   ]
  },
  {
   "cell_type": "code",
   "execution_count": 4,
   "id": "c1f11788",
   "metadata": {},
   "outputs": [
    {
     "data": {
      "text/plain": [
       "31"
      ]
     },
     "execution_count": 4,
     "metadata": {},
     "output_type": "execute_result"
    }
   ],
   "source": [
    "n.b"
   ]
  },
  {
   "cell_type": "code",
   "execution_count": 33,
   "id": "6397e117",
   "metadata": {},
   "outputs": [],
   "source": [
    "def fact(num):\n",
    "    '''\n",
    "    This function returns the factorial of any number you enter.\n",
    "    '''\n",
    "    fact=1\n",
    "    for i in range(1,num+1):\n",
    "        fact*=i\n",
    "    return fact"
   ]
  },
  {
   "cell_type": "code",
   "execution_count": 34,
   "id": "7b309305",
   "metadata": {},
   "outputs": [
    {
     "name": "stdout",
     "output_type": "stream",
     "text": [
      "Help on function fact in module __main__:\n",
      "\n",
      "fact(num)\n",
      "    This function returns the factorial of any number you enter.\n",
      "\n"
     ]
    }
   ],
   "source": [
    "help(fact)"
   ]
  },
  {
   "cell_type": "code",
   "execution_count": 83,
   "id": "28912584",
   "metadata": {},
   "outputs": [],
   "source": [
    "def prime(num):\n",
    "    '''\n",
    "    This function tells if a number is a prime or not.\n",
    "    '''\n",
    "    isprime=False\n",
    "    if num==2:\n",
    "        print('2 is prime')\n",
    "    else:\n",
    "        for i in range(2,num):\n",
    "            if num%i==0:\n",
    "                isprime=False\n",
    "                break\n",
    "            isprime=True\n",
    "            \n",
    "        if isprime:\n",
    "            print('Number is prime.')\n",
    "        else:\n",
    "            print('Number is not prime.')\n",
    "            \n",
    "        \n"
   ]
  },
  {
   "cell_type": "code",
   "execution_count": 90,
   "id": "7455d7ee",
   "metadata": {},
   "outputs": [
    {
     "name": "stdout",
     "output_type": "stream",
     "text": [
      "Number is not prime.\n"
     ]
    }
   ],
   "source": [
    "prime(100)"
   ]
  },
  {
   "cell_type": "code",
   "execution_count": 89,
   "id": "0c7d30e3",
   "metadata": {},
   "outputs": [
    {
     "name": "stdout",
     "output_type": "stream",
     "text": [
      "Help on function prime in module __main__:\n",
      "\n",
      "prime(num)\n",
      "    This function tells if a number is a prime or not.\n",
      "\n"
     ]
    }
   ],
   "source": [
    "help(prime)"
   ]
  },
  {
   "cell_type": "markdown",
   "id": "60274dfb",
   "metadata": {},
   "source": [
    "MULTI_LABEL INHERITANCE"
   ]
  },
  {
   "cell_type": "code",
   "execution_count": 52,
   "id": "557860ff",
   "metadata": {},
   "outputs": [],
   "source": [
    "class xyz:\n",
    "    def __init__(self,a,b,c):\n",
    "        self.a=a\n",
    "        self.b=b\n",
    "        self.c=c\n",
    "    \n",
    "    def test(self):\n",
    "        print(\"Tis is a method of xyz class.\")\n",
    "\n",
    "class xyz1(xyz):\n",
    "    \n",
    "    def test1(self):\n",
    "        print('This is a method from class xyz1')\n",
    "\n",
    "class xyz2(xyz1):\n",
    "    def test2(self):\n",
    "        print(\"THis is method from class2\")"
   ]
  },
  {
   "cell_type": "code",
   "execution_count": 53,
   "id": "b980b425",
   "metadata": {},
   "outputs": [],
   "source": [
    "v=xyz2(23,45,6)"
   ]
  },
  {
   "cell_type": "code",
   "execution_count": 54,
   "id": "05058a0f",
   "metadata": {},
   "outputs": [],
   "source": [
    "q=xyz1(1,2,3)"
   ]
  },
  {
   "cell_type": "code",
   "execution_count": 103,
   "id": "994667d2",
   "metadata": {},
   "outputs": [
    {
     "data": {
      "text/plain": [
       "(23, 45, 3)"
      ]
     },
     "execution_count": 103,
     "metadata": {},
     "output_type": "execute_result"
    }
   ],
   "source": [
    "v.a,v.b,q.c"
   ]
  },
  {
   "cell_type": "markdown",
   "id": "6d3c552e",
   "metadata": {},
   "source": [
    "q1-Create a file class for reading data from file with a method name read and write.\n",
    "\n",
    "q2-Try to inherit read and write method from parent class to child class to perform read and write operation."
   ]
  },
  {
   "cell_type": "code",
   "execution_count": null,
   "id": "3a08ca8a",
   "metadata": {},
   "outputs": [],
   "source": [
    "class filetask:\n",
    "    def __init__(self,filename,filetype):\n",
    "        self.filename=filename\n",
    "        self.filetype=filetype\n",
    "    \n",
    "    "
   ]
  },
  {
   "cell_type": "code",
   "execution_count": 131,
   "id": "f548a6c6",
   "metadata": {},
   "outputs": [],
   "source": [
    "class file:\n",
    "    \n",
    "    def __init__(self,filename,filetype):\n",
    "        self.filename=filename\n",
    "        self.filetype=filetype\n",
    "    \n",
    "    def readwrite(self):\n",
    "        f=open(self.filename,'w')\n",
    "        f.write('This is my class task')\n",
    "        f.close()\n",
    "    \n",
    "    def file_read(self):\n",
    "        f=open(self.filename,'r')\n",
    "        print(f.read())\n",
    "        f.close()\n",
    "\n",
    "\n",
    "class child(file):\n",
    "    pass\n",
    "    \n",
    "    "
   ]
  },
  {
   "cell_type": "code",
   "execution_count": 132,
   "id": "85284739",
   "metadata": {},
   "outputs": [],
   "source": [
    "x=file('functions task','.txt')"
   ]
  },
  {
   "cell_type": "code",
   "execution_count": 133,
   "id": "a5df5d70",
   "metadata": {},
   "outputs": [],
   "source": [
    "x.readwrite()"
   ]
  },
  {
   "cell_type": "code",
   "execution_count": 119,
   "id": "4d6fd559",
   "metadata": {},
   "outputs": [
    {
     "data": {
      "text/plain": [
       "<__main__.file at 0x1d0d11d05e0>"
      ]
     },
     "execution_count": 119,
     "metadata": {},
     "output_type": "execute_result"
    }
   ],
   "source": [
    "x"
   ]
  },
  {
   "cell_type": "code",
   "execution_count": 155,
   "id": "6bd5c691",
   "metadata": {},
   "outputs": [],
   "source": [
    "class test1:\n",
    "    def __init__(self):\n",
    "        self.a=1\n",
    "    \n",
    "    def mult(self):\n",
    "        '''\n",
    "        Multiplies the variable by 84 times\n",
    "        '''\n",
    "        return self.a*84\n",
    "\n",
    "class test2(test1):\n",
    "    def __init__(self):\n",
    "        self.a=7\n",
    "        "
   ]
  },
  {
   "cell_type": "code",
   "execution_count": 157,
   "id": "06831651",
   "metadata": {},
   "outputs": [],
   "source": [
    "x=test1()"
   ]
  },
  {
   "cell_type": "code",
   "execution_count": 158,
   "id": "2487f86a",
   "metadata": {},
   "outputs": [],
   "source": [
    "y=test2()"
   ]
  },
  {
   "cell_type": "code",
   "execution_count": 159,
   "id": "9fc24575",
   "metadata": {},
   "outputs": [
    {
     "data": {
      "text/plain": [
       "1"
      ]
     },
     "execution_count": 159,
     "metadata": {},
     "output_type": "execute_result"
    }
   ],
   "source": [
    "x.a"
   ]
  },
  {
   "cell_type": "code",
   "execution_count": 160,
   "id": "86804e5f",
   "metadata": {},
   "outputs": [
    {
     "data": {
      "text/plain": [
       "7"
      ]
     },
     "execution_count": 160,
     "metadata": {},
     "output_type": "execute_result"
    }
   ],
   "source": [
    "y.a"
   ]
  },
  {
   "cell_type": "code",
   "execution_count": 161,
   "id": "5384731a",
   "metadata": {},
   "outputs": [
    {
     "data": {
      "text/plain": [
       "588"
      ]
     },
     "execution_count": 161,
     "metadata": {},
     "output_type": "execute_result"
    }
   ],
   "source": [
    "y.mult()"
   ]
  },
  {
   "cell_type": "code",
   "execution_count": 162,
   "id": "1aa9a0ea",
   "metadata": {},
   "outputs": [
    {
     "data": {
      "text/plain": [
       "84"
      ]
     },
     "execution_count": 162,
     "metadata": {},
     "output_type": "execute_result"
    }
   ],
   "source": [
    "x.mult()"
   ]
  },
  {
   "cell_type": "code",
   "execution_count": 170,
   "id": "ef409761",
   "metadata": {},
   "outputs": [],
   "source": [
    "class test:\n",
    "    def __init__(self,a,b,c):\n",
    "        self._a=a  #protected var a\n",
    "        self.__b=b #private var b \n",
    "        self.c=c   #public var c\n",
    "class test1(test):\n",
    "    pass"
   ]
  },
  {
   "cell_type": "code",
   "execution_count": 165,
   "id": "1d3a765b",
   "metadata": {},
   "outputs": [],
   "source": [
    "v=test(4,5,6)"
   ]
  },
  {
   "cell_type": "code",
   "execution_count": 166,
   "id": "566b2ed9",
   "metadata": {},
   "outputs": [
    {
     "data": {
      "text/plain": [
       "4"
      ]
     },
     "execution_count": 166,
     "metadata": {},
     "output_type": "execute_result"
    }
   ],
   "source": [
    "v._a"
   ]
  },
  {
   "cell_type": "code",
   "execution_count": 167,
   "id": "fa7fd24b",
   "metadata": {},
   "outputs": [
    {
     "data": {
      "text/plain": [
       "6"
      ]
     },
     "execution_count": 167,
     "metadata": {},
     "output_type": "execute_result"
    }
   ],
   "source": [
    "v.c"
   ]
  },
  {
   "cell_type": "code",
   "execution_count": 169,
   "id": "8239d301",
   "metadata": {},
   "outputs": [
    {
     "data": {
      "text/plain": [
       "5"
      ]
     },
     "execution_count": 169,
     "metadata": {},
     "output_type": "execute_result"
    }
   ],
   "source": [
    "v._test__b"
   ]
  },
  {
   "cell_type": "code",
   "execution_count": 172,
   "id": "ea68b82d",
   "metadata": {},
   "outputs": [],
   "source": [
    "u=test1(1,2,3)"
   ]
  },
  {
   "cell_type": "code",
   "execution_count": 175,
   "id": "2e5c09f9",
   "metadata": {},
   "outputs": [
    {
     "ename": "AttributeError",
     "evalue": "'test1' object has no attribute '_c'",
     "output_type": "error",
     "traceback": [
      "\u001b[1;31m---------------------------------------------------------------------------\u001b[0m",
      "\u001b[1;31mAttributeError\u001b[0m                            Traceback (most recent call last)",
      "\u001b[1;32m<ipython-input-175-f00e3e8868ae>\u001b[0m in \u001b[0;36m<module>\u001b[1;34m\u001b[0m\n\u001b[1;32m----> 1\u001b[1;33m \u001b[0mu\u001b[0m\u001b[1;33m.\u001b[0m\u001b[0m_c\u001b[0m\u001b[1;33m\u001b[0m\u001b[1;33m\u001b[0m\u001b[0m\n\u001b[0m",
      "\u001b[1;31mAttributeError\u001b[0m: 'test1' object has no attribute '_c'"
     ]
    }
   ],
   "source": [
    "#private variable\n",
    "u._c\n"
   ]
  },
  {
   "cell_type": "markdown",
   "id": "5898f44b",
   "metadata": {},
   "source": [
    "# POLYMORPHISM"
   ]
  },
  {
   "cell_type": "markdown",
   "id": "bf90d8f9",
   "metadata": {},
   "source": [
    "It means same function but performing different roles."
   ]
  },
  {
   "cell_type": "code",
   "execution_count": 24,
   "id": "e4da21ca",
   "metadata": {},
   "outputs": [],
   "source": [
    "class insta:\n",
    "    def share_stories(self):\n",
    "        print(\"this will share my insta story\")\n",
    "\n",
    "class facebook:\n",
    "    def share_stories(self):\n",
    "        print(\"this will share my facebook story\")"
   ]
  },
  {
   "cell_type": "code",
   "execution_count": 3,
   "id": "a869c27c",
   "metadata": {},
   "outputs": [],
   "source": [
    "def sharestories(app):\n",
    "    app.share_stories()"
   ]
  },
  {
   "cell_type": "code",
   "execution_count": 25,
   "id": "b0dbcc31",
   "metadata": {},
   "outputs": [],
   "source": [
    "i=insta()\n",
    "f=facebook()"
   ]
  },
  {
   "cell_type": "code",
   "execution_count": 5,
   "id": "ea3ce2a4",
   "metadata": {},
   "outputs": [
    {
     "name": "stdout",
     "output_type": "stream",
     "text": [
      "this will share my insta story\n"
     ]
    }
   ],
   "source": [
    "sharestories(i)"
   ]
  },
  {
   "cell_type": "code",
   "execution_count": 6,
   "id": "d117d0c3",
   "metadata": {},
   "outputs": [
    {
     "name": "stdout",
     "output_type": "stream",
     "text": [
      "this will share my facebook story\n"
     ]
    }
   ],
   "source": [
    "sharestories(f)"
   ]
  },
  {
   "cell_type": "code",
   "execution_count": 26,
   "id": "1f935e43",
   "metadata": {},
   "outputs": [
    {
     "name": "stdout",
     "output_type": "stream",
     "text": [
      "this will share my facebook story\n"
     ]
    }
   ],
   "source": [
    "f.share_stories()"
   ]
  },
  {
   "cell_type": "code",
   "execution_count": 13,
   "id": "c36bc4d6",
   "metadata": {},
   "outputs": [],
   "source": [
    "class social_media:\n",
    "    def share_stories(self):\n",
    "        print('Share stories')\n",
    "    def upload_pic(self):\n",
    "        print(\"This will help you to upload pic on social media\")\n",
    "\n",
    "class facebook(social_media):\n",
    "    def share_stories(self):\n",
    "        print('This is a func for sharing a story for facebook')\n",
    "\n",
    "class insta(social_media):\n",
    "    def share_stories(self): \n",
    "        print(\"This will print a story from insta\")\n",
    "    "
   ]
  },
  {
   "cell_type": "code",
   "execution_count": 14,
   "id": "552a807c",
   "metadata": {},
   "outputs": [],
   "source": [
    "f=facebook()\n",
    "i=insta()"
   ]
  },
  {
   "cell_type": "code",
   "execution_count": 17,
   "id": "5b072fd9",
   "metadata": {},
   "outputs": [
    {
     "name": "stdout",
     "output_type": "stream",
     "text": [
      "This is a func for sharing a story for facebook\n"
     ]
    }
   ],
   "source": [
    "f.share_stories()"
   ]
  },
  {
   "cell_type": "code",
   "execution_count": 18,
   "id": "cb52e537",
   "metadata": {},
   "outputs": [
    {
     "name": "stdout",
     "output_type": "stream",
     "text": [
      "This will print a story from insta\n"
     ]
    }
   ],
   "source": [
    "i.share_stories()"
   ]
  },
  {
   "cell_type": "code",
   "execution_count": 24,
   "id": "9cbd2823",
   "metadata": {},
   "outputs": [],
   "source": [
    "class test(Exception):\n",
    "    def __init__(self,msg,msg2):\n",
    "        self.msg=msg\n",
    "        self.msg2=msg2"
   ]
  },
  {
   "cell_type": "code",
   "execution_count": 26,
   "id": "75c1a930",
   "metadata": {},
   "outputs": [
    {
     "name": "stdout",
     "output_type": "stream",
     "text": [
      "('This is my exception class.', 1)\n"
     ]
    }
   ],
   "source": [
    "try:\n",
    "    raise(test(\"This is my exception class.\",1))\n",
    "    \n",
    "except test as t:\n",
    "    print(t)"
   ]
  },
  {
   "cell_type": "code",
   "execution_count": 47,
   "id": "7940bd34",
   "metadata": {},
   "outputs": [],
   "source": [
    "class random:\n",
    "    def __init__(self,a,b):\n",
    "        self.a=a\n",
    "        self.b=b\n",
    "    def func(self):\n",
    "        print((self.a,self.b))\n",
    "    "
   ]
  },
  {
   "cell_type": "code",
   "execution_count": 48,
   "id": "34ff52a2",
   "metadata": {},
   "outputs": [],
   "source": [
    "r=random(1,'Himanshu')"
   ]
  },
  {
   "cell_type": "code",
   "execution_count": 49,
   "id": "4db19dac",
   "metadata": {},
   "outputs": [
    {
     "name": "stdout",
     "output_type": "stream",
     "text": [
      "(1, 'Himanshu')\n"
     ]
    }
   ],
   "source": [
    "r.func()"
   ]
  },
  {
   "cell_type": "code",
   "execution_count": null,
   "id": "3bad60c8",
   "metadata": {},
   "outputs": [],
   "source": [
    "'''\n",
    "class xyz:\n",
    "    def __init__(self,a,b,c):\n",
    "        self.a=a\n",
    "        self.b=b\n",
    "        self.c=c\n",
    "    \n",
    "    def test(self):\n",
    "        print(\"This is my first test method of xyz class.\")\n",
    "\n",
    "class xyz1:\n",
    "    \n",
    "    def __init__(self,x,y,z):\n",
    "        self.x=x\n",
    "        self.y=y\n",
    "        self.z=y\n",
    "    \n",
    "    def test1(self):\n",
    "        print(\"This is my test from xyz1\")\n",
    "\n",
    "class child(xyz1,xyz):\n",
    "    def __init__(self,*args,**kwargs):\n",
    "        xyz.__init__(self,*args)\n",
    "        xyz1.__init__(self,**kwargs)\n",
    "    \n",
    " '''   "
   ]
  },
  {
   "cell_type": "code",
   "execution_count": null,
   "id": "4357b547",
   "metadata": {},
   "outputs": [],
   "source": [
    "q1-Create your own class to achieve multiple,multilevel inheritance.\n",
    "q2-create your own class to represent polymorphism.\n",
    "q3-create your class for custom exception.\n",
    "q4-create your own class to achieve encapsulation.\n",
    "q5-create your own class to achieve method overloading and overriding."
   ]
  },
  {
   "cell_type": "code",
   "execution_count": 46,
   "id": "9f723d9f",
   "metadata": {},
   "outputs": [],
   "source": [
    "#Multiple_Heritance\n",
    "class playerlist1:\n",
    "    def __init__(self,ply1,ply2,ply3):\n",
    "        self.ply1=ply1\n",
    "        self.ply2=ply2\n",
    "        self.ply3=ply3\n",
    "    def func(self):\n",
    "        return self.ply1,self.ply2,self.ply3\n",
    "\n",
    "class teamlist1:\n",
    "    def __init__(self,team1,team2,team3):\n",
    "        self.team1=team1\n",
    "        self.team2=team2\n",
    "        self.team3=team3\n",
    "    \n",
    "    def func1(self):\n",
    "        print('This is a func from playerlist2')\n",
    "\n",
    "class child(playerlist1,teamlist1):\n",
    "    def __init__(self,*args,**kwargs):\n",
    "        playerlist1.__init__(self,*args)\n",
    "        teamlist1.__init__(self,**kwargs)\n",
    "        "
   ]
  },
  {
   "cell_type": "code",
   "execution_count": 47,
   "id": "c9b33dc5",
   "metadata": {},
   "outputs": [],
   "source": [
    "x=child('Cristiano Ronaldo','Lionel Messi','Pirlo',team1='Real Madrid',team2='PSG',team3='Juventus FC')"
   ]
  },
  {
   "cell_type": "code",
   "execution_count": 49,
   "id": "9408560f",
   "metadata": {},
   "outputs": [
    {
     "data": {
      "text/plain": [
       "'Lionel Messi'"
      ]
     },
     "execution_count": 49,
     "metadata": {},
     "output_type": "execute_result"
    }
   ],
   "source": [
    "x.ply2"
   ]
  },
  {
   "cell_type": "code",
   "execution_count": 48,
   "id": "88ce28de",
   "metadata": {},
   "outputs": [
    {
     "data": {
      "text/plain": [
       "'PSG'"
      ]
     },
     "execution_count": 48,
     "metadata": {},
     "output_type": "execute_result"
    }
   ],
   "source": [
    "x.team2"
   ]
  },
  {
   "cell_type": "code",
   "execution_count": 51,
   "id": "0db4ab72",
   "metadata": {},
   "outputs": [
    {
     "data": {
      "text/plain": [
       "('Cristiano Ronaldo', 'Real Madrid')"
      ]
     },
     "execution_count": 51,
     "metadata": {},
     "output_type": "execute_result"
    }
   ],
   "source": [
    "x.ply1,x.team1"
   ]
  },
  {
   "cell_type": "code",
   "execution_count": 57,
   "id": "2453445a",
   "metadata": {},
   "outputs": [],
   "source": [
    "#Multi_Level Heritance\n",
    "class playerlist1:\n",
    "    \n",
    "    def __init__(self,ply1,ply2,ply3):\n",
    "        self.ply1=ply1\n",
    "        self.ply2=ply2\n",
    "        self.ply3=ply3\n",
    "    \n",
    "    def func(self):\n",
    "        return self.ply1,self.ply2,self.ply3\n",
    "\n",
    "class playerlist2(playerlist1):\n",
    "    \n",
    "    def func1(self):\n",
    "        print(\"This is a func from playerlist2\")\n",
    "\n",
    "class random(playerlist2):\n",
    "    \n",
    "    def func2(self):\n",
    "        print(\"This is a func from random\")\n",
    "        "
   ]
  },
  {
   "cell_type": "code",
   "execution_count": 60,
   "id": "739acf57",
   "metadata": {},
   "outputs": [],
   "source": [
    "r=random('Ronaldo','Zlatan Ibrahimovic','Frank RIbery')"
   ]
  },
  {
   "cell_type": "code",
   "execution_count": 61,
   "id": "81c4d862",
   "metadata": {},
   "outputs": [
    {
     "data": {
      "text/plain": [
       "'Ronaldo'"
      ]
     },
     "execution_count": 61,
     "metadata": {},
     "output_type": "execute_result"
    }
   ],
   "source": [
    "r.ply1"
   ]
  },
  {
   "cell_type": "code",
   "execution_count": 63,
   "id": "2fbda03f",
   "metadata": {},
   "outputs": [
    {
     "name": "stdout",
     "output_type": "stream",
     "text": [
      "This is a func from random\n"
     ]
    }
   ],
   "source": [
    "r.func2()"
   ]
  },
  {
   "cell_type": "code",
   "execution_count": 65,
   "id": "1478203e",
   "metadata": {},
   "outputs": [
    {
     "data": {
      "text/plain": [
       "('Ronaldo', 'Zlatan Ibrahimovic', 'Frank RIbery')"
      ]
     },
     "execution_count": 65,
     "metadata": {},
     "output_type": "execute_result"
    }
   ],
   "source": [
    "r.func()"
   ]
  },
  {
   "cell_type": "code",
   "execution_count": 66,
   "id": "6053c87d",
   "metadata": {},
   "outputs": [
    {
     "name": "stdout",
     "output_type": "stream",
     "text": [
      "This is a func from playerlist2\n"
     ]
    }
   ],
   "source": [
    "r.func1()"
   ]
  },
  {
   "cell_type": "code",
   "execution_count": 1,
   "id": "e6880008",
   "metadata": {},
   "outputs": [],
   "source": [
    "class cricket:\n",
    "    def __init__(self,a,b,c):\n",
    "        self.a=a\n",
    "        self.b=b\n",
    "        self.c=c\n",
    "    \n",
    "    def func(self):\n",
    "        return self.a,self.b,self.c\n",
    "        \n",
    "class Football:\n",
    "    def func(self):\n",
    "        print(\"PLayers:Ronaldo,Cruyff,Maradona\")\n",
    "    "
   ]
  },
  {
   "cell_type": "code",
   "execution_count": 2,
   "id": "cb6cd780",
   "metadata": {},
   "outputs": [],
   "source": [
    "c=cricket(\"Kohli\",'Tendulkar','Pant')"
   ]
  },
  {
   "cell_type": "code",
   "execution_count": 3,
   "id": "47928aa0",
   "metadata": {},
   "outputs": [],
   "source": [
    "f=Football()"
   ]
  },
  {
   "cell_type": "code",
   "execution_count": 4,
   "id": "048718e2",
   "metadata": {},
   "outputs": [
    {
     "name": "stdout",
     "output_type": "stream",
     "text": [
      "PLayers:Ronaldo,Cruyff,Maradona\n"
     ]
    }
   ],
   "source": [
    "f.func()"
   ]
  },
  {
   "cell_type": "code",
   "execution_count": 5,
   "id": "2863b698",
   "metadata": {},
   "outputs": [
    {
     "data": {
      "text/plain": [
       "('Kohli', 'Tendulkar', 'Pant')"
      ]
     },
     "execution_count": 5,
     "metadata": {},
     "output_type": "execute_result"
    }
   ],
   "source": [
    "c.func()"
   ]
  },
  {
   "cell_type": "code",
   "execution_count": 13,
   "id": "4e7af92e",
   "metadata": {},
   "outputs": [],
   "source": [
    "class encap:\n",
    "    \n",
    "    def __init__(self,a,b,c):\n",
    "        self._a=a\n",
    "        self.b=b\n",
    "        self.__c=c\n",
    "    \n",
    "    def test1(self):\n",
    "        print(\"This is from encap\")\n",
    "\n",
    "class encap1(encap):\n",
    "    pass\n",
    "    \n",
    "\n",
    "        \n",
    "        "
   ]
  },
  {
   "cell_type": "code",
   "execution_count": 14,
   "id": "20e5f58c",
   "metadata": {},
   "outputs": [],
   "source": [
    "x=encap(1,2,3)"
   ]
  },
  {
   "cell_type": "code",
   "execution_count": 15,
   "id": "7bad2e98",
   "metadata": {},
   "outputs": [
    {
     "data": {
      "text/plain": [
       "1"
      ]
     },
     "execution_count": 15,
     "metadata": {},
     "output_type": "execute_result"
    }
   ],
   "source": [
    "x._a"
   ]
  },
  {
   "cell_type": "code",
   "execution_count": 16,
   "id": "c2f5cf83",
   "metadata": {},
   "outputs": [
    {
     "data": {
      "text/plain": [
       "2"
      ]
     },
     "execution_count": 16,
     "metadata": {},
     "output_type": "execute_result"
    }
   ],
   "source": [
    "x.b"
   ]
  },
  {
   "cell_type": "code",
   "execution_count": 17,
   "id": "a5cc806c",
   "metadata": {},
   "outputs": [
    {
     "data": {
      "text/plain": [
       "3"
      ]
     },
     "execution_count": 17,
     "metadata": {},
     "output_type": "execute_result"
    }
   ],
   "source": [
    "x._encap__c"
   ]
  },
  {
   "cell_type": "code",
   "execution_count": 19,
   "id": "c56656bc",
   "metadata": {},
   "outputs": [],
   "source": [
    "y=encap1(4,5,6)"
   ]
  },
  {
   "cell_type": "code",
   "execution_count": 20,
   "id": "d8abfadb",
   "metadata": {},
   "outputs": [
    {
     "data": {
      "text/plain": [
       "4"
      ]
     },
     "execution_count": 20,
     "metadata": {},
     "output_type": "execute_result"
    }
   ],
   "source": [
    "y._a"
   ]
  },
  {
   "cell_type": "code",
   "execution_count": 21,
   "id": "659e3a2c",
   "metadata": {},
   "outputs": [
    {
     "data": {
      "text/plain": [
       "5"
      ]
     },
     "execution_count": 21,
     "metadata": {},
     "output_type": "execute_result"
    }
   ],
   "source": [
    "y.b"
   ]
  },
  {
   "cell_type": "code",
   "execution_count": 22,
   "id": "4b0d12d4",
   "metadata": {},
   "outputs": [
    {
     "data": {
      "text/plain": [
       "6"
      ]
     },
     "execution_count": 22,
     "metadata": {},
     "output_type": "execute_result"
    }
   ],
   "source": [
    "y._encap__c"
   ]
  },
  {
   "cell_type": "code",
   "execution_count": 23,
   "id": "f97b0487",
   "metadata": {},
   "outputs": [
    {
     "data": {
      "text/plain": [
       "'\\nobj1 = Parent()\\nobj2 = Child()\\n  \\nobj1.show()\\nobj2.show()\\n'"
      ]
     },
     "execution_count": 23,
     "metadata": {},
     "output_type": "execute_result"
    }
   ],
   "source": [
    "class Parent():\n",
    "      \n",
    "    # Constructor\n",
    "    def __init__(self):\n",
    "        self.value = \"Inside Parent\"\n",
    "          \n",
    "    # Parent's show method\n",
    "    def show(self):\n",
    "        print(self.value)\n",
    "          \n",
    "# Defining child class\n",
    "class Child(Parent):\n",
    "      \n",
    "    # Constructor\n",
    "    def __init__(self):\n",
    "        self.value = \"Inside Child\"\n",
    "          \n",
    "    # Child's show method\n",
    "    def show(self):\n",
    "        print(self.value)\n",
    "          \n",
    "          \n",
    "# Driver's code\n",
    "'''\n",
    "obj1 = Parent()\n",
    "obj2 = Child()\n",
    "  \n",
    "obj1.show()\n",
    "obj2.show()\n",
    "'''"
   ]
  },
  {
   "cell_type": "code",
   "execution_count": 24,
   "id": "d3e041f0",
   "metadata": {},
   "outputs": [],
   "source": [
    "o1=Parent()"
   ]
  },
  {
   "cell_type": "code",
   "execution_count": 25,
   "id": "4f92f6c3",
   "metadata": {},
   "outputs": [],
   "source": [
    "o2=Child()"
   ]
  },
  {
   "cell_type": "code",
   "execution_count": 26,
   "id": "4359ad8d",
   "metadata": {},
   "outputs": [
    {
     "name": "stdout",
     "output_type": "stream",
     "text": [
      "Inside Parent\n"
     ]
    }
   ],
   "source": [
    "o1.show()"
   ]
  },
  {
   "cell_type": "code",
   "execution_count": 27,
   "id": "b0d9664d",
   "metadata": {},
   "outputs": [
    {
     "name": "stdout",
     "output_type": "stream",
     "text": [
      "Inside Child\n"
     ]
    }
   ],
   "source": [
    "o2.show()"
   ]
  },
  {
   "cell_type": "code",
   "execution_count": 28,
   "id": "a664e3a9",
   "metadata": {},
   "outputs": [],
   "source": [
    "class Parent1():\n",
    "          \n",
    "    # Parent's show method\n",
    "    def show(self):\n",
    "        print(\"Inside Parent1\")\n",
    "          \n",
    "# Defining Parent class 2\n",
    "class Parent2():\n",
    "          \n",
    "    # Parent's show method\n",
    "    def display(self):\n",
    "        print(\"Inside Parent2\")\n",
    "          \n",
    "          \n",
    "# Defining child class\n",
    "class Child(Parent1, Parent2):\n",
    "          \n",
    "    # Child's show method\n",
    "    def show(self):\n",
    "        print(\"Inside Child\")"
   ]
  },
  {
   "cell_type": "code",
   "execution_count": 29,
   "id": "94eb521e",
   "metadata": {},
   "outputs": [],
   "source": [
    "o=Child()"
   ]
  },
  {
   "cell_type": "code",
   "execution_count": 31,
   "id": "e7e357e7",
   "metadata": {},
   "outputs": [
    {
     "name": "stdout",
     "output_type": "stream",
     "text": [
      "Inside Child\n"
     ]
    }
   ],
   "source": [
    "o.show()"
   ]
  },
  {
   "cell_type": "code",
   "execution_count": 30,
   "id": "99c5aa68",
   "metadata": {},
   "outputs": [
    {
     "name": "stdout",
     "output_type": "stream",
     "text": [
      "Enter first num: 1\n",
      "Enter second num: 0\n",
      "division by zero\n",
      "From Finally!\n"
     ]
    }
   ],
   "source": [
    "class div_by_5(Exception):\n",
    "    def __init__(self,msg):\n",
    "        self.msg=msg\n",
    "\n",
    "try:\n",
    "    a=int(input(\"Enter first num: \"))\n",
    "    b=int(input(\"Enter second num: \"))\n",
    "    if b==5:\n",
    "        raise div_by_5(\"Division by 5 error\")\n",
    "\n",
    "except ValueError as msg:\n",
    "    print(msg)\n",
    "except ZeroDivisionError as msg:\n",
    "    print(msg)\n",
    "except div_by_5 as msg:\n",
    "    print(msg)\n",
    "\n",
    "else:\n",
    "    try:\n",
    "        result=a/b\n",
    "        print(result)\n",
    "    except Exception as e:\n",
    "        print(e)\n",
    "        \n",
    "finally:\n",
    "    print(\"From Finally!\")"
   ]
  },
  {
   "cell_type": "code",
   "execution_count": 39,
   "id": "6e8bb519",
   "metadata": {},
   "outputs": [
    {
     "name": "stdout",
     "output_type": "stream",
     "text": [
      "1\n",
      "a\n",
      "invalid literal for int() with base 10: 'a'\n",
      "From Finally\n"
     ]
    }
   ],
   "source": [
    "try:\n",
    "    a=int(input())\n",
    "    b=int(input())\n",
    "except ValueError as msg:\n",
    "    print(msg)\n",
    "except ZeroDivisionError as msg:\n",
    "    print(msg)\n",
    "\n",
    "else:\n",
    "    result=a/b\n",
    "    print(result)\n",
    "finally:\n",
    "    print(\"From Finally\")"
   ]
  },
  {
   "cell_type": "code",
   "execution_count": 47,
   "id": "6d204e90",
   "metadata": {},
   "outputs": [
    {
     "name": "stdout",
     "output_type": "stream",
     "text": [
      "Enter the first name: Himan\n",
      "Enter the last name: Salve\n",
      "Wrong name!Try another name!\n",
      "from finally\n"
     ]
    }
   ],
   "source": [
    "class name(Exception):\n",
    "    def __init__(self,msg):\n",
    "        self.msg=msg\n",
    "\n",
    "try:\n",
    "    fn=input(\"Enter the first name: \")\n",
    "    ln=input(\"Enter the last name: \")\n",
    "    if ln=='Salve':\n",
    "        raise name(\"Wrong name!Try another name!\")\n",
    "    if fn.isdigit() or ln.isdigit():\n",
    "        raise name(\"No digits allowed!\")\n",
    "    \n",
    "\n",
    "except ValueError as msg:\n",
    "    print(msg)\n",
    "except name as msg:\n",
    "    print(msg)\n",
    "\n",
    "else:\n",
    "    finalname=fn+ln\n",
    "    print(finalname)\n",
    "finally:\n",
    "    print('from finally')\n",
    "\n",
    "    \n",
    "    "
   ]
  },
  {
   "cell_type": "code",
   "execution_count": 53,
   "id": "2d9f3ba8",
   "metadata": {},
   "outputs": [],
   "source": [
    "class RM:\n",
    "    def test(self):\n",
    "        print(\"Real Madrid players:Ronaldo,Zidane,Bale,Benzema\")\n",
    "\n",
    "class PSG:\n",
    "    def test(self):\n",
    "        print(\"PSG players:Messi,Neymar,Beckham,Zlatan\")\n",
    "\n",
    "def printer(o):\n",
    "    print(o.test())\n",
    "    "
   ]
  },
  {
   "cell_type": "code",
   "execution_count": 54,
   "id": "5fb9fd7f",
   "metadata": {},
   "outputs": [],
   "source": [
    "o1=RM()"
   ]
  },
  {
   "cell_type": "code",
   "execution_count": 55,
   "id": "0f9e8442",
   "metadata": {},
   "outputs": [],
   "source": [
    "o2=PSG()"
   ]
  },
  {
   "cell_type": "code",
   "execution_count": 56,
   "id": "302bb3f3",
   "metadata": {},
   "outputs": [
    {
     "name": "stdout",
     "output_type": "stream",
     "text": [
      "Real Madrid players:Ronaldo,Zidane,Bale,Benzema\n",
      "None\n"
     ]
    }
   ],
   "source": [
    "printer(o1)"
   ]
  },
  {
   "cell_type": "code",
   "execution_count": 58,
   "id": "2fbd4f34",
   "metadata": {},
   "outputs": [
    {
     "name": "stdout",
     "output_type": "stream",
     "text": [
      "PSG players:Messi,Neymar,Beckham,Zlatan\n",
      "None\n"
     ]
    }
   ],
   "source": [
    "printer(o2)"
   ]
  },
  {
   "cell_type": "code",
   "execution_count": 26,
   "id": "efd12ecb",
   "metadata": {},
   "outputs": [],
   "source": [
    "#Static_Keyword,Static_Function\n",
    "class Batch_number:\n",
    "    batchnumber=\"\"\n",
    "\n",
    "    @staticmethod\n",
    "    def batch():\n",
    "        print(\"This is a static method\")\n",
    "        \n",
    "class course_name:\n",
    "    cname=\"\"\n",
    "    def course(self):\n",
    "        print(self.cname)\n",
    "    \n",
    "#Child class\n",
    "class Student(Batch_number,course_name):\n",
    "    '''\n",
    "    child class of course_name and Batch_number.\n",
    "    '''\n",
    "    def func(self):\n",
    "        print(\"Batch: \",self.batchnumber)\n",
    "        print(\"Course: \",self.cname)"
   ]
  },
  {
   "cell_type": "code",
   "execution_count": 27,
   "id": "25846f1c",
   "metadata": {},
   "outputs": [],
   "source": [
    "s1=Student()"
   ]
  },
  {
   "cell_type": "code",
   "execution_count": 7,
   "id": "10965290",
   "metadata": {},
   "outputs": [],
   "source": [
    "s1.batchnumber=1"
   ]
  },
  {
   "cell_type": "code",
   "execution_count": 8,
   "id": "c50e6d54",
   "metadata": {},
   "outputs": [
    {
     "data": {
      "text/plain": [
       "1"
      ]
     },
     "execution_count": 8,
     "metadata": {},
     "output_type": "execute_result"
    }
   ],
   "source": [
    "s1.batchnumber"
   ]
  },
  {
   "cell_type": "code",
   "execution_count": 9,
   "id": "f9e7f7f5",
   "metadata": {},
   "outputs": [],
   "source": [
    "s1.cname=\"FSDS 2.0\""
   ]
  },
  {
   "cell_type": "code",
   "execution_count": 10,
   "id": "f9ce6a30",
   "metadata": {},
   "outputs": [
    {
     "name": "stdout",
     "output_type": "stream",
     "text": [
      "Batch:  1\n",
      "Course:  FSDS 2.0\n"
     ]
    }
   ],
   "source": [
    "s1.func()"
   ]
  },
  {
   "cell_type": "code",
   "execution_count": 11,
   "id": "3eaf83a9",
   "metadata": {},
   "outputs": [],
   "source": [
    "Batch_number.batchnumber=3"
   ]
  },
  {
   "cell_type": "code",
   "execution_count": 12,
   "id": "f2b61d1f",
   "metadata": {},
   "outputs": [
    {
     "data": {
      "text/plain": [
       "1"
      ]
     },
     "execution_count": 12,
     "metadata": {},
     "output_type": "execute_result"
    }
   ],
   "source": [
    "s1.batchnumber"
   ]
  },
  {
   "cell_type": "code",
   "execution_count": 28,
   "id": "05e661e0",
   "metadata": {},
   "outputs": [
    {
     "name": "stdout",
     "output_type": "stream",
     "text": [
      "This is a static method\n"
     ]
    }
   ],
   "source": [
    "s1.batch()"
   ]
  },
  {
   "cell_type": "code",
   "execution_count": 1,
   "id": "7d002a2f",
   "metadata": {},
   "outputs": [
    {
     "name": "stdout",
     "output_type": "stream",
     "text": [
      "a\n",
      "Some problem with code,the error is: invalid literal for int() with base 10: 'a'\n",
      "From finally\n"
     ]
    }
   ],
   "source": [
    "try:\n",
    "    a=int(input())\n",
    "    b=int(input())\n",
    "    result=a/b\n",
    "    print(result)\n",
    "except Exception as e:\n",
    "    print(\"Some problem with code,the error is:\",e)\n",
    "else:\n",
    "    print('Code worked!')\n",
    "finally:\n",
    "    print('From finally')"
   ]
  },
  {
   "cell_type": "code",
   "execution_count": 2,
   "id": "090fa2f5",
   "metadata": {},
   "outputs": [
    {
     "name": "stdout",
     "output_type": "stream",
     "text": [
      "asasa\n"
     ]
    }
   ],
   "source": [
    "print('asasa')"
   ]
  },
  {
   "cell_type": "code",
   "execution_count": 7,
   "id": "9681ba79",
   "metadata": {},
   "outputs": [],
   "source": [
    "class test:\n",
    "    def func(self):\n",
    "        print('This is func from test')\n",
    "    def __str__(self):\n",
    "        return str(\"This is an object from class test.\")"
   ]
  },
  {
   "cell_type": "code",
   "execution_count": 8,
   "id": "b2b2b2fa",
   "metadata": {},
   "outputs": [],
   "source": [
    "t=test()"
   ]
  },
  {
   "cell_type": "code",
   "execution_count": 9,
   "id": "d03f552a",
   "metadata": {},
   "outputs": [
    {
     "data": {
      "text/plain": [
       "<__main__.test at 0x1dfb7578d60>"
      ]
     },
     "execution_count": 9,
     "metadata": {},
     "output_type": "execute_result"
    }
   ],
   "source": [
    "t"
   ]
  },
  {
   "cell_type": "code",
   "execution_count": 10,
   "id": "8808d3e2",
   "metadata": {},
   "outputs": [
    {
     "name": "stdout",
     "output_type": "stream",
     "text": [
      "This is an object from class test.\n"
     ]
    }
   ],
   "source": [
    "print(t)"
   ]
  },
  {
   "cell_type": "code",
   "execution_count": 9,
   "id": "8dc509f5",
   "metadata": {},
   "outputs": [],
   "source": [
    "def read():\n",
    "    try:\n",
    "        with open(\"functions task.txt\",'r') as file:\n",
    "            data=file.read()\n",
    "            return data\n",
    "    except Exception as e:\n",
    "                print(e)"
   ]
  },
  {
   "cell_type": "code",
   "execution_count": 10,
   "id": "845e5abe",
   "metadata": {},
   "outputs": [
    {
     "data": {
      "text/plain": [
       "'1 . you have to write a fun which will take string and return a len of \\nit without using a inbuilt fun len\\n2 . write a fun which will be able to print an index of all premitive element which you will pass \\n3 . Write a fun which will take input as a dict and give me out as a list of all the values \\neven in case of 2 level nesting it should work . \\n4 . write a fun which will take another function as an input and return me an output \\n5. write a function whihc will take multiple list as a input and give me concatnation of all the element as \\nand output \\n6 . write a function which will be able to take a list as an input return an index of each element \\nlike a inbuilt index function but even if we have repetative element it should return index \\n7 . Write a function which will whould return list of all the file name from a directory . \\n8  . write a function which will be able to show your system configuration . \\n9 . write a function which will be able to show date and time  . \\n10 . write a function whihc will be able to read a image file and show it to you .\\n11 . write a function which can read video file and play for you . \\n12  . write a function whihc can move a file from one directory to another directory . \\n13 . write a function which will be able to shutdonw your system . \\n14 . write a function whihc will be able to access your mail . \\n15 . write a func bywhcih i can send a mail to anyone \\n16. write a func to read a complete PDf file . \\n17. write a function to read a word file . \\n18 . write a function which can help you to filter only word file from a directory . \\n19 . write a function by which you can print an ip address of your system . \\n20 . write a function by which you will be able to append two PDF files . '"
      ]
     },
     "execution_count": 10,
     "metadata": {},
     "output_type": "execute_result"
    }
   ],
   "source": [
    "read()"
   ]
  },
  {
   "cell_type": "code",
   "execution_count": 11,
   "id": "bcb36136",
   "metadata": {},
   "outputs": [],
   "source": [
    "def write():\n",
    "    \n",
    "    try:\n",
    "        with open('test.txt','w') as file:\n",
    "            data=file.write(\"This is my data for file.\")\n",
    "    except Exception as e:\n",
    "        print(e)"
   ]
  },
  {
   "cell_type": "code",
   "execution_count": 27,
   "id": "7e5a2a42",
   "metadata": {},
   "outputs": [],
   "source": [
    "import logging \n",
    "\n",
    "logging.basicConfig(filename='file_class.log',level=logging.DEBUG,filemode='w',format=\"%(asctime)s %(levelname)s %(message)s\")\n",
    "\n",
    "class file:\n",
    "    \n",
    "    def __init__(self,filename):\n",
    "        self.filename=filename\n",
    "    \n",
    "    def read(self):\n",
    "        logging.info(\"This is a start of read operations.\")\n",
    "        try:\n",
    "            logging.info(\"I'm inside try block of read method.\")\n",
    "            with open(self.filename,'r') as file:\n",
    "                data=file.read()\n",
    "                logging.info(\"I'm able to read the file.\")\n",
    "                return data\n",
    "        except Exception as e:\n",
    "            #print(e)\n",
    "            logging.error(\"There is some issue with the read file operation. \")\n",
    "            logging.exception(e)\n",
    "            \n",
    "    def write(self):\n",
    "    \n",
    "        try:\n",
    "            with open(self.filename,'w') as file:\n",
    "                 data=file.write(\"This is my data for file, use it for your caus,use it well.\")\n",
    "        except Exception as e:\n",
    "            print(e)\n",
    "    \n",
    "    "
   ]
  },
  {
   "cell_type": "code",
   "execution_count": 28,
   "id": "e8fd9bb1",
   "metadata": {},
   "outputs": [],
   "source": [
    "file_obj=file(\"test1.txt\")"
   ]
  },
  {
   "cell_type": "code",
   "execution_count": 31,
   "id": "86694b9f",
   "metadata": {},
   "outputs": [
    {
     "data": {
      "text/plain": [
       "'This is my data for file, use it for your caus,use it well.'"
      ]
     },
     "execution_count": 31,
     "metadata": {},
     "output_type": "execute_result"
    }
   ],
   "source": [
    "file_obj.read()"
   ]
  },
  {
   "cell_type": "code",
   "execution_count": 30,
   "id": "c01d7615",
   "metadata": {},
   "outputs": [],
   "source": [
    "file_obj.write()"
   ]
  },
  {
   "cell_type": "code",
   "execution_count": null,
   "id": "e8b47b74",
   "metadata": {},
   "outputs": [],
   "source": []
  }
 ],
 "metadata": {
  "kernelspec": {
   "display_name": "Python 3",
   "language": "python",
   "name": "python3"
  },
  "language_info": {
   "codemirror_mode": {
    "name": "ipython",
    "version": 3
   },
   "file_extension": ".py",
   "mimetype": "text/x-python",
   "name": "python",
   "nbconvert_exporter": "python",
   "pygments_lexer": "ipython3",
   "version": "3.8.8"
  }
 },
 "nbformat": 4,
 "nbformat_minor": 5
}
